{
 "cells": [
  {
   "cell_type": "code",
   "execution_count": 1,
   "metadata": {},
   "outputs": [],
   "source": [
    "import numpy as np\n",
    "import pandas as pd\n",
    "import matplotlib.pyplot as plt\n",
    "import seaborn as sns\n",
    "import plotly.express as px\n",
    "from IPython import display"
   ]
  },
  {
   "cell_type": "code",
   "execution_count": 2,
   "metadata": {},
   "outputs": [],
   "source": [
    "#Read the CSV files\n",
    "store_df = pd.read_csv('store.csv')\n",
    "sales_df = pd.read_csv('sales.csv')"
   ]
  },
  {
   "cell_type": "code",
   "execution_count": 3,
   "metadata": {},
   "outputs": [],
   "source": [
    "#convert all string columns to lower case to ensure uniformity\n",
    "sales_df=sales_df.map(lambda x: x.lower() if isinstance(x,str) else x)\n",
    "store_df=store_df.map(lambda x: x.lower() if isinstance(x,str) else x)"
   ]
  },
  {
   "cell_type": "code",
   "execution_count": 4,
   "metadata": {},
   "outputs": [
    {
     "name": "stdout",
     "output_type": "stream",
     "text": [
      "<class 'pandas.core.frame.DataFrame'>\n",
      "RangeIndex: 2452 entries, 0 to 2451\n",
      "Data columns (total 34 columns):\n",
      " #   Column                         Non-Null Count  Dtype  \n",
      "---  ------                         --------------  -----  \n",
      " 0   STORE_KEY                      2452 non-null   int64  \n",
      " 1   STORE_NUMBER                   2452 non-null   int64  \n",
      " 2   ROW_EFFECTIVE_TIMESTAMP        2452 non-null   object \n",
      " 3   ROW_EXPIRATION_TIMESTAMP       2452 non-null   object \n",
      " 4   STORE_NAME                     2449 non-null   object \n",
      " 5   STORE_TYPE_CODE                2452 non-null   object \n",
      " 6   STORE_TYPE_NAME                2452 non-null   object \n",
      " 7   OPEN_DATE                      2452 non-null   object \n",
      " 8   CLOSE_DATE                     2452 non-null   object \n",
      " 9   CITY_NAME                      2446 non-null   object \n",
      " 10  STATE_CODE                     2449 non-null   object \n",
      " 11  STATE_NAME                     2450 non-null   object \n",
      " 12  COUNTRY_CODE                   2452 non-null   object \n",
      " 13  COUNTRY_NAME                   0 non-null      float64\n",
      " 14  TIME_ZONE_NAME                 2450 non-null   object \n",
      " 15  DMA_ID                         2448 non-null   float64\n",
      " 16  DMA_NAME                       2450 non-null   object \n",
      " 17  ROYALTY_RATE                   0 non-null      float64\n",
      " 18  STORE_STATUS                   2452 non-null   object \n",
      " 19  REGION_ID                      2448 non-null   float64\n",
      " 20  REGION_NAME                    2450 non-null   object \n",
      " 21  PRIOR_STORE_NUMBER             13 non-null     float64\n",
      " 22  STORE_LIVE_DATE                2172 non-null   object \n",
      " 23  STORE_FUNCTIONAL_STATUS        2452 non-null   object \n",
      " 24  GLOBAL_REGION_NAME             2452 non-null   object \n",
      " 25  GLOBAL_REGION_STORE_TYPE_NAME  2452 non-null   object \n",
      " 26  AREA_REGION                    2450 non-null   object \n",
      " 27  DISPATCH_GO_LIVE_DATE          1973 non-null   object \n",
      " 28  DOOR_DASH_GO_LIVE_DATE         1704 non-null   object \n",
      " 29  DOOR_DASH_MARKUP_GO_LIVE_DATE  2450 non-null   object \n",
      " 30  STORE_CONCEPT_NAME             2001 non-null   object \n",
      " 31  UBER_EATS_MARKUP_DATE          2450 non-null   object \n",
      " 32  EDW_CREATE_TIMESTAMP           2452 non-null   object \n",
      " 33  EDW_MODIFY_TIMESTAMP           2452 non-null   object \n",
      "dtypes: float64(5), int64(2), object(27)\n",
      "memory usage: 651.4+ KB\n"
     ]
    }
   ],
   "source": [
    "store_df.info()"
   ]
  },
  {
   "cell_type": "code",
   "execution_count": 5,
   "metadata": {},
   "outputs": [
    {
     "name": "stdout",
     "output_type": "stream",
     "text": [
      "<class 'pandas.core.frame.DataFrame'>\n",
      "RangeIndex: 632197 entries, 0 to 632196\n",
      "Data columns (total 15 columns):\n",
      " #   Column                            Non-Null Count   Dtype  \n",
      "---  ------                            --------------   -----  \n",
      " 0   STORE_KEY                         632197 non-null  int64  \n",
      " 1   STORE_NUMBER                      632197 non-null  int64  \n",
      " 2   OPEN_DATE                         632197 non-null  object \n",
      " 3   BUSINESS_DATE_KEY                 632197 non-null  int64  \n",
      " 4   BUSINESS_DATE                     632197 non-null  object \n",
      " 5   TEMP_CLOSE_INDICATOR              371985 non-null  float64\n",
      " 6   PROJECTION_INCLUDED_INDICATOR     632197 non-null  int64  \n",
      " 7   BUSINESS_DATE_FISCAL_DAY_OF_YEAR  632197 non-null  int64  \n",
      " 8   BUSINESS_DATE_FISCAL_YEAR         632197 non-null  int64  \n",
      " 9   COMP_BUSINESS_DATE_FISCAL_YEAR    632197 non-null  int64  \n",
      " 10  COMPARABLE_INDICATOR              632197 non-null  int64  \n",
      " 11  TRANSACTION_FINAL_COUNT           632197 non-null  int64  \n",
      " 12  NET_SALES_FINAL_USD_AMOUNT        632197 non-null  float64\n",
      " 13  PY_TRANSACTION_FINAL_COUNT        632197 non-null  int64  \n",
      " 14  PY_NET_SALES_FINAL_USD_AMOUNT     632197 non-null  float64\n",
      "dtypes: float64(3), int64(10), object(2)\n",
      "memory usage: 72.3+ MB\n"
     ]
    }
   ],
   "source": [
    "sales_df.info()"
   ]
  },
  {
   "cell_type": "code",
   "execution_count": 6,
   "metadata": {},
   "outputs": [
    {
     "data": {
      "text/html": [
       "<div>\n",
       "<style scoped>\n",
       "    .dataframe tbody tr th:only-of-type {\n",
       "        vertical-align: middle;\n",
       "    }\n",
       "\n",
       "    .dataframe tbody tr th {\n",
       "        vertical-align: top;\n",
       "    }\n",
       "\n",
       "    .dataframe thead th {\n",
       "        text-align: right;\n",
       "    }\n",
       "</style>\n",
       "<table border=\"1\" class=\"dataframe\">\n",
       "  <thead>\n",
       "    <tr style=\"text-align: right;\">\n",
       "      <th></th>\n",
       "      <th>STORE_KEY</th>\n",
       "      <th>STORE_NUMBER</th>\n",
       "      <th>OPEN_DATE</th>\n",
       "      <th>BUSINESS_DATE_KEY</th>\n",
       "      <th>BUSINESS_DATE</th>\n",
       "      <th>TEMP_CLOSE_INDICATOR</th>\n",
       "      <th>PROJECTION_INCLUDED_INDICATOR</th>\n",
       "      <th>BUSINESS_DATE_FISCAL_DAY_OF_YEAR</th>\n",
       "      <th>BUSINESS_DATE_FISCAL_YEAR</th>\n",
       "      <th>COMP_BUSINESS_DATE_FISCAL_YEAR</th>\n",
       "      <th>COMPARABLE_INDICATOR</th>\n",
       "      <th>TRANSACTION_FINAL_COUNT</th>\n",
       "      <th>NET_SALES_FINAL_USD_AMOUNT</th>\n",
       "      <th>PY_TRANSACTION_FINAL_COUNT</th>\n",
       "      <th>PY_NET_SALES_FINAL_USD_AMOUNT</th>\n",
       "    </tr>\n",
       "  </thead>\n",
       "  <tbody>\n",
       "    <tr>\n",
       "      <th>0</th>\n",
       "      <td>1402</td>\n",
       "      <td>580</td>\n",
       "      <td>10/5/2011</td>\n",
       "      <td>20230203</td>\n",
       "      <td>2/3/2023</td>\n",
       "      <td>0.0</td>\n",
       "      <td>0</td>\n",
       "      <td>34</td>\n",
       "      <td>2023</td>\n",
       "      <td>2022</td>\n",
       "      <td>1</td>\n",
       "      <td>201</td>\n",
       "      <td>4161.75</td>\n",
       "      <td>144</td>\n",
       "      <td>2752.42</td>\n",
       "    </tr>\n",
       "    <tr>\n",
       "      <th>1</th>\n",
       "      <td>2104</td>\n",
       "      <td>1323</td>\n",
       "      <td>11/21/2017</td>\n",
       "      <td>20221008</td>\n",
       "      <td>10/8/2022</td>\n",
       "      <td>0.0</td>\n",
       "      <td>0</td>\n",
       "      <td>287</td>\n",
       "      <td>2022</td>\n",
       "      <td>2021</td>\n",
       "      <td>1</td>\n",
       "      <td>249</td>\n",
       "      <td>5785.30</td>\n",
       "      <td>166</td>\n",
       "      <td>4407.43</td>\n",
       "    </tr>\n",
       "    <tr>\n",
       "      <th>2</th>\n",
       "      <td>1753</td>\n",
       "      <td>969</td>\n",
       "      <td>2/6/2006</td>\n",
       "      <td>20230330</td>\n",
       "      <td>3/30/2023</td>\n",
       "      <td>0.0</td>\n",
       "      <td>0</td>\n",
       "      <td>89</td>\n",
       "      <td>2023</td>\n",
       "      <td>2022</td>\n",
       "      <td>1</td>\n",
       "      <td>258</td>\n",
       "      <td>5695.29</td>\n",
       "      <td>254</td>\n",
       "      <td>5930.04</td>\n",
       "    </tr>\n",
       "    <tr>\n",
       "      <th>3</th>\n",
       "      <td>2443</td>\n",
       "      <td>1664</td>\n",
       "      <td>2/3/2020</td>\n",
       "      <td>20230307</td>\n",
       "      <td>3/7/2023</td>\n",
       "      <td>0.0</td>\n",
       "      <td>0</td>\n",
       "      <td>66</td>\n",
       "      <td>2023</td>\n",
       "      <td>2022</td>\n",
       "      <td>1</td>\n",
       "      <td>296</td>\n",
       "      <td>6597.23</td>\n",
       "      <td>153</td>\n",
       "      <td>3726.12</td>\n",
       "    </tr>\n",
       "    <tr>\n",
       "      <th>4</th>\n",
       "      <td>1859</td>\n",
       "      <td>1078</td>\n",
       "      <td>3/11/2016</td>\n",
       "      <td>20221105</td>\n",
       "      <td>11/5/2022</td>\n",
       "      <td>0.0</td>\n",
       "      <td>0</td>\n",
       "      <td>315</td>\n",
       "      <td>2022</td>\n",
       "      <td>2021</td>\n",
       "      <td>1</td>\n",
       "      <td>188</td>\n",
       "      <td>4100.34</td>\n",
       "      <td>146</td>\n",
       "      <td>3504.75</td>\n",
       "    </tr>\n",
       "  </tbody>\n",
       "</table>\n",
       "</div>"
      ],
      "text/plain": [
       "   STORE_KEY  STORE_NUMBER   OPEN_DATE  BUSINESS_DATE_KEY BUSINESS_DATE  \\\n",
       "0       1402           580   10/5/2011           20230203      2/3/2023   \n",
       "1       2104          1323  11/21/2017           20221008     10/8/2022   \n",
       "2       1753           969    2/6/2006           20230330     3/30/2023   \n",
       "3       2443          1664    2/3/2020           20230307      3/7/2023   \n",
       "4       1859          1078   3/11/2016           20221105     11/5/2022   \n",
       "\n",
       "   TEMP_CLOSE_INDICATOR  PROJECTION_INCLUDED_INDICATOR  \\\n",
       "0                   0.0                              0   \n",
       "1                   0.0                              0   \n",
       "2                   0.0                              0   \n",
       "3                   0.0                              0   \n",
       "4                   0.0                              0   \n",
       "\n",
       "   BUSINESS_DATE_FISCAL_DAY_OF_YEAR  BUSINESS_DATE_FISCAL_YEAR  \\\n",
       "0                                34                       2023   \n",
       "1                               287                       2022   \n",
       "2                                89                       2023   \n",
       "3                                66                       2023   \n",
       "4                               315                       2022   \n",
       "\n",
       "   COMP_BUSINESS_DATE_FISCAL_YEAR  COMPARABLE_INDICATOR  \\\n",
       "0                            2022                     1   \n",
       "1                            2021                     1   \n",
       "2                            2022                     1   \n",
       "3                            2022                     1   \n",
       "4                            2021                     1   \n",
       "\n",
       "   TRANSACTION_FINAL_COUNT  NET_SALES_FINAL_USD_AMOUNT  \\\n",
       "0                      201                     4161.75   \n",
       "1                      249                     5785.30   \n",
       "2                      258                     5695.29   \n",
       "3                      296                     6597.23   \n",
       "4                      188                     4100.34   \n",
       "\n",
       "   PY_TRANSACTION_FINAL_COUNT  PY_NET_SALES_FINAL_USD_AMOUNT  \n",
       "0                         144                        2752.42  \n",
       "1                         166                        4407.43  \n",
       "2                         254                        5930.04  \n",
       "3                         153                        3726.12  \n",
       "4                         146                        3504.75  "
      ]
     },
     "execution_count": 6,
     "metadata": {},
     "output_type": "execute_result"
    }
   ],
   "source": [
    "sales_df.head()"
   ]
  },
  {
   "cell_type": "code",
   "execution_count": 7,
   "metadata": {},
   "outputs": [
    {
     "data": {
      "text/html": [
       "<div>\n",
       "<style scoped>\n",
       "    .dataframe tbody tr th:only-of-type {\n",
       "        vertical-align: middle;\n",
       "    }\n",
       "\n",
       "    .dataframe tbody tr th {\n",
       "        vertical-align: top;\n",
       "    }\n",
       "\n",
       "    .dataframe thead th {\n",
       "        text-align: right;\n",
       "    }\n",
       "</style>\n",
       "<table border=\"1\" class=\"dataframe\">\n",
       "  <thead>\n",
       "    <tr style=\"text-align: right;\">\n",
       "      <th></th>\n",
       "      <th>STORE_KEY</th>\n",
       "      <th>STORE_NUMBER</th>\n",
       "      <th>ROW_EFFECTIVE_TIMESTAMP</th>\n",
       "      <th>ROW_EXPIRATION_TIMESTAMP</th>\n",
       "      <th>STORE_NAME</th>\n",
       "      <th>STORE_TYPE_CODE</th>\n",
       "      <th>STORE_TYPE_NAME</th>\n",
       "      <th>OPEN_DATE</th>\n",
       "      <th>CLOSE_DATE</th>\n",
       "      <th>CITY_NAME</th>\n",
       "      <th>...</th>\n",
       "      <th>GLOBAL_REGION_NAME</th>\n",
       "      <th>GLOBAL_REGION_STORE_TYPE_NAME</th>\n",
       "      <th>AREA_REGION</th>\n",
       "      <th>DISPATCH_GO_LIVE_DATE</th>\n",
       "      <th>DOOR_DASH_GO_LIVE_DATE</th>\n",
       "      <th>DOOR_DASH_MARKUP_GO_LIVE_DATE</th>\n",
       "      <th>STORE_CONCEPT_NAME</th>\n",
       "      <th>UBER_EATS_MARKUP_DATE</th>\n",
       "      <th>EDW_CREATE_TIMESTAMP</th>\n",
       "      <th>EDW_MODIFY_TIMESTAMP</th>\n",
       "    </tr>\n",
       "  </thead>\n",
       "  <tbody>\n",
       "    <tr>\n",
       "      <th>0</th>\n",
       "      <td>1319795</td>\n",
       "      <td>2821</td>\n",
       "      <td>2024-05-21t02:07:19.714z</td>\n",
       "      <td>2024-05-21t02:07:19.714z</td>\n",
       "      <td>ny2821</td>\n",
       "      <td>fran</td>\n",
       "      <td>franchise</td>\n",
       "      <td>12/31/1999</td>\n",
       "      <td>12/31/1999</td>\n",
       "      <td>schenectady</td>\n",
       "      <td>...</td>\n",
       "      <td>domestic</td>\n",
       "      <td>domesticfranchise</td>\n",
       "      <td>albany-schenectady-troy</td>\n",
       "      <td>NaN</td>\n",
       "      <td>NaN</td>\n",
       "      <td>12/31/1999</td>\n",
       "      <td>NaN</td>\n",
       "      <td>12/31/1999</td>\n",
       "      <td>2024-05-21t02:07:19.714z</td>\n",
       "      <td>2024-05-21t02:07:19.714z</td>\n",
       "    </tr>\n",
       "    <tr>\n",
       "      <th>1</th>\n",
       "      <td>1319796</td>\n",
       "      <td>2822</td>\n",
       "      <td>2024-05-21t02:07:19.714z</td>\n",
       "      <td>2024-05-21t02:07:19.714z</td>\n",
       "      <td>fl2822</td>\n",
       "      <td>fran</td>\n",
       "      <td>franchise</td>\n",
       "      <td>12/31/1999</td>\n",
       "      <td>12/31/1999</td>\n",
       "      <td>palm bay</td>\n",
       "      <td>...</td>\n",
       "      <td>domestic</td>\n",
       "      <td>domesticfranchise</td>\n",
       "      <td>jacksonville</td>\n",
       "      <td>NaN</td>\n",
       "      <td>NaN</td>\n",
       "      <td>12/31/1999</td>\n",
       "      <td>NaN</td>\n",
       "      <td>12/31/1999</td>\n",
       "      <td>2024-05-21t02:07:19.714z</td>\n",
       "      <td>2024-05-21t02:07:19.714z</td>\n",
       "    </tr>\n",
       "    <tr>\n",
       "      <th>2</th>\n",
       "      <td>1318778</td>\n",
       "      <td>2819</td>\n",
       "      <td>2024-05-21t02:07:19.714z</td>\n",
       "      <td>2024-05-21t02:07:19.714z</td>\n",
       "      <td>ny2819</td>\n",
       "      <td>fran</td>\n",
       "      <td>franchise</td>\n",
       "      <td>12/31/1999</td>\n",
       "      <td>12/31/1999</td>\n",
       "      <td>staten island</td>\n",
       "      <td>...</td>\n",
       "      <td>domestic</td>\n",
       "      <td>domesticfranchise</td>\n",
       "      <td>new york</td>\n",
       "      <td>NaN</td>\n",
       "      <td>NaN</td>\n",
       "      <td>12/31/1999</td>\n",
       "      <td>NaN</td>\n",
       "      <td>12/31/1999</td>\n",
       "      <td>2024-05-21t02:07:19.714z</td>\n",
       "      <td>2024-05-21t02:07:19.714z</td>\n",
       "    </tr>\n",
       "    <tr>\n",
       "      <th>3</th>\n",
       "      <td>1318779</td>\n",
       "      <td>2820</td>\n",
       "      <td>2024-05-21t02:07:19.714z</td>\n",
       "      <td>2024-05-21t02:07:19.714z</td>\n",
       "      <td>oh2820</td>\n",
       "      <td>fran</td>\n",
       "      <td>franchise</td>\n",
       "      <td>12/31/1999</td>\n",
       "      <td>12/31/1999</td>\n",
       "      <td>huber heights</td>\n",
       "      <td>...</td>\n",
       "      <td>domestic</td>\n",
       "      <td>domesticfranchise</td>\n",
       "      <td>dayton</td>\n",
       "      <td>NaN</td>\n",
       "      <td>NaN</td>\n",
       "      <td>12/31/1999</td>\n",
       "      <td>NaN</td>\n",
       "      <td>12/31/1999</td>\n",
       "      <td>2024-05-21t02:07:19.714z</td>\n",
       "      <td>2024-05-21t02:07:19.714z</td>\n",
       "    </tr>\n",
       "    <tr>\n",
       "      <th>4</th>\n",
       "      <td>1318780</td>\n",
       "      <td>2816</td>\n",
       "      <td>2024-05-21t02:07:19.714z</td>\n",
       "      <td>2024-05-21t02:07:19.714z</td>\n",
       "      <td>al2816</td>\n",
       "      <td>fran</td>\n",
       "      <td>franchise</td>\n",
       "      <td>12/31/1999</td>\n",
       "      <td>12/31/1999</td>\n",
       "      <td>pell city</td>\n",
       "      <td>...</td>\n",
       "      <td>domestic</td>\n",
       "      <td>domesticfranchise</td>\n",
       "      <td>birmingham (ann and tusc)</td>\n",
       "      <td>NaN</td>\n",
       "      <td>NaN</td>\n",
       "      <td>12/31/1999</td>\n",
       "      <td>NaN</td>\n",
       "      <td>12/31/1999</td>\n",
       "      <td>2024-05-21t02:07:19.714z</td>\n",
       "      <td>2024-05-21t02:07:19.714z</td>\n",
       "    </tr>\n",
       "  </tbody>\n",
       "</table>\n",
       "<p>5 rows × 34 columns</p>\n",
       "</div>"
      ],
      "text/plain": [
       "   STORE_KEY  STORE_NUMBER   ROW_EFFECTIVE_TIMESTAMP  \\\n",
       "0    1319795          2821  2024-05-21t02:07:19.714z   \n",
       "1    1319796          2822  2024-05-21t02:07:19.714z   \n",
       "2    1318778          2819  2024-05-21t02:07:19.714z   \n",
       "3    1318779          2820  2024-05-21t02:07:19.714z   \n",
       "4    1318780          2816  2024-05-21t02:07:19.714z   \n",
       "\n",
       "   ROW_EXPIRATION_TIMESTAMP STORE_NAME STORE_TYPE_CODE STORE_TYPE_NAME  \\\n",
       "0  2024-05-21t02:07:19.714z     ny2821            fran       franchise   \n",
       "1  2024-05-21t02:07:19.714z     fl2822            fran       franchise   \n",
       "2  2024-05-21t02:07:19.714z     ny2819            fran       franchise   \n",
       "3  2024-05-21t02:07:19.714z     oh2820            fran       franchise   \n",
       "4  2024-05-21t02:07:19.714z     al2816            fran       franchise   \n",
       "\n",
       "    OPEN_DATE  CLOSE_DATE      CITY_NAME  ... GLOBAL_REGION_NAME  \\\n",
       "0  12/31/1999  12/31/1999    schenectady  ...           domestic   \n",
       "1  12/31/1999  12/31/1999       palm bay  ...           domestic   \n",
       "2  12/31/1999  12/31/1999  staten island  ...           domestic   \n",
       "3  12/31/1999  12/31/1999  huber heights  ...           domestic   \n",
       "4  12/31/1999  12/31/1999      pell city  ...           domestic   \n",
       "\n",
       "  GLOBAL_REGION_STORE_TYPE_NAME                AREA_REGION  \\\n",
       "0             domesticfranchise    albany-schenectady-troy   \n",
       "1             domesticfranchise               jacksonville   \n",
       "2             domesticfranchise                   new york   \n",
       "3             domesticfranchise                     dayton   \n",
       "4             domesticfranchise  birmingham (ann and tusc)   \n",
       "\n",
       "   DISPATCH_GO_LIVE_DATE DOOR_DASH_GO_LIVE_DATE  \\\n",
       "0                    NaN                    NaN   \n",
       "1                    NaN                    NaN   \n",
       "2                    NaN                    NaN   \n",
       "3                    NaN                    NaN   \n",
       "4                    NaN                    NaN   \n",
       "\n",
       "   DOOR_DASH_MARKUP_GO_LIVE_DATE STORE_CONCEPT_NAME  UBER_EATS_MARKUP_DATE  \\\n",
       "0                     12/31/1999                NaN             12/31/1999   \n",
       "1                     12/31/1999                NaN             12/31/1999   \n",
       "2                     12/31/1999                NaN             12/31/1999   \n",
       "3                     12/31/1999                NaN             12/31/1999   \n",
       "4                     12/31/1999                NaN             12/31/1999   \n",
       "\n",
       "       EDW_CREATE_TIMESTAMP      EDW_MODIFY_TIMESTAMP  \n",
       "0  2024-05-21t02:07:19.714z  2024-05-21t02:07:19.714z  \n",
       "1  2024-05-21t02:07:19.714z  2024-05-21t02:07:19.714z  \n",
       "2  2024-05-21t02:07:19.714z  2024-05-21t02:07:19.714z  \n",
       "3  2024-05-21t02:07:19.714z  2024-05-21t02:07:19.714z  \n",
       "4  2024-05-21t02:07:19.714z  2024-05-21t02:07:19.714z  \n",
       "\n",
       "[5 rows x 34 columns]"
      ]
     },
     "execution_count": 7,
     "metadata": {},
     "output_type": "execute_result"
    }
   ],
   "source": [
    "store_df.head()"
   ]
  },
  {
   "cell_type": "code",
   "execution_count": 8,
   "metadata": {},
   "outputs": [
    {
     "data": {
      "text/html": [
       "<div>\n",
       "<style scoped>\n",
       "    .dataframe tbody tr th:only-of-type {\n",
       "        vertical-align: middle;\n",
       "    }\n",
       "\n",
       "    .dataframe tbody tr th {\n",
       "        vertical-align: top;\n",
       "    }\n",
       "\n",
       "    .dataframe thead th {\n",
       "        text-align: right;\n",
       "    }\n",
       "</style>\n",
       "<table border=\"1\" class=\"dataframe\">\n",
       "  <thead>\n",
       "    <tr style=\"text-align: right;\">\n",
       "      <th></th>\n",
       "      <th>STORE_KEY</th>\n",
       "      <th>STORE_NUMBER</th>\n",
       "      <th>ROW_EFFECTIVE_TIMESTAMP</th>\n",
       "      <th>ROW_EXPIRATION_TIMESTAMP</th>\n",
       "      <th>STORE_NAME</th>\n",
       "      <th>STORE_TYPE_CODE</th>\n",
       "      <th>STORE_TYPE_NAME</th>\n",
       "      <th>OPEN_DATE</th>\n",
       "      <th>CLOSE_DATE</th>\n",
       "      <th>CITY_NAME</th>\n",
       "      <th>...</th>\n",
       "      <th>GLOBAL_REGION_NAME</th>\n",
       "      <th>GLOBAL_REGION_STORE_TYPE_NAME</th>\n",
       "      <th>AREA_REGION</th>\n",
       "      <th>DISPATCH_GO_LIVE_DATE</th>\n",
       "      <th>DOOR_DASH_GO_LIVE_DATE</th>\n",
       "      <th>DOOR_DASH_MARKUP_GO_LIVE_DATE</th>\n",
       "      <th>STORE_CONCEPT_NAME</th>\n",
       "      <th>UBER_EATS_MARKUP_DATE</th>\n",
       "      <th>EDW_CREATE_TIMESTAMP</th>\n",
       "      <th>EDW_MODIFY_TIMESTAMP</th>\n",
       "    </tr>\n",
       "  </thead>\n",
       "  <tbody>\n",
       "    <tr>\n",
       "      <th>2450</th>\n",
       "      <td>-7</td>\n",
       "      <td>-7</td>\n",
       "      <td>2000-04-15t00:00:00.000z</td>\n",
       "      <td>2099-12-31t00:00:00.000z</td>\n",
       "      <td>NaN</td>\n",
       "      <td>fran</td>\n",
       "      <td>franchise</td>\n",
       "      <td>4/15/2000</td>\n",
       "      <td>12/31/1999</td>\n",
       "      <td>NaN</td>\n",
       "      <td>...</td>\n",
       "      <td>domestic</td>\n",
       "      <td>domesticfranchise</td>\n",
       "      <td>NaN</td>\n",
       "      <td>NaN</td>\n",
       "      <td>NaN</td>\n",
       "      <td>NaN</td>\n",
       "      <td>NaN</td>\n",
       "      <td>NaN</td>\n",
       "      <td>2023-06-13t20:39:01.015z</td>\n",
       "      <td>2023-06-13t20:39:01.015z</td>\n",
       "    </tr>\n",
       "    <tr>\n",
       "      <th>2451</th>\n",
       "      <td>-1</td>\n",
       "      <td>-1</td>\n",
       "      <td>1998-04-14t00:00:00.000z</td>\n",
       "      <td>2099-12-31t00:00:00.000z</td>\n",
       "      <td>NaN</td>\n",
       "      <td>fran</td>\n",
       "      <td>franchise</td>\n",
       "      <td>4/14/1998</td>\n",
       "      <td>12/31/1999</td>\n",
       "      <td>NaN</td>\n",
       "      <td>...</td>\n",
       "      <td>domestic</td>\n",
       "      <td>domesticfranchise</td>\n",
       "      <td>NaN</td>\n",
       "      <td>NaN</td>\n",
       "      <td>NaN</td>\n",
       "      <td>NaN</td>\n",
       "      <td>NaN</td>\n",
       "      <td>NaN</td>\n",
       "      <td>2023-06-13t20:39:01.015z</td>\n",
       "      <td>2023-06-13t20:39:01.015z</td>\n",
       "    </tr>\n",
       "  </tbody>\n",
       "</table>\n",
       "<p>2 rows × 34 columns</p>\n",
       "</div>"
      ],
      "text/plain": [
       "      STORE_KEY  STORE_NUMBER   ROW_EFFECTIVE_TIMESTAMP  \\\n",
       "2450         -7            -7  2000-04-15t00:00:00.000z   \n",
       "2451         -1            -1  1998-04-14t00:00:00.000z   \n",
       "\n",
       "      ROW_EXPIRATION_TIMESTAMP STORE_NAME STORE_TYPE_CODE STORE_TYPE_NAME  \\\n",
       "2450  2099-12-31t00:00:00.000z        NaN            fran       franchise   \n",
       "2451  2099-12-31t00:00:00.000z        NaN            fran       franchise   \n",
       "\n",
       "      OPEN_DATE  CLOSE_DATE CITY_NAME  ... GLOBAL_REGION_NAME  \\\n",
       "2450  4/15/2000  12/31/1999       NaN  ...           domestic   \n",
       "2451  4/14/1998  12/31/1999       NaN  ...           domestic   \n",
       "\n",
       "     GLOBAL_REGION_STORE_TYPE_NAME AREA_REGION  DISPATCH_GO_LIVE_DATE  \\\n",
       "2450             domesticfranchise         NaN                    NaN   \n",
       "2451             domesticfranchise         NaN                    NaN   \n",
       "\n",
       "     DOOR_DASH_GO_LIVE_DATE  DOOR_DASH_MARKUP_GO_LIVE_DATE STORE_CONCEPT_NAME  \\\n",
       "2450                    NaN                            NaN                NaN   \n",
       "2451                    NaN                            NaN                NaN   \n",
       "\n",
       "      UBER_EATS_MARKUP_DATE      EDW_CREATE_TIMESTAMP  \\\n",
       "2450                    NaN  2023-06-13t20:39:01.015z   \n",
       "2451                    NaN  2023-06-13t20:39:01.015z   \n",
       "\n",
       "          EDW_MODIFY_TIMESTAMP  \n",
       "2450  2023-06-13t20:39:01.015z  \n",
       "2451  2023-06-13t20:39:01.015z  \n",
       "\n",
       "[2 rows x 34 columns]"
      ]
     },
     "execution_count": 8,
     "metadata": {},
     "output_type": "execute_result"
    }
   ],
   "source": [
    "store_df[store_df['STORE_NUMBER']<0] #remove these entries"
   ]
  },
  {
   "cell_type": "code",
   "execution_count": 9,
   "metadata": {},
   "outputs": [],
   "source": [
    "store_df = store_df.drop(index=[2450,2451])"
   ]
  },
  {
   "cell_type": "code",
   "execution_count": 11,
   "metadata": {},
   "outputs": [],
   "source": [
    "store_df = store_df.drop(columns=['STORE_KEY','STORE_TYPE_CODE','COUNTRY_NAME','ROYALTY_RATE','PRIOR_STORE_NUMBER','EDW_CREATE_TIMESTAMP','EDW_MODIFY_TIMESTAMP','ROW_EXPIRATION_TIMESTAMP','STATE_CODE']) #These features are not required"
   ]
  },
  {
   "cell_type": "code",
   "execution_count": 12,
   "metadata": {},
   "outputs": [
    {
     "data": {
      "text/html": [
       "<div>\n",
       "<style scoped>\n",
       "    .dataframe tbody tr th:only-of-type {\n",
       "        vertical-align: middle;\n",
       "    }\n",
       "\n",
       "    .dataframe tbody tr th {\n",
       "        vertical-align: top;\n",
       "    }\n",
       "\n",
       "    .dataframe thead th {\n",
       "        text-align: right;\n",
       "    }\n",
       "</style>\n",
       "<table border=\"1\" class=\"dataframe\">\n",
       "  <thead>\n",
       "    <tr style=\"text-align: right;\">\n",
       "      <th></th>\n",
       "      <th>STORE_NUMBER</th>\n",
       "      <th>ROW_EFFECTIVE_TIMESTAMP</th>\n",
       "      <th>STORE_NAME</th>\n",
       "      <th>STORE_TYPE_NAME</th>\n",
       "      <th>OPEN_DATE</th>\n",
       "      <th>CLOSE_DATE</th>\n",
       "      <th>CITY_NAME</th>\n",
       "      <th>STATE_NAME</th>\n",
       "      <th>COUNTRY_CODE</th>\n",
       "      <th>TIME_ZONE_NAME</th>\n",
       "      <th>...</th>\n",
       "      <th>STORE_LIVE_DATE</th>\n",
       "      <th>STORE_FUNCTIONAL_STATUS</th>\n",
       "      <th>GLOBAL_REGION_NAME</th>\n",
       "      <th>GLOBAL_REGION_STORE_TYPE_NAME</th>\n",
       "      <th>AREA_REGION</th>\n",
       "      <th>DISPATCH_GO_LIVE_DATE</th>\n",
       "      <th>DOOR_DASH_GO_LIVE_DATE</th>\n",
       "      <th>DOOR_DASH_MARKUP_GO_LIVE_DATE</th>\n",
       "      <th>STORE_CONCEPT_NAME</th>\n",
       "      <th>UBER_EATS_MARKUP_DATE</th>\n",
       "    </tr>\n",
       "  </thead>\n",
       "  <tbody>\n",
       "    <tr>\n",
       "      <th>0</th>\n",
       "      <td>2821</td>\n",
       "      <td>2024-05-21t02:07:19.714z</td>\n",
       "      <td>ny2821</td>\n",
       "      <td>franchise</td>\n",
       "      <td>12/31/1999</td>\n",
       "      <td>12/31/1999</td>\n",
       "      <td>schenectady</td>\n",
       "      <td>new york</td>\n",
       "      <td>usa</td>\n",
       "      <td>eastern</td>\n",
       "      <td>...</td>\n",
       "      <td>NaN</td>\n",
       "      <td>signed lease</td>\n",
       "      <td>domestic</td>\n",
       "      <td>domesticfranchise</td>\n",
       "      <td>albany-schenectady-troy</td>\n",
       "      <td>NaN</td>\n",
       "      <td>NaN</td>\n",
       "      <td>12/31/1999</td>\n",
       "      <td>NaN</td>\n",
       "      <td>12/31/1999</td>\n",
       "    </tr>\n",
       "    <tr>\n",
       "      <th>1</th>\n",
       "      <td>2822</td>\n",
       "      <td>2024-05-21t02:07:19.714z</td>\n",
       "      <td>fl2822</td>\n",
       "      <td>franchise</td>\n",
       "      <td>12/31/1999</td>\n",
       "      <td>12/31/1999</td>\n",
       "      <td>palm bay</td>\n",
       "      <td>florida</td>\n",
       "      <td>usa</td>\n",
       "      <td>unknown</td>\n",
       "      <td>...</td>\n",
       "      <td>NaN</td>\n",
       "      <td>signed lease</td>\n",
       "      <td>domestic</td>\n",
       "      <td>domesticfranchise</td>\n",
       "      <td>jacksonville</td>\n",
       "      <td>NaN</td>\n",
       "      <td>NaN</td>\n",
       "      <td>12/31/1999</td>\n",
       "      <td>NaN</td>\n",
       "      <td>12/31/1999</td>\n",
       "    </tr>\n",
       "    <tr>\n",
       "      <th>2</th>\n",
       "      <td>2819</td>\n",
       "      <td>2024-05-21t02:07:19.714z</td>\n",
       "      <td>ny2819</td>\n",
       "      <td>franchise</td>\n",
       "      <td>12/31/1999</td>\n",
       "      <td>12/31/1999</td>\n",
       "      <td>staten island</td>\n",
       "      <td>new york</td>\n",
       "      <td>usa</td>\n",
       "      <td>unknown</td>\n",
       "      <td>...</td>\n",
       "      <td>NaN</td>\n",
       "      <td>signed lease</td>\n",
       "      <td>domestic</td>\n",
       "      <td>domesticfranchise</td>\n",
       "      <td>new york</td>\n",
       "      <td>NaN</td>\n",
       "      <td>NaN</td>\n",
       "      <td>12/31/1999</td>\n",
       "      <td>NaN</td>\n",
       "      <td>12/31/1999</td>\n",
       "    </tr>\n",
       "    <tr>\n",
       "      <th>3</th>\n",
       "      <td>2820</td>\n",
       "      <td>2024-05-21t02:07:19.714z</td>\n",
       "      <td>oh2820</td>\n",
       "      <td>franchise</td>\n",
       "      <td>12/31/1999</td>\n",
       "      <td>12/31/1999</td>\n",
       "      <td>huber heights</td>\n",
       "      <td>ohio</td>\n",
       "      <td>usa</td>\n",
       "      <td>unknown</td>\n",
       "      <td>...</td>\n",
       "      <td>NaN</td>\n",
       "      <td>signed lease</td>\n",
       "      <td>domestic</td>\n",
       "      <td>domesticfranchise</td>\n",
       "      <td>dayton</td>\n",
       "      <td>NaN</td>\n",
       "      <td>NaN</td>\n",
       "      <td>12/31/1999</td>\n",
       "      <td>NaN</td>\n",
       "      <td>12/31/1999</td>\n",
       "    </tr>\n",
       "    <tr>\n",
       "      <th>4</th>\n",
       "      <td>2816</td>\n",
       "      <td>2024-05-21t02:07:19.714z</td>\n",
       "      <td>al2816</td>\n",
       "      <td>franchise</td>\n",
       "      <td>12/31/1999</td>\n",
       "      <td>12/31/1999</td>\n",
       "      <td>pell city</td>\n",
       "      <td>alabama</td>\n",
       "      <td>usa</td>\n",
       "      <td>unknown</td>\n",
       "      <td>...</td>\n",
       "      <td>NaN</td>\n",
       "      <td>signed lease</td>\n",
       "      <td>domestic</td>\n",
       "      <td>domesticfranchise</td>\n",
       "      <td>birmingham (ann and tusc)</td>\n",
       "      <td>NaN</td>\n",
       "      <td>NaN</td>\n",
       "      <td>12/31/1999</td>\n",
       "      <td>NaN</td>\n",
       "      <td>12/31/1999</td>\n",
       "    </tr>\n",
       "  </tbody>\n",
       "</table>\n",
       "<p>5 rows × 25 columns</p>\n",
       "</div>"
      ],
      "text/plain": [
       "   STORE_NUMBER   ROW_EFFECTIVE_TIMESTAMP STORE_NAME STORE_TYPE_NAME  \\\n",
       "0          2821  2024-05-21t02:07:19.714z     ny2821       franchise   \n",
       "1          2822  2024-05-21t02:07:19.714z     fl2822       franchise   \n",
       "2          2819  2024-05-21t02:07:19.714z     ny2819       franchise   \n",
       "3          2820  2024-05-21t02:07:19.714z     oh2820       franchise   \n",
       "4          2816  2024-05-21t02:07:19.714z     al2816       franchise   \n",
       "\n",
       "    OPEN_DATE  CLOSE_DATE      CITY_NAME STATE_NAME COUNTRY_CODE  \\\n",
       "0  12/31/1999  12/31/1999    schenectady   new york          usa   \n",
       "1  12/31/1999  12/31/1999       palm bay    florida          usa   \n",
       "2  12/31/1999  12/31/1999  staten island   new york          usa   \n",
       "3  12/31/1999  12/31/1999  huber heights       ohio          usa   \n",
       "4  12/31/1999  12/31/1999      pell city    alabama          usa   \n",
       "\n",
       "  TIME_ZONE_NAME  ...  STORE_LIVE_DATE STORE_FUNCTIONAL_STATUS  \\\n",
       "0        eastern  ...              NaN            signed lease   \n",
       "1        unknown  ...              NaN            signed lease   \n",
       "2        unknown  ...              NaN            signed lease   \n",
       "3        unknown  ...              NaN            signed lease   \n",
       "4        unknown  ...              NaN            signed lease   \n",
       "\n",
       "  GLOBAL_REGION_NAME  GLOBAL_REGION_STORE_TYPE_NAME  \\\n",
       "0           domestic              domesticfranchise   \n",
       "1           domestic              domesticfranchise   \n",
       "2           domestic              domesticfranchise   \n",
       "3           domestic              domesticfranchise   \n",
       "4           domestic              domesticfranchise   \n",
       "\n",
       "                 AREA_REGION DISPATCH_GO_LIVE_DATE DOOR_DASH_GO_LIVE_DATE  \\\n",
       "0    albany-schenectady-troy                   NaN                    NaN   \n",
       "1               jacksonville                   NaN                    NaN   \n",
       "2                   new york                   NaN                    NaN   \n",
       "3                     dayton                   NaN                    NaN   \n",
       "4  birmingham (ann and tusc)                   NaN                    NaN   \n",
       "\n",
       "  DOOR_DASH_MARKUP_GO_LIVE_DATE STORE_CONCEPT_NAME UBER_EATS_MARKUP_DATE  \n",
       "0                    12/31/1999                NaN            12/31/1999  \n",
       "1                    12/31/1999                NaN            12/31/1999  \n",
       "2                    12/31/1999                NaN            12/31/1999  \n",
       "3                    12/31/1999                NaN            12/31/1999  \n",
       "4                    12/31/1999                NaN            12/31/1999  \n",
       "\n",
       "[5 rows x 25 columns]"
      ]
     },
     "execution_count": 12,
     "metadata": {},
     "output_type": "execute_result"
    }
   ],
   "source": [
    "store_df.head()"
   ]
  },
  {
   "cell_type": "code",
   "execution_count": 13,
   "metadata": {},
   "outputs": [
    {
     "data": {
      "text/plain": [
       "STORE_FUNCTIONAL_STATUS\n",
       "operational                 2001\n",
       "signed lease                 246\n",
       "closed                       141\n",
       "transfer                      29\n",
       "terminated da obligation      28\n",
       "temporary closure              3\n",
       "active da obligation           2\n",
       "Name: count, dtype: int64"
      ]
     },
     "execution_count": 13,
     "metadata": {},
     "output_type": "execute_result"
    }
   ],
   "source": [
    "store_df['STORE_FUNCTIONAL_STATUS'].value_counts()"
   ]
  },
  {
   "cell_type": "code",
   "execution_count": 14,
   "metadata": {},
   "outputs": [],
   "source": [
    "#We need to remove the stores which are closed\n",
    "\n",
    "store_df = store_df[store_df['STORE_FUNCTIONAL_STATUS']!='Closed']"
   ]
  },
  {
   "cell_type": "code",
   "execution_count": 15,
   "metadata": {},
   "outputs": [
    {
     "data": {
      "application/vnd.plotly.v1+json": {
       "config": {
        "plotlyServerURL": "https://plot.ly"
       },
       "data": [
        {
         "hovertemplate": "STATE_NAME=%{x}<br>STORE_NUMBER=%{marker.size}<extra></extra>",
         "legendgroup": "",
         "marker": {
          "color": "#636efa",
          "size": [
           495,
           461,
           153,
           141,
           82,
           73,
           66,
           66,
           65,
           51,
           51,
           50,
           48,
           46,
           45,
           44,
           43,
           43,
           39,
           34,
           31,
           29,
           27,
           26,
           26,
           24,
           23,
           22,
           18,
           16,
           15,
           15,
           13,
           13,
           12,
           10,
           9,
           8,
           5,
           3,
           2,
           2,
           1,
           1,
           1,
           1,
           1
          ],
          "sizemode": "area",
          "sizeref": 0.198,
          "symbol": "circle"
         },
         "mode": "markers",
         "name": "",
         "orientation": "v",
         "showlegend": false,
         "type": "scatter",
         "x": [
          "texas",
          "california",
          "florida",
          "illinois",
          "new york",
          "georgia",
          "arizona",
          "ohio",
          "north carolina",
          "colorado",
          "pennsylvania",
          "michigan",
          "indiana",
          "new jersey",
          "virginia",
          "nevada",
          "tennessee",
          "missouri",
          "louisiana",
          "maryland",
          "washington",
          "utah",
          "oklahoma",
          "wisconsin",
          "alabama",
          "oregon",
          "south carolina",
          "new mexico",
          "kansas",
          "mississippi",
          "connecticut",
          "nebraska",
          "arkansas",
          "kentucky",
          "minnesota",
          "massachusetts",
          "iowa",
          "idaho",
          "delaware",
          "alaska",
          "new hampshire",
          "hawaii",
          "west virginia",
          "south dakota",
          "district of columbia",
          "north dakota",
          "wyoming"
         ],
         "xaxis": "x",
         "y": [
          495,
          461,
          153,
          141,
          82,
          73,
          66,
          66,
          65,
          51,
          51,
          50,
          48,
          46,
          45,
          44,
          43,
          43,
          39,
          34,
          31,
          29,
          27,
          26,
          26,
          24,
          23,
          22,
          18,
          16,
          15,
          15,
          13,
          13,
          12,
          10,
          9,
          8,
          5,
          3,
          2,
          2,
          1,
          1,
          1,
          1,
          1
         ],
         "yaxis": "y"
        }
       ],
       "layout": {
        "legend": {
         "itemsizing": "constant",
         "tracegroupgap": 0
        },
        "template": {
         "data": {
          "bar": [
           {
            "error_x": {
             "color": "#2a3f5f"
            },
            "error_y": {
             "color": "#2a3f5f"
            },
            "marker": {
             "line": {
              "color": "#E5ECF6",
              "width": 0.5
             },
             "pattern": {
              "fillmode": "overlay",
              "size": 10,
              "solidity": 0.2
             }
            },
            "type": "bar"
           }
          ],
          "barpolar": [
           {
            "marker": {
             "line": {
              "color": "#E5ECF6",
              "width": 0.5
             },
             "pattern": {
              "fillmode": "overlay",
              "size": 10,
              "solidity": 0.2
             }
            },
            "type": "barpolar"
           }
          ],
          "carpet": [
           {
            "aaxis": {
             "endlinecolor": "#2a3f5f",
             "gridcolor": "white",
             "linecolor": "white",
             "minorgridcolor": "white",
             "startlinecolor": "#2a3f5f"
            },
            "baxis": {
             "endlinecolor": "#2a3f5f",
             "gridcolor": "white",
             "linecolor": "white",
             "minorgridcolor": "white",
             "startlinecolor": "#2a3f5f"
            },
            "type": "carpet"
           }
          ],
          "choropleth": [
           {
            "colorbar": {
             "outlinewidth": 0,
             "ticks": ""
            },
            "type": "choropleth"
           }
          ],
          "contour": [
           {
            "colorbar": {
             "outlinewidth": 0,
             "ticks": ""
            },
            "colorscale": [
             [
              0,
              "#0d0887"
             ],
             [
              0.1111111111111111,
              "#46039f"
             ],
             [
              0.2222222222222222,
              "#7201a8"
             ],
             [
              0.3333333333333333,
              "#9c179e"
             ],
             [
              0.4444444444444444,
              "#bd3786"
             ],
             [
              0.5555555555555556,
              "#d8576b"
             ],
             [
              0.6666666666666666,
              "#ed7953"
             ],
             [
              0.7777777777777778,
              "#fb9f3a"
             ],
             [
              0.8888888888888888,
              "#fdca26"
             ],
             [
              1,
              "#f0f921"
             ]
            ],
            "type": "contour"
           }
          ],
          "contourcarpet": [
           {
            "colorbar": {
             "outlinewidth": 0,
             "ticks": ""
            },
            "type": "contourcarpet"
           }
          ],
          "heatmap": [
           {
            "colorbar": {
             "outlinewidth": 0,
             "ticks": ""
            },
            "colorscale": [
             [
              0,
              "#0d0887"
             ],
             [
              0.1111111111111111,
              "#46039f"
             ],
             [
              0.2222222222222222,
              "#7201a8"
             ],
             [
              0.3333333333333333,
              "#9c179e"
             ],
             [
              0.4444444444444444,
              "#bd3786"
             ],
             [
              0.5555555555555556,
              "#d8576b"
             ],
             [
              0.6666666666666666,
              "#ed7953"
             ],
             [
              0.7777777777777778,
              "#fb9f3a"
             ],
             [
              0.8888888888888888,
              "#fdca26"
             ],
             [
              1,
              "#f0f921"
             ]
            ],
            "type": "heatmap"
           }
          ],
          "heatmapgl": [
           {
            "colorbar": {
             "outlinewidth": 0,
             "ticks": ""
            },
            "colorscale": [
             [
              0,
              "#0d0887"
             ],
             [
              0.1111111111111111,
              "#46039f"
             ],
             [
              0.2222222222222222,
              "#7201a8"
             ],
             [
              0.3333333333333333,
              "#9c179e"
             ],
             [
              0.4444444444444444,
              "#bd3786"
             ],
             [
              0.5555555555555556,
              "#d8576b"
             ],
             [
              0.6666666666666666,
              "#ed7953"
             ],
             [
              0.7777777777777778,
              "#fb9f3a"
             ],
             [
              0.8888888888888888,
              "#fdca26"
             ],
             [
              1,
              "#f0f921"
             ]
            ],
            "type": "heatmapgl"
           }
          ],
          "histogram": [
           {
            "marker": {
             "pattern": {
              "fillmode": "overlay",
              "size": 10,
              "solidity": 0.2
             }
            },
            "type": "histogram"
           }
          ],
          "histogram2d": [
           {
            "colorbar": {
             "outlinewidth": 0,
             "ticks": ""
            },
            "colorscale": [
             [
              0,
              "#0d0887"
             ],
             [
              0.1111111111111111,
              "#46039f"
             ],
             [
              0.2222222222222222,
              "#7201a8"
             ],
             [
              0.3333333333333333,
              "#9c179e"
             ],
             [
              0.4444444444444444,
              "#bd3786"
             ],
             [
              0.5555555555555556,
              "#d8576b"
             ],
             [
              0.6666666666666666,
              "#ed7953"
             ],
             [
              0.7777777777777778,
              "#fb9f3a"
             ],
             [
              0.8888888888888888,
              "#fdca26"
             ],
             [
              1,
              "#f0f921"
             ]
            ],
            "type": "histogram2d"
           }
          ],
          "histogram2dcontour": [
           {
            "colorbar": {
             "outlinewidth": 0,
             "ticks": ""
            },
            "colorscale": [
             [
              0,
              "#0d0887"
             ],
             [
              0.1111111111111111,
              "#46039f"
             ],
             [
              0.2222222222222222,
              "#7201a8"
             ],
             [
              0.3333333333333333,
              "#9c179e"
             ],
             [
              0.4444444444444444,
              "#bd3786"
             ],
             [
              0.5555555555555556,
              "#d8576b"
             ],
             [
              0.6666666666666666,
              "#ed7953"
             ],
             [
              0.7777777777777778,
              "#fb9f3a"
             ],
             [
              0.8888888888888888,
              "#fdca26"
             ],
             [
              1,
              "#f0f921"
             ]
            ],
            "type": "histogram2dcontour"
           }
          ],
          "mesh3d": [
           {
            "colorbar": {
             "outlinewidth": 0,
             "ticks": ""
            },
            "type": "mesh3d"
           }
          ],
          "parcoords": [
           {
            "line": {
             "colorbar": {
              "outlinewidth": 0,
              "ticks": ""
             }
            },
            "type": "parcoords"
           }
          ],
          "pie": [
           {
            "automargin": true,
            "type": "pie"
           }
          ],
          "scatter": [
           {
            "fillpattern": {
             "fillmode": "overlay",
             "size": 10,
             "solidity": 0.2
            },
            "type": "scatter"
           }
          ],
          "scatter3d": [
           {
            "line": {
             "colorbar": {
              "outlinewidth": 0,
              "ticks": ""
             }
            },
            "marker": {
             "colorbar": {
              "outlinewidth": 0,
              "ticks": ""
             }
            },
            "type": "scatter3d"
           }
          ],
          "scattercarpet": [
           {
            "marker": {
             "colorbar": {
              "outlinewidth": 0,
              "ticks": ""
             }
            },
            "type": "scattercarpet"
           }
          ],
          "scattergeo": [
           {
            "marker": {
             "colorbar": {
              "outlinewidth": 0,
              "ticks": ""
             }
            },
            "type": "scattergeo"
           }
          ],
          "scattergl": [
           {
            "marker": {
             "colorbar": {
              "outlinewidth": 0,
              "ticks": ""
             }
            },
            "type": "scattergl"
           }
          ],
          "scattermapbox": [
           {
            "marker": {
             "colorbar": {
              "outlinewidth": 0,
              "ticks": ""
             }
            },
            "type": "scattermapbox"
           }
          ],
          "scatterpolar": [
           {
            "marker": {
             "colorbar": {
              "outlinewidth": 0,
              "ticks": ""
             }
            },
            "type": "scatterpolar"
           }
          ],
          "scatterpolargl": [
           {
            "marker": {
             "colorbar": {
              "outlinewidth": 0,
              "ticks": ""
             }
            },
            "type": "scatterpolargl"
           }
          ],
          "scatterternary": [
           {
            "marker": {
             "colorbar": {
              "outlinewidth": 0,
              "ticks": ""
             }
            },
            "type": "scatterternary"
           }
          ],
          "surface": [
           {
            "colorbar": {
             "outlinewidth": 0,
             "ticks": ""
            },
            "colorscale": [
             [
              0,
              "#0d0887"
             ],
             [
              0.1111111111111111,
              "#46039f"
             ],
             [
              0.2222222222222222,
              "#7201a8"
             ],
             [
              0.3333333333333333,
              "#9c179e"
             ],
             [
              0.4444444444444444,
              "#bd3786"
             ],
             [
              0.5555555555555556,
              "#d8576b"
             ],
             [
              0.6666666666666666,
              "#ed7953"
             ],
             [
              0.7777777777777778,
              "#fb9f3a"
             ],
             [
              0.8888888888888888,
              "#fdca26"
             ],
             [
              1,
              "#f0f921"
             ]
            ],
            "type": "surface"
           }
          ],
          "table": [
           {
            "cells": {
             "fill": {
              "color": "#EBF0F8"
             },
             "line": {
              "color": "white"
             }
            },
            "header": {
             "fill": {
              "color": "#C8D4E3"
             },
             "line": {
              "color": "white"
             }
            },
            "type": "table"
           }
          ]
         },
         "layout": {
          "annotationdefaults": {
           "arrowcolor": "#2a3f5f",
           "arrowhead": 0,
           "arrowwidth": 1
          },
          "autotypenumbers": "strict",
          "coloraxis": {
           "colorbar": {
            "outlinewidth": 0,
            "ticks": ""
           }
          },
          "colorscale": {
           "diverging": [
            [
             0,
             "#8e0152"
            ],
            [
             0.1,
             "#c51b7d"
            ],
            [
             0.2,
             "#de77ae"
            ],
            [
             0.3,
             "#f1b6da"
            ],
            [
             0.4,
             "#fde0ef"
            ],
            [
             0.5,
             "#f7f7f7"
            ],
            [
             0.6,
             "#e6f5d0"
            ],
            [
             0.7,
             "#b8e186"
            ],
            [
             0.8,
             "#7fbc41"
            ],
            [
             0.9,
             "#4d9221"
            ],
            [
             1,
             "#276419"
            ]
           ],
           "sequential": [
            [
             0,
             "#0d0887"
            ],
            [
             0.1111111111111111,
             "#46039f"
            ],
            [
             0.2222222222222222,
             "#7201a8"
            ],
            [
             0.3333333333333333,
             "#9c179e"
            ],
            [
             0.4444444444444444,
             "#bd3786"
            ],
            [
             0.5555555555555556,
             "#d8576b"
            ],
            [
             0.6666666666666666,
             "#ed7953"
            ],
            [
             0.7777777777777778,
             "#fb9f3a"
            ],
            [
             0.8888888888888888,
             "#fdca26"
            ],
            [
             1,
             "#f0f921"
            ]
           ],
           "sequentialminus": [
            [
             0,
             "#0d0887"
            ],
            [
             0.1111111111111111,
             "#46039f"
            ],
            [
             0.2222222222222222,
             "#7201a8"
            ],
            [
             0.3333333333333333,
             "#9c179e"
            ],
            [
             0.4444444444444444,
             "#bd3786"
            ],
            [
             0.5555555555555556,
             "#d8576b"
            ],
            [
             0.6666666666666666,
             "#ed7953"
            ],
            [
             0.7777777777777778,
             "#fb9f3a"
            ],
            [
             0.8888888888888888,
             "#fdca26"
            ],
            [
             1,
             "#f0f921"
            ]
           ]
          },
          "colorway": [
           "#636efa",
           "#EF553B",
           "#00cc96",
           "#ab63fa",
           "#FFA15A",
           "#19d3f3",
           "#FF6692",
           "#B6E880",
           "#FF97FF",
           "#FECB52"
          ],
          "font": {
           "color": "#2a3f5f"
          },
          "geo": {
           "bgcolor": "white",
           "lakecolor": "white",
           "landcolor": "#E5ECF6",
           "showlakes": true,
           "showland": true,
           "subunitcolor": "white"
          },
          "hoverlabel": {
           "align": "left"
          },
          "hovermode": "closest",
          "mapbox": {
           "style": "light"
          },
          "paper_bgcolor": "white",
          "plot_bgcolor": "#E5ECF6",
          "polar": {
           "angularaxis": {
            "gridcolor": "white",
            "linecolor": "white",
            "ticks": ""
           },
           "bgcolor": "#E5ECF6",
           "radialaxis": {
            "gridcolor": "white",
            "linecolor": "white",
            "ticks": ""
           }
          },
          "scene": {
           "xaxis": {
            "backgroundcolor": "#E5ECF6",
            "gridcolor": "white",
            "gridwidth": 2,
            "linecolor": "white",
            "showbackground": true,
            "ticks": "",
            "zerolinecolor": "white"
           },
           "yaxis": {
            "backgroundcolor": "#E5ECF6",
            "gridcolor": "white",
            "gridwidth": 2,
            "linecolor": "white",
            "showbackground": true,
            "ticks": "",
            "zerolinecolor": "white"
           },
           "zaxis": {
            "backgroundcolor": "#E5ECF6",
            "gridcolor": "white",
            "gridwidth": 2,
            "linecolor": "white",
            "showbackground": true,
            "ticks": "",
            "zerolinecolor": "white"
           }
          },
          "shapedefaults": {
           "line": {
            "color": "#2a3f5f"
           }
          },
          "ternary": {
           "aaxis": {
            "gridcolor": "white",
            "linecolor": "white",
            "ticks": ""
           },
           "baxis": {
            "gridcolor": "white",
            "linecolor": "white",
            "ticks": ""
           },
           "bgcolor": "#E5ECF6",
           "caxis": {
            "gridcolor": "white",
            "linecolor": "white",
            "ticks": ""
           }
          },
          "title": {
           "x": 0.05
          },
          "xaxis": {
           "automargin": true,
           "gridcolor": "white",
           "linecolor": "white",
           "ticks": "",
           "title": {
            "standoff": 15
           },
           "zerolinecolor": "white",
           "zerolinewidth": 2
          },
          "yaxis": {
           "automargin": true,
           "gridcolor": "white",
           "linecolor": "white",
           "ticks": "",
           "title": {
            "standoff": 15
           },
           "zerolinecolor": "white",
           "zerolinewidth": 2
          }
         }
        },
        "title": {
         "text": "Number Of Stores V/S States"
        },
        "xaxis": {
         "anchor": "y",
         "domain": [
          0,
          1
         ],
         "title": {
          "text": "STATE_NAME"
         }
        },
        "yaxis": {
         "anchor": "x",
         "domain": [
          0,
          1
         ],
         "title": {
          "text": "STORE_NUMBER"
         }
        }
       }
      }
     },
     "metadata": {},
     "output_type": "display_data"
    }
   ],
   "source": [
    "#Count the number of stores in each state\n",
    "state_group = store_df.groupby('STATE_NAME')[['STORE_NUMBER']].count().reset_index().sort_values(by='STORE_NUMBER',ascending=False)\n",
    "fig = px.scatter(data_frame=state_group,x='STATE_NAME',size='STORE_NUMBER',y='STORE_NUMBER',size_max=50,title='Number Of Stores V/S States')\n",
    "fig.show()\n",
    "\n",
    "\n",
    "#Texas has the maximum number of stores followed by California"
   ]
  },
  {
   "cell_type": "code",
   "execution_count": 16,
   "metadata": {},
   "outputs": [
    {
     "data": {
      "text/html": [
       "<div>\n",
       "<style scoped>\n",
       "    .dataframe tbody tr th:only-of-type {\n",
       "        vertical-align: middle;\n",
       "    }\n",
       "\n",
       "    .dataframe tbody tr th {\n",
       "        vertical-align: top;\n",
       "    }\n",
       "\n",
       "    .dataframe thead th {\n",
       "        text-align: right;\n",
       "    }\n",
       "</style>\n",
       "<table border=\"1\" class=\"dataframe\">\n",
       "  <thead>\n",
       "    <tr style=\"text-align: right;\">\n",
       "      <th></th>\n",
       "      <th>CITY_NAME</th>\n",
       "      <th>STORE_NUMBER</th>\n",
       "    </tr>\n",
       "  </thead>\n",
       "  <tbody>\n",
       "    <tr>\n",
       "      <th>533</th>\n",
       "      <td>houston</td>\n",
       "      <td>57</td>\n",
       "    </tr>\n",
       "    <tr>\n",
       "      <th>204</th>\n",
       "      <td>chicago</td>\n",
       "      <td>36</td>\n",
       "    </tr>\n",
       "    <tr>\n",
       "      <th>1015</th>\n",
       "      <td>san antonio</td>\n",
       "      <td>32</td>\n",
       "    </tr>\n",
       "    <tr>\n",
       "      <th>662</th>\n",
       "      <td>los angeles</td>\n",
       "      <td>31</td>\n",
       "    </tr>\n",
       "    <tr>\n",
       "      <th>619</th>\n",
       "      <td>las vegas</td>\n",
       "      <td>28</td>\n",
       "    </tr>\n",
       "  </tbody>\n",
       "</table>\n",
       "</div>"
      ],
      "text/plain": [
       "        CITY_NAME  STORE_NUMBER\n",
       "533       houston            57\n",
       "204       chicago            36\n",
       "1015  san antonio            32\n",
       "662   los angeles            31\n",
       "619     las vegas            28"
      ]
     },
     "execution_count": 16,
     "metadata": {},
     "output_type": "execute_result"
    }
   ],
   "source": [
    "#City wise distribution\n",
    "city_group = store_df.groupby(['CITY_NAME'])['STORE_NUMBER'].count().reset_index().sort_values(by='STORE_NUMBER',ascending=False)\n",
    "city_group.head()  #Houston followed by Chicago have the maximum number of stores"
   ]
  },
  {
   "cell_type": "code",
   "execution_count": 17,
   "metadata": {},
   "outputs": [],
   "source": [
    "#Many of these shops don't have an ongoing sale, lets merge the sales dataset and filter\n",
    "store_sale_df = pd.merge(sales_df,store_df,on=['STORE_NUMBER','OPEN_DATE'])\n",
    "store_sale_df = store_sale_df.drop('STORE_KEY',axis=1)"
   ]
  },
  {
   "cell_type": "code",
   "execution_count": 18,
   "metadata": {},
   "outputs": [
    {
     "data": {
      "text/html": [
       "<div>\n",
       "<style scoped>\n",
       "    .dataframe tbody tr th:only-of-type {\n",
       "        vertical-align: middle;\n",
       "    }\n",
       "\n",
       "    .dataframe tbody tr th {\n",
       "        vertical-align: top;\n",
       "    }\n",
       "\n",
       "    .dataframe thead th {\n",
       "        text-align: right;\n",
       "    }\n",
       "</style>\n",
       "<table border=\"1\" class=\"dataframe\">\n",
       "  <thead>\n",
       "    <tr style=\"text-align: right;\">\n",
       "      <th></th>\n",
       "      <th>STORE_NUMBER</th>\n",
       "      <th>OPEN_DATE</th>\n",
       "      <th>BUSINESS_DATE_KEY</th>\n",
       "      <th>BUSINESS_DATE</th>\n",
       "      <th>TEMP_CLOSE_INDICATOR</th>\n",
       "      <th>PROJECTION_INCLUDED_INDICATOR</th>\n",
       "      <th>BUSINESS_DATE_FISCAL_DAY_OF_YEAR</th>\n",
       "      <th>BUSINESS_DATE_FISCAL_YEAR</th>\n",
       "      <th>COMP_BUSINESS_DATE_FISCAL_YEAR</th>\n",
       "      <th>COMPARABLE_INDICATOR</th>\n",
       "      <th>...</th>\n",
       "      <th>STORE_LIVE_DATE</th>\n",
       "      <th>STORE_FUNCTIONAL_STATUS</th>\n",
       "      <th>GLOBAL_REGION_NAME</th>\n",
       "      <th>GLOBAL_REGION_STORE_TYPE_NAME</th>\n",
       "      <th>AREA_REGION</th>\n",
       "      <th>DISPATCH_GO_LIVE_DATE</th>\n",
       "      <th>DOOR_DASH_GO_LIVE_DATE</th>\n",
       "      <th>DOOR_DASH_MARKUP_GO_LIVE_DATE</th>\n",
       "      <th>STORE_CONCEPT_NAME</th>\n",
       "      <th>UBER_EATS_MARKUP_DATE</th>\n",
       "    </tr>\n",
       "  </thead>\n",
       "  <tbody>\n",
       "    <tr>\n",
       "      <th>0</th>\n",
       "      <td>580</td>\n",
       "      <td>10/5/2011</td>\n",
       "      <td>20230203</td>\n",
       "      <td>2/3/2023</td>\n",
       "      <td>0.0</td>\n",
       "      <td>0</td>\n",
       "      <td>34</td>\n",
       "      <td>2023</td>\n",
       "      <td>2022</td>\n",
       "      <td>1</td>\n",
       "      <td>...</td>\n",
       "      <td>10/5/2011</td>\n",
       "      <td>operational</td>\n",
       "      <td>domestic</td>\n",
       "      <td>domesticfranchise</td>\n",
       "      <td>memphis</td>\n",
       "      <td>12/11/2019</td>\n",
       "      <td>12/11/2019</td>\n",
       "      <td>9/27/2020</td>\n",
       "      <td>original</td>\n",
       "      <td>7/20/2022</td>\n",
       "    </tr>\n",
       "    <tr>\n",
       "      <th>1</th>\n",
       "      <td>1323</td>\n",
       "      <td>11/21/2017</td>\n",
       "      <td>20221008</td>\n",
       "      <td>10/8/2022</td>\n",
       "      <td>0.0</td>\n",
       "      <td>0</td>\n",
       "      <td>287</td>\n",
       "      <td>2022</td>\n",
       "      <td>2021</td>\n",
       "      <td>1</td>\n",
       "      <td>...</td>\n",
       "      <td>11/21/2017</td>\n",
       "      <td>operational</td>\n",
       "      <td>domestic</td>\n",
       "      <td>domesticfranchise</td>\n",
       "      <td>ft. myers-naples</td>\n",
       "      <td>9/18/2019</td>\n",
       "      <td>9/18/2019</td>\n",
       "      <td>9/27/2020</td>\n",
       "      <td>original</td>\n",
       "      <td>7/20/2022</td>\n",
       "    </tr>\n",
       "    <tr>\n",
       "      <th>2</th>\n",
       "      <td>969</td>\n",
       "      <td>2/6/2006</td>\n",
       "      <td>20230330</td>\n",
       "      <td>3/30/2023</td>\n",
       "      <td>0.0</td>\n",
       "      <td>0</td>\n",
       "      <td>89</td>\n",
       "      <td>2023</td>\n",
       "      <td>2022</td>\n",
       "      <td>1</td>\n",
       "      <td>...</td>\n",
       "      <td>2/6/2006</td>\n",
       "      <td>operational</td>\n",
       "      <td>domestic</td>\n",
       "      <td>domesticcorporate</td>\n",
       "      <td>dallas-ft. worth</td>\n",
       "      <td>4/17/2019</td>\n",
       "      <td>4/17/2019</td>\n",
       "      <td>8/16/2020</td>\n",
       "      <td>original</td>\n",
       "      <td>7/6/2022</td>\n",
       "    </tr>\n",
       "    <tr>\n",
       "      <th>3</th>\n",
       "      <td>1664</td>\n",
       "      <td>2/3/2020</td>\n",
       "      <td>20230307</td>\n",
       "      <td>3/7/2023</td>\n",
       "      <td>0.0</td>\n",
       "      <td>0</td>\n",
       "      <td>66</td>\n",
       "      <td>2023</td>\n",
       "      <td>2022</td>\n",
       "      <td>1</td>\n",
       "      <td>...</td>\n",
       "      <td>2/3/2020</td>\n",
       "      <td>operational</td>\n",
       "      <td>domestic</td>\n",
       "      <td>domesticfranchise</td>\n",
       "      <td>austin</td>\n",
       "      <td>3/11/2020</td>\n",
       "      <td>3/11/2020</td>\n",
       "      <td>9/27/2020</td>\n",
       "      <td>original</td>\n",
       "      <td>7/20/2022</td>\n",
       "    </tr>\n",
       "    <tr>\n",
       "      <th>4</th>\n",
       "      <td>1078</td>\n",
       "      <td>3/11/2016</td>\n",
       "      <td>20221105</td>\n",
       "      <td>11/5/2022</td>\n",
       "      <td>0.0</td>\n",
       "      <td>0</td>\n",
       "      <td>315</td>\n",
       "      <td>2022</td>\n",
       "      <td>2021</td>\n",
       "      <td>1</td>\n",
       "      <td>...</td>\n",
       "      <td>3/11/2016</td>\n",
       "      <td>operational</td>\n",
       "      <td>domestic</td>\n",
       "      <td>domesticfranchise</td>\n",
       "      <td>los angeles</td>\n",
       "      <td>11/14/2018</td>\n",
       "      <td>11/14/2018</td>\n",
       "      <td>9/27/2020</td>\n",
       "      <td>original</td>\n",
       "      <td>7/20/2022</td>\n",
       "    </tr>\n",
       "  </tbody>\n",
       "</table>\n",
       "<p>5 rows × 37 columns</p>\n",
       "</div>"
      ],
      "text/plain": [
       "   STORE_NUMBER   OPEN_DATE  BUSINESS_DATE_KEY BUSINESS_DATE  \\\n",
       "0           580   10/5/2011           20230203      2/3/2023   \n",
       "1          1323  11/21/2017           20221008     10/8/2022   \n",
       "2           969    2/6/2006           20230330     3/30/2023   \n",
       "3          1664    2/3/2020           20230307      3/7/2023   \n",
       "4          1078   3/11/2016           20221105     11/5/2022   \n",
       "\n",
       "   TEMP_CLOSE_INDICATOR  PROJECTION_INCLUDED_INDICATOR  \\\n",
       "0                   0.0                              0   \n",
       "1                   0.0                              0   \n",
       "2                   0.0                              0   \n",
       "3                   0.0                              0   \n",
       "4                   0.0                              0   \n",
       "\n",
       "   BUSINESS_DATE_FISCAL_DAY_OF_YEAR  BUSINESS_DATE_FISCAL_YEAR  \\\n",
       "0                                34                       2023   \n",
       "1                               287                       2022   \n",
       "2                                89                       2023   \n",
       "3                                66                       2023   \n",
       "4                               315                       2022   \n",
       "\n",
       "   COMP_BUSINESS_DATE_FISCAL_YEAR  COMPARABLE_INDICATOR  ...  STORE_LIVE_DATE  \\\n",
       "0                            2022                     1  ...        10/5/2011   \n",
       "1                            2021                     1  ...       11/21/2017   \n",
       "2                            2022                     1  ...         2/6/2006   \n",
       "3                            2022                     1  ...         2/3/2020   \n",
       "4                            2021                     1  ...        3/11/2016   \n",
       "\n",
       "   STORE_FUNCTIONAL_STATUS  GLOBAL_REGION_NAME  GLOBAL_REGION_STORE_TYPE_NAME  \\\n",
       "0              operational            domestic              domesticfranchise   \n",
       "1              operational            domestic              domesticfranchise   \n",
       "2              operational            domestic              domesticcorporate   \n",
       "3              operational            domestic              domesticfranchise   \n",
       "4              operational            domestic              domesticfranchise   \n",
       "\n",
       "        AREA_REGION DISPATCH_GO_LIVE_DATE DOOR_DASH_GO_LIVE_DATE  \\\n",
       "0           memphis            12/11/2019             12/11/2019   \n",
       "1  ft. myers-naples             9/18/2019              9/18/2019   \n",
       "2  dallas-ft. worth             4/17/2019              4/17/2019   \n",
       "3            austin             3/11/2020              3/11/2020   \n",
       "4       los angeles            11/14/2018             11/14/2018   \n",
       "\n",
       "  DOOR_DASH_MARKUP_GO_LIVE_DATE STORE_CONCEPT_NAME UBER_EATS_MARKUP_DATE  \n",
       "0                     9/27/2020           original             7/20/2022  \n",
       "1                     9/27/2020           original             7/20/2022  \n",
       "2                     8/16/2020           original              7/6/2022  \n",
       "3                     9/27/2020           original             7/20/2022  \n",
       "4                     9/27/2020           original             7/20/2022  \n",
       "\n",
       "[5 rows x 37 columns]"
      ]
     },
     "execution_count": 18,
     "metadata": {},
     "output_type": "execute_result"
    }
   ],
   "source": [
    "store_sale_df.head()"
   ]
  },
  {
   "cell_type": "code",
   "execution_count": 19,
   "metadata": {},
   "outputs": [
    {
     "name": "stdout",
     "output_type": "stream",
     "text": [
      "<class 'pandas.core.frame.DataFrame'>\n",
      "RangeIndex: 563113 entries, 0 to 563112\n",
      "Data columns (total 37 columns):\n",
      " #   Column                            Non-Null Count   Dtype  \n",
      "---  ------                            --------------   -----  \n",
      " 0   STORE_NUMBER                      563113 non-null  int64  \n",
      " 1   OPEN_DATE                         563113 non-null  object \n",
      " 2   BUSINESS_DATE_KEY                 563113 non-null  int64  \n",
      " 3   BUSINESS_DATE                     563113 non-null  object \n",
      " 4   TEMP_CLOSE_INDICATOR              329828 non-null  float64\n",
      " 5   PROJECTION_INCLUDED_INDICATOR     563113 non-null  int64  \n",
      " 6   BUSINESS_DATE_FISCAL_DAY_OF_YEAR  563113 non-null  int64  \n",
      " 7   BUSINESS_DATE_FISCAL_YEAR         563113 non-null  int64  \n",
      " 8   COMP_BUSINESS_DATE_FISCAL_YEAR    563113 non-null  int64  \n",
      " 9   COMPARABLE_INDICATOR              563113 non-null  int64  \n",
      " 10  TRANSACTION_FINAL_COUNT           563113 non-null  int64  \n",
      " 11  NET_SALES_FINAL_USD_AMOUNT        563113 non-null  float64\n",
      " 12  PY_TRANSACTION_FINAL_COUNT        563113 non-null  int64  \n",
      " 13  PY_NET_SALES_FINAL_USD_AMOUNT     563113 non-null  float64\n",
      " 14  ROW_EFFECTIVE_TIMESTAMP           563113 non-null  object \n",
      " 15  STORE_NAME                        563113 non-null  object \n",
      " 16  STORE_TYPE_NAME                   563113 non-null  object \n",
      " 17  CLOSE_DATE                        563113 non-null  object \n",
      " 18  CITY_NAME                         563113 non-null  object \n",
      " 19  STATE_NAME                        563113 non-null  object \n",
      " 20  COUNTRY_CODE                      563113 non-null  object \n",
      " 21  TIME_ZONE_NAME                    563113 non-null  object \n",
      " 22  DMA_ID                            563113 non-null  float64\n",
      " 23  DMA_NAME                          563113 non-null  object \n",
      " 24  STORE_STATUS                      563113 non-null  object \n",
      " 25  REGION_ID                         563113 non-null  float64\n",
      " 26  REGION_NAME                       563113 non-null  object \n",
      " 27  STORE_LIVE_DATE                   563113 non-null  object \n",
      " 28  STORE_FUNCTIONAL_STATUS           563113 non-null  object \n",
      " 29  GLOBAL_REGION_NAME                563113 non-null  object \n",
      " 30  GLOBAL_REGION_STORE_TYPE_NAME     563113 non-null  object \n",
      " 31  AREA_REGION                       563113 non-null  object \n",
      " 32  DISPATCH_GO_LIVE_DATE             558307 non-null  object \n",
      " 33  DOOR_DASH_GO_LIVE_DATE            546145 non-null  object \n",
      " 34  DOOR_DASH_MARKUP_GO_LIVE_DATE     563113 non-null  object \n",
      " 35  STORE_CONCEPT_NAME                558307 non-null  object \n",
      " 36  UBER_EATS_MARKUP_DATE             563113 non-null  object \n",
      "dtypes: float64(5), int64(9), object(23)\n",
      "memory usage: 159.0+ MB\n"
     ]
    }
   ],
   "source": [
    "store_sale_df.info()"
   ]
  },
  {
   "cell_type": "code",
   "execution_count": 21,
   "metadata": {},
   "outputs": [
    {
     "data": {
      "text/plain": [
       "COMPARABLE_INDICATOR\n",
       "1    512722\n",
       "0     50391\n",
       "Name: count, dtype: int64"
      ]
     },
     "execution_count": 21,
     "metadata": {},
     "output_type": "execute_result"
    }
   ],
   "source": [
    "store_sale_df['COMPARABLE_INDICATOR'].value_counts()"
   ]
  },
  {
   "cell_type": "code",
   "execution_count": 59,
   "metadata": {},
   "outputs": [
    {
     "data": {
      "text/html": [
       "<div>\n",
       "<style scoped>\n",
       "    .dataframe tbody tr th:only-of-type {\n",
       "        vertical-align: middle;\n",
       "    }\n",
       "\n",
       "    .dataframe tbody tr th {\n",
       "        vertical-align: top;\n",
       "    }\n",
       "\n",
       "    .dataframe thead th {\n",
       "        text-align: right;\n",
       "    }\n",
       "</style>\n",
       "<table border=\"1\" class=\"dataframe\">\n",
       "  <thead>\n",
       "    <tr style=\"text-align: right;\">\n",
       "      <th></th>\n",
       "      <th>STORE_NUMBER</th>\n",
       "      <th>CITY_NAME</th>\n",
       "      <th>NET_SALES_FINAL_USD_AMOUNT</th>\n",
       "      <th>PY_NET_SALES_FINAL_USD_AMOUNT</th>\n",
       "      <th>Profit/Loss</th>\n",
       "    </tr>\n",
       "  </thead>\n",
       "  <tbody>\n",
       "    <tr>\n",
       "      <th>23</th>\n",
       "      <td>150</td>\n",
       "      <td>laredo</td>\n",
       "      <td>19879961.98</td>\n",
       "      <td>14993132.26</td>\n",
       "      <td>4886829.72</td>\n",
       "    </tr>\n",
       "    <tr>\n",
       "      <th>49</th>\n",
       "      <td>302</td>\n",
       "      <td>salinas</td>\n",
       "      <td>20738973.51</td>\n",
       "      <td>16040324.00</td>\n",
       "      <td>4698649.51</td>\n",
       "    </tr>\n",
       "    <tr>\n",
       "      <th>170</th>\n",
       "      <td>979</td>\n",
       "      <td>north las vegas</td>\n",
       "      <td>17013513.15</td>\n",
       "      <td>12722623.06</td>\n",
       "      <td>4290890.09</td>\n",
       "    </tr>\n",
       "    <tr>\n",
       "      <th>30</th>\n",
       "      <td>202</td>\n",
       "      <td>houston</td>\n",
       "      <td>15365107.38</td>\n",
       "      <td>11446707.04</td>\n",
       "      <td>3918400.34</td>\n",
       "    </tr>\n",
       "    <tr>\n",
       "      <th>95</th>\n",
       "      <td>573</td>\n",
       "      <td>irvine</td>\n",
       "      <td>14342691.25</td>\n",
       "      <td>10451112.43</td>\n",
       "      <td>3891578.82</td>\n",
       "    </tr>\n",
       "  </tbody>\n",
       "</table>\n",
       "</div>"
      ],
      "text/plain": [
       "     STORE_NUMBER        CITY_NAME  NET_SALES_FINAL_USD_AMOUNT  \\\n",
       "23            150           laredo                 19879961.98   \n",
       "49            302          salinas                 20738973.51   \n",
       "170           979  north las vegas                 17013513.15   \n",
       "30            202          houston                 15365107.38   \n",
       "95            573           irvine                 14342691.25   \n",
       "\n",
       "     PY_NET_SALES_FINAL_USD_AMOUNT  Profit/Loss  \n",
       "23                     14993132.26   4886829.72  \n",
       "49                     16040324.00   4698649.51  \n",
       "170                    12722623.06   4290890.09  \n",
       "30                     11446707.04   3918400.34  \n",
       "95                     10451112.43   3891578.82  "
      ]
     },
     "metadata": {},
     "output_type": "display_data"
    },
    {
     "data": {
      "text/html": [
       "<div>\n",
       "<style scoped>\n",
       "    .dataframe tbody tr th:only-of-type {\n",
       "        vertical-align: middle;\n",
       "    }\n",
       "\n",
       "    .dataframe tbody tr th {\n",
       "        vertical-align: top;\n",
       "    }\n",
       "\n",
       "    .dataframe thead th {\n",
       "        text-align: right;\n",
       "    }\n",
       "</style>\n",
       "<table border=\"1\" class=\"dataframe\">\n",
       "  <thead>\n",
       "    <tr style=\"text-align: right;\">\n",
       "      <th></th>\n",
       "      <th>STORE_NUMBER</th>\n",
       "      <th>CITY_NAME</th>\n",
       "      <th>NET_SALES_FINAL_USD_AMOUNT</th>\n",
       "      <th>PY_NET_SALES_FINAL_USD_AMOUNT</th>\n",
       "      <th>Profit/Loss</th>\n",
       "    </tr>\n",
       "  </thead>\n",
       "  <tbody>\n",
       "    <tr>\n",
       "      <th>367</th>\n",
       "      <td>2240</td>\n",
       "      <td>logan</td>\n",
       "      <td>65532.46</td>\n",
       "      <td>125199.00</td>\n",
       "      <td>-59666.54</td>\n",
       "    </tr>\n",
       "    <tr>\n",
       "      <th>359</th>\n",
       "      <td>2153</td>\n",
       "      <td>maryville</td>\n",
       "      <td>572936.31</td>\n",
       "      <td>686298.44</td>\n",
       "      <td>-113362.13</td>\n",
       "    </tr>\n",
       "    <tr>\n",
       "      <th>270</th>\n",
       "      <td>1542</td>\n",
       "      <td>garner</td>\n",
       "      <td>4226731.51</td>\n",
       "      <td>4493498.47</td>\n",
       "      <td>-266766.96</td>\n",
       "    </tr>\n",
       "    <tr>\n",
       "      <th>272</th>\n",
       "      <td>1547</td>\n",
       "      <td>beaverton</td>\n",
       "      <td>4578055.88</td>\n",
       "      <td>5011884.24</td>\n",
       "      <td>-433828.36</td>\n",
       "    </tr>\n",
       "    <tr>\n",
       "      <th>280</th>\n",
       "      <td>1576</td>\n",
       "      <td>hemet</td>\n",
       "      <td>4013799.52</td>\n",
       "      <td>4958120.88</td>\n",
       "      <td>-944321.36</td>\n",
       "    </tr>\n",
       "  </tbody>\n",
       "</table>\n",
       "</div>"
      ],
      "text/plain": [
       "     STORE_NUMBER  CITY_NAME  NET_SALES_FINAL_USD_AMOUNT  \\\n",
       "367          2240      logan                    65532.46   \n",
       "359          2153  maryville                   572936.31   \n",
       "270          1542     garner                  4226731.51   \n",
       "272          1547  beaverton                  4578055.88   \n",
       "280          1576      hemet                  4013799.52   \n",
       "\n",
       "     PY_NET_SALES_FINAL_USD_AMOUNT  Profit/Loss  \n",
       "367                      125199.00    -59666.54  \n",
       "359                      686298.44   -113362.13  \n",
       "270                     4493498.47   -266766.96  \n",
       "272                     5011884.24   -433828.36  \n",
       "280                     4958120.88   -944321.36  "
      ]
     },
     "metadata": {},
     "output_type": "display_data"
    }
   ],
   "source": [
    "#Lets compare the sales of 2 fiscal years of the shops having comparable indicator\n",
    "comp_df = store_sale_df[store_sale_df['COMPARABLE_INDICATOR']==1]\n",
    "comp_group = comp_df.groupby(['STORE_NUMBER','CITY_NAME'])[['NET_SALES_FINAL_USD_AMOUNT','PY_NET_SALES_FINAL_USD_AMOUNT']].sum().reset_index()\n",
    "comp_group['Profit/Loss']= comp_group['NET_SALES_FINAL_USD_AMOUNT']- comp_group['PY_NET_SALES_FINAL_USD_AMOUNT']\n",
    "comp_group= comp_group.sort_values(by='Profit/Loss',ascending=False)\n",
    "\n",
    "#Most profitable shops:\n",
    "display.display(comp_group.head())\n",
    "\n",
    "#Shops having high losses:\n",
    "display.display(comp_group.tail())"
   ]
  },
  {
   "cell_type": "code",
   "execution_count": 60,
   "metadata": {},
   "outputs": [
    {
     "data": {
      "application/vnd.plotly.v1+json": {
       "config": {
        "plotlyServerURL": "https://plot.ly"
       },
       "data": [
        {
         "customdata": [
          [
           "laredo"
          ],
          [
           "salinas"
          ],
          [
           "north las vegas"
          ],
          [
           "houston"
          ],
          [
           "irvine"
          ],
          [
           "roseville"
          ],
          [
           "odessa"
          ],
          [
           "garden grove"
          ],
          [
           "san antonio"
          ],
          [
           "cypress"
          ],
          [
           "los angeles"
          ],
          [
           "van nuys"
          ],
          [
           "kyle"
          ],
          [
           "weslaco"
          ],
          [
           "dallas"
          ],
          [
           "aurora"
          ],
          [
           "san antonio"
          ],
          [
           "humble"
          ],
          [
           "orange"
          ],
          [
           "lawndale"
          ],
          [
           "madera"
          ],
          [
           "medford"
          ],
          [
           "tucson"
          ],
          [
           "gardena"
          ],
          [
           "eastvale"
          ],
          [
           "denton"
          ],
          [
           "renton"
          ],
          [
           "san jose"
          ],
          [
           "phoenix"
          ],
          [
           "rowlett"
          ],
          [
           "frisco"
          ],
          [
           "little rock"
          ],
          [
           "rialto"
          ],
          [
           "baytown"
          ],
          [
           "northridge"
          ],
          [
           "anchorage"
          ],
          [
           "katy"
          ],
          [
           "lafayette"
          ],
          [
           "west milwaukee"
          ],
          [
           "houston"
          ],
          [
           "desoto"
          ],
          [
           "mililani"
          ],
          [
           "bakersfield"
          ],
          [
           "victorville"
          ],
          [
           "dallas"
          ],
          [
           "cedar hill"
          ],
          [
           "albuquerque"
          ],
          [
           "santa clarita"
          ],
          [
           "riverside"
          ],
          [
           "los angeles"
          ],
          [
           "spartanburg"
          ],
          [
           "riverside"
          ],
          [
           "fresno"
          ],
          [
           "silver spring"
          ],
          [
           "watsonville"
          ],
          [
           "colorado springs"
          ],
          [
           "long beach"
          ],
          [
           "las vegas"
          ],
          [
           "waxahachie"
          ],
          [
           "la puente"
          ],
          [
           "arlington"
          ],
          [
           "bakersfield"
          ],
          [
           "brooklyn"
          ],
          [
           "harker heights"
          ],
          [
           "irving"
          ],
          [
           "mobile"
          ],
          [
           "allen"
          ],
          [
           "hesperia"
          ],
          [
           "redwood city"
          ],
          [
           "san jose"
          ],
          [
           "los angeles"
          ],
          [
           "los angeles"
          ],
          [
           "miami"
          ],
          [
           "new braunfels"
          ],
          [
           "monrovia"
          ],
          [
           "brownsville"
          ],
          [
           "south euclid"
          ],
          [
           "buckeye"
          ],
          [
           "carrollton"
          ],
          [
           "fullerton"
          ],
          [
           "aurora"
          ],
          [
           "monroe"
          ],
          [
           "dallas"
          ],
          [
           "lancaster"
          ],
          [
           "santa ana"
          ],
          [
           "el monte"
          ],
          [
           "paducah"
          ],
          [
           "el paso"
          ],
          [
           "inglewood"
          ],
          [
           "grand prairie"
          ],
          [
           "san clemente"
          ],
          [
           "dallas"
          ],
          [
           "tucson"
          ],
          [
           "charlotte"
          ],
          [
           "richmond"
          ],
          [
           "sacramento"
          ],
          [
           "melrose park"
          ],
          [
           "mission"
          ],
          [
           "lauderhill"
          ],
          [
           "cedar park"
          ],
          [
           "san antonio"
          ],
          [
           "seguin"
          ],
          [
           "alamo"
          ],
          [
           "pomona"
          ],
          [
           "tulsa"
          ],
          [
           "decatur"
          ],
          [
           "pleasanton"
          ],
          [
           "brownsville"
          ],
          [
           "frisco"
          ],
          [
           "naples"
          ],
          [
           "hartford"
          ],
          [
           "rancho cucamonga"
          ],
          [
           "raleigh"
          ],
          [
           "south el monte"
          ],
          [
           "east boston"
          ],
          [
           "chicago"
          ],
          [
           "donna"
          ],
          [
           "wilmington"
          ],
          [
           "chicago"
          ],
          [
           "rosemead"
          ],
          [
           "san antonio"
          ],
          [
           "jackson"
          ],
          [
           "broken arrow"
          ],
          [
           "mentor on the lake"
          ],
          [
           "oklahoma city"
          ],
          [
           "lake worth"
          ],
          [
           "las vegas"
          ],
          [
           "daytona beach"
          ],
          [
           "beaumont"
          ],
          [
           "wasilla"
          ],
          [
           "mission"
          ],
          [
           "north babylon"
          ],
          [
           "fort myers"
          ],
          [
           "san angelo"
          ],
          [
           "north miami"
          ],
          [
           "columbus"
          ],
          [
           "houston"
          ],
          [
           "apple valley"
          ],
          [
           "augusta"
          ],
          [
           "houston"
          ],
          [
           "rancho santa margarita"
          ],
          [
           "brandon"
          ],
          [
           "hallandale beach"
          ],
          [
           "pueblo"
          ],
          [
           "jackson"
          ],
          [
           "fort worth"
          ],
          [
           "mckinney"
          ],
          [
           "kingsville"
          ],
          [
           "league city"
          ],
          [
           "richmond"
          ],
          [
           "utica"
          ],
          [
           "chino hills"
          ],
          [
           "phoenix"
          ],
          [
           "wichita falls"
          ],
          [
           "glendora"
          ],
          [
           "abilene"
          ],
          [
           "houston"
          ],
          [
           "elizabeth"
          ],
          [
           "clinton"
          ],
          [
           "glendale"
          ],
          [
           "newark"
          ],
          [
           "chicago"
          ],
          [
           "chesapeake"
          ],
          [
           "memphis"
          ],
          [
           "evanston"
          ],
          [
           "maumee"
          ],
          [
           "cross roads"
          ],
          [
           "worcester"
          ],
          [
           "glen burnie"
          ],
          [
           "rockville"
          ],
          [
           "chicago"
          ],
          [
           "kansas city"
          ],
          [
           "louisville"
          ],
          [
           "freeport"
          ],
          [
           "cleburne"
          ],
          [
           "riverside"
          ],
          [
           "chicago"
          ],
          [
           "bergenfield"
          ],
          [
           "los angeles"
          ],
          [
           "shreveport"
          ],
          [
           "normandy"
          ],
          [
           "cordova"
          ],
          [
           "dallas"
          ],
          [
           "el paso"
          ],
          [
           "sanford"
          ],
          [
           "west monroe"
          ],
          [
           "pasadena"
          ],
          [
           "niles"
          ],
          [
           "bowie"
          ],
          [
           "citrus heights"
          ],
          [
           "san carlos"
          ],
          [
           "richmond heights"
          ],
          [
           "south holland"
          ],
          [
           "huntsville"
          ],
          [
           "houston"
          ],
          [
           "randolph"
          ],
          [
           "oceanside"
          ],
          [
           "fort pierce"
          ],
          [
           "tampa"
          ],
          [
           "austin"
          ],
          [
           "layton"
          ],
          [
           "columbus"
          ],
          [
           "manassas"
          ],
          [
           "chicago"
          ],
          [
           "greenacres"
          ],
          [
           "gainesville"
          ],
          [
           "san jose"
          ],
          [
           "conway"
          ],
          [
           "columbus"
          ],
          [
           "evansville"
          ],
          [
           "sacramento"
          ],
          [
           "brooklyn"
          ],
          [
           "houston"
          ],
          [
           "hialeah"
          ],
          [
           "jonesboro"
          ],
          [
           "springfield"
          ],
          [
           "ukiah"
          ],
          [
           "cypress"
          ],
          [
           "clarksville"
          ],
          [
           "centerville"
          ],
          [
           "san diego"
          ],
          [
           "watauga"
          ],
          [
           "broomfield"
          ],
          [
           "dallas"
          ],
          [
           "rancho cucamonga"
          ],
          [
           "edwardsville"
          ],
          [
           "independence"
          ],
          [
           "macon"
          ],
          [
           "columbus"
          ],
          [
           "santa clarita"
          ],
          [
           "hanover"
          ],
          [
           "bolingbrook"
          ],
          [
           "kingsport"
          ],
          [
           "north miami beach"
          ],
          [
           "hobart"
          ],
          [
           "long beach"
          ],
          [
           "chicago"
          ],
          [
           "nashville"
          ],
          [
           "manchester"
          ],
          [
           "concord"
          ],
          [
           "mesa"
          ],
          [
           "chicago"
          ],
          [
           "denver"
          ],
          [
           "smyrna"
          ],
          [
           "taylors"
          ],
          [
           "grapevine"
          ],
          [
           "riverdale"
          ],
          [
           "martinez"
          ],
          [
           "douglasville"
          ],
          [
           "irving"
          ],
          [
           "ames"
          ],
          [
           "dallas"
          ],
          [
           "sugar land"
          ],
          [
           "chicago"
          ],
          [
           "cypress"
          ],
          [
           "winter park"
          ],
          [
           "chicago"
          ],
          [
           "starkville"
          ],
          [
           "port isabel"
          ],
          [
           "baton rouge"
          ],
          [
           "charlotte"
          ],
          [
           "decatur"
          ],
          [
           "tucker"
          ],
          [
           "winston-salem"
          ],
          [
           "houston"
          ],
          [
           "baltimore"
          ],
          [
           "bronx"
          ],
          [
           "jacksonville"
          ],
          [
           "centereach"
          ],
          [
           "springdale"
          ],
          [
           "newark"
          ],
          [
           "clearwater"
          ],
          [
           "phoenix"
          ],
          [
           "el paso"
          ],
          [
           "pearland"
          ],
          [
           "college station"
          ],
          [
           "redlands"
          ],
          [
           "buford"
          ],
          [
           "philadelphia"
          ],
          [
           "los angeles"
          ],
          [
           "salt lake city"
          ],
          [
           "conroe"
          ],
          [
           "commerce city"
          ],
          [
           "ogden"
          ],
          [
           "st petersburg"
          ],
          [
           "mcdonough"
          ],
          [
           "kankakee"
          ],
          [
           "mayfield heights"
          ],
          [
           "fort lauderdale"
          ],
          [
           "upper darby"
          ],
          [
           "moreno valley"
          ],
          [
           "linden"
          ],
          [
           "west palm beach"
          ],
          [
           "palmdale"
          ],
          [
           "royal oak"
          ],
          [
           "arlington"
          ],
          [
           "huntington beach"
          ],
          [
           "charlotte"
          ],
          [
           "fountain"
          ],
          [
           "shirley"
          ],
          [
           "lompoc"
          ],
          [
           "goleta"
          ],
          [
           "burlington"
          ],
          [
           "apopka"
          ],
          [
           "montgomery"
          ],
          [
           "cliffwood"
          ],
          [
           "bronx"
          ],
          [
           "macomb"
          ],
          [
           "storrs"
          ],
          [
           "conyers"
          ],
          [
           "durham"
          ],
          [
           "conshohocken"
          ],
          [
           "philadelphia"
          ],
          [
           "andrews"
          ],
          [
           "ann arbor"
          ],
          [
           "houston"
          ],
          [
           "palmdale"
          ],
          [
           "oak park"
          ],
          [
           "midvale"
          ],
          [
           "angleton"
          ],
          [
           "elyria"
          ],
          [
           "sandy"
          ],
          [
           "scottsdale"
          ],
          [
           "warren"
          ],
          [
           "kansas city"
          ],
          [
           "kissimmee"
          ],
          [
           "palm desert"
          ],
          [
           "dallas"
          ],
          [
           "san jose"
          ],
          [
           "mountain view"
          ],
          [
           "antioch"
          ],
          [
           "atlanta"
          ],
          [
           "taylor"
          ],
          [
           "hendersonville"
          ],
          [
           "jacksonville"
          ],
          [
           "schiller park"
          ],
          [
           "alexandria"
          ],
          [
           "birmingham"
          ],
          [
           "poulsbo"
          ],
          [
           "thousand oaks"
          ],
          [
           "pacifica"
          ],
          [
           "waukesha"
          ],
          [
           "kansas city"
          ],
          [
           "romeoville"
          ],
          [
           "plano"
          ],
          [
           "denver"
          ],
          [
           "houston"
          ],
          [
           "indianapolis"
          ],
          [
           "lindenhurst"
          ],
          [
           "jamaica"
          ],
          [
           "new york"
          ],
          [
           "san luis obispo"
          ],
          [
           "new lenox"
          ],
          [
           "foster city"
          ],
          [
           "plainfield"
          ],
          [
           "pleasanton"
          ],
          [
           "raytown"
          ],
          [
           "nashville"
          ],
          [
           "grandview"
          ],
          [
           "rochelle park"
          ],
          [
           "san jose"
          ],
          [
           "chattanooga"
          ],
          [
           "lockport"
          ],
          [
           "mesa"
          ],
          [
           "clementon"
          ],
          [
           "monroe"
          ],
          [
           "ridgecrest"
          ],
          [
           "logan"
          ],
          [
           "maryville"
          ],
          [
           "garner"
          ],
          [
           "beaverton"
          ],
          [
           "hemet"
          ]
         ],
         "hovertemplate": "STORE_NUMBER=%{x}<br>Profit/Loss=%{y}<br>CITY_NAME=%{customdata[0]}<extra></extra>",
         "legendgroup": "",
         "marker": {
          "color": "#636efa",
          "symbol": "circle"
         },
         "mode": "markers",
         "name": "",
         "orientation": "v",
         "showlegend": false,
         "type": "scatter",
         "x": [
          150,
          302,
          979,
          202,
          573,
          769,
          62,
          1051,
          380,
          856,
          584,
          458,
          1218,
          261,
          997,
          171,
          254,
          877,
          625,
          296,
          713,
          1185,
          373,
          511,
          622,
          538,
          748,
          545,
          271,
          340,
          969,
          144,
          806,
          509,
          605,
          1225,
          1212,
          133,
          589,
          158,
          534,
          754,
          1077,
          1143,
          391,
          61,
          488,
          435,
          1315,
          672,
          469,
          387,
          516,
          737,
          1321,
          78,
          392,
          977,
          245,
          465,
          727,
          308,
          766,
          1066,
          959,
          1209,
          249,
          725,
          1058,
          431,
          494,
          443,
          389,
          576,
          295,
          287,
          734,
          1111,
          878,
          1229,
          94,
          107,
          27,
          1357,
          1566,
          1169,
          257,
          684,
          137,
          1468,
          632,
          5,
          219,
          712,
          1023,
          743,
          1076,
          251,
          205,
          411,
          692,
          441,
          407,
          1081,
          64,
          39,
          808,
          577,
          968,
          1323,
          868,
          1416,
          1162,
          775,
          1233,
          1365,
          1520,
          1413,
          551,
          679,
          1294,
          182,
          1260,
          155,
          31,
          72,
          1203,
          1024,
          835,
          1443,
          372,
          1450,
          1152,
          1236,
          1373,
          686,
          819,
          1346,
          101,
          234,
          237,
          1589,
          883,
          813,
          453,
          298,
          345,
          361,
          484,
          1311,
          1500,
          601,
          637,
          123,
          386,
          1151,
          52,
          770,
          514,
          1300,
          879,
          781,
          1062,
          580,
          376,
          1390,
          1235,
          1303,
          676,
          238,
          587,
          1061,
          771,
          1551,
          1012,
          1206,
          1278,
          1334,
          1415,
          109,
          611,
          127,
          1132,
          1333,
          1205,
          16,
          1078,
          1003,
          825,
          598,
          424,
          1019,
          552,
          353,
          153,
          1251,
          1436,
          1201,
          1179,
          1664,
          1337,
          700,
          1129,
          537,
          1466,
          1126,
          526,
          320,
          671,
          1427,
          363,
          1364,
          250,
          500,
          862,
          1244,
          821,
          1556,
          1049,
          1064,
          1381,
          51,
          578,
          633,
          1232,
          751,
          708,
          1022,
          1053,
          315,
          1114,
          864,
          1142,
          687,
          1460,
          1484,
          1353,
          805,
          1513,
          610,
          759,
          788,
          167,
          1180,
          1382,
          1065,
          1327,
          600,
          1263,
          2,
          1389,
          1729,
          207,
          1444,
          323,
          1507,
          656,
          777,
          442,
          888,
          1499,
          1175,
          1343,
          1538,
          1510,
          1437,
          1491,
          1476,
          1525,
          1712,
          1598,
          1596,
          1650,
          2059,
          1688,
          1717,
          1567,
          2037,
          7001,
          1752,
          2022,
          1749,
          2041,
          1869,
          1548,
          1780,
          1912,
          1580,
          1252,
          1641,
          1942,
          1967,
          1630,
          1913,
          1550,
          7,
          1700,
          1865,
          2070,
          1617,
          1668,
          2012,
          1599,
          1880,
          2137,
          2014,
          1571,
          1960,
          846,
          1665,
          2065,
          1993,
          1626,
          1762,
          1871,
          2034,
          1975,
          2005,
          1902,
          1884,
          2035,
          1807,
          1987,
          2050,
          1797,
          1909,
          2029,
          947,
          2067,
          1870,
          1875,
          2077,
          1544,
          2087,
          1805,
          1937,
          1974,
          1936,
          1800,
          1806,
          1941,
          2198,
          2203,
          1878,
          2255,
          2150,
          2148,
          785,
          1592,
          1660,
          942,
          845,
          2208,
          2142,
          2216,
          2066,
          1795,
          2132,
          2221,
          2285,
          2217,
          2128,
          2188,
          1620,
          2147,
          2299,
          1637,
          2240,
          2153,
          1542,
          1547,
          1576
         ],
         "xaxis": "x",
         "y": [
          4886829.720000001,
          4698649.510000002,
          4290890.089999998,
          3918400.3400000017,
          3891578.8200000003,
          3761374.829999999,
          3701820.99,
          3679680.83,
          3627741.9399999995,
          3626342.960000001,
          3600373.8900000006,
          3515424.5199999996,
          3216074.2700000014,
          3129063.210000001,
          3096050.99,
          3073379.9799999986,
          3072163.41,
          3065095.5,
          3039437.969999999,
          3039418.38,
          3011099.84,
          2989073.039999999,
          2985981.16,
          2927794.959999999,
          2871999.2300000004,
          2860995.7300000004,
          2853438.67,
          2850139.539999999,
          2814645.6799999997,
          2798966.549999999,
          2796468.51,
          2793789.45,
          2791399.25,
          2778791.8499999996,
          2767188.01,
          2751700.4800000004,
          2738354.9699999997,
          2693575.6399999997,
          2652214.0699999994,
          2639609.09,
          2620417.469999999,
          2615861.5299999993,
          2606252.63,
          2602183.6399999987,
          2600984.2699999996,
          2578328.8999999994,
          2577450.6400000006,
          2562562.49,
          2560816.17,
          2558864.210000001,
          2555658.88,
          2510675.2700000005,
          2491192.42,
          2487977.329999999,
          2467983.6000000006,
          2466743.6899999995,
          2460017.33,
          2451496.6399999997,
          2449479.58,
          2427771.8499999996,
          2424352.1099999994,
          2407917.3600000003,
          2392034.3,
          2386231.8500000006,
          2378423.3499999987,
          2376177.75,
          2359765.75,
          2353062.88,
          2314707.67,
          2301611.76,
          2296906.4400000004,
          2291744.4400000004,
          2286762.76,
          2278545.87,
          2269116.6099999994,
          2264102.67,
          2261076.2700000005,
          2249787.1099999994,
          2245517.4000000004,
          2242626.4400000004,
          2239131.3900000006,
          2235363.91,
          2231389.55,
          2227195.3999999985,
          2218208.8500000015,
          2202500.5,
          2187935.3499999996,
          2186020.0199999996,
          2169825.71,
          2163637.369999999,
          2163436.54,
          2161467.34,
          2126272.3899999997,
          2124675.74,
          2120818.5999999996,
          2113871.7799999993,
          2113061.5100000007,
          2089622.5900000008,
          2088053.21,
          2077542.9900000002,
          2073744.8599999994,
          2062529.0700000003,
          2060828.7199999997,
          2060803,
          2058887.710000001,
          2041736.7599999998,
          2038899.9500000002,
          2037161.4699999988,
          2033099.04,
          2011360.0099999998,
          2003756.5800000005,
          2003626.0199999996,
          1991132.4500000011,
          1990372.6800000006,
          1985807.2300000004,
          1984058.6799999997,
          1979067.71,
          1974850.75,
          1962818.8299999991,
          1953894,
          1941685.37,
          1930953.9500000002,
          1927072.6500000004,
          1922631.2599999998,
          1920888.08,
          1906640.790000001,
          1905808.4699999997,
          1904679.8000000007,
          1891596.3200000003,
          1891044.3399999999,
          1889611.37,
          1871728.2000000002,
          1866695.2600000002,
          1856864.7300000004,
          1850937.9400000004,
          1848579.88,
          1846738.6899999995,
          1846440.1400000006,
          1833101.37,
          1820715.1100000003,
          1808770.0999999996,
          1802355.3900000006,
          1791446.5099999998,
          1787617.13,
          1779970.0899999999,
          1776825.3099999996,
          1773668.9800000004,
          1748327.4799999995,
          1747241.25,
          1728507.9299999997,
          1725814.9599999995,
          1722479.96,
          1712384.1399999997,
          1703490.3299999991,
          1702322.6600000001,
          1698513.1899999995,
          1697627.5200000005,
          1690851.8299999991,
          1690674.13,
          1678634.000000001,
          1669866.3399999999,
          1660869.83,
          1655332.0099999998,
          1650383.7800000003,
          1646456.8299999996,
          1638160.0699999994,
          1637339.7800000003,
          1625506.9799999995,
          1619630.8899999997,
          1607582.5499999998,
          1603241.8999999994,
          1602217.7999999998,
          1597334.37,
          1591209.410000001,
          1587285.6600000001,
          1582016.9299999997,
          1563545.8499999996,
          1561528.7300000004,
          1549244.1399999987,
          1536885.3200000003,
          1523999.81,
          1515106.3600000003,
          1503894.2299999995,
          1503752.2700000005,
          1499359.7000000002,
          1487339.25,
          1484563.1700000004,
          1480044.2600000002,
          1479741.5699999998,
          1470132.29,
          1465140.12,
          1461294.5899999999,
          1460356.7300000004,
          1457451.9300000002,
          1451157.9299999997,
          1443774.85,
          1440978.38,
          1440414.3099999996,
          1439996.7200000002,
          1427835.04,
          1420659.4,
          1409588.0099999998,
          1393198.7800000003,
          1392314.2099999995,
          1391488.4699999997,
          1386587.5599999996,
          1386010.2000000002,
          1385978.9699999997,
          1380395.65,
          1376801.4,
          1358712.25,
          1353273.3199999998,
          1345238.3500000006,
          1334392.75,
          1330980.2200000002,
          1324696.6400000001,
          1323650.9100000001,
          1323176.0199999996,
          1308961.5699999998,
          1297667.8099999996,
          1294712.37,
          1287395.2700000005,
          1285734.4299999997,
          1283227.4099999992,
          1281393.4500000002,
          1275272.3300000005,
          1273450.4699999997,
          1259419.3599999999,
          1255947.1600000001,
          1243075.0100000007,
          1241746.9100000001,
          1239670.9100000001,
          1237310.58,
          1198570.2200000002,
          1197031.5899999999,
          1187385.5599999996,
          1186877.3000000003,
          1166561.3699999996,
          1160383.1,
          1158555.6799999997,
          1157240.4400000004,
          1129173.9900000002,
          1093022.1600000001,
          1089614.9699999997,
          1074002.94,
          1065343.8599999999,
          1052388.7600000002,
          1040558.25,
          1007641.1600000001,
          996217.1500000004,
          992466.7200000002,
          991261.0499999998,
          987553.2499999995,
          972268.2599999998,
          962769.0900000003,
          901107.8899999997,
          900416.6800000002,
          888150.44,
          853859.5599999996,
          823799.96,
          820836.2000000002,
          785708.0199999996,
          781896.69,
          779923.1300000004,
          772057.1399999997,
          731971.8999999999,
          685866.3599999999,
          678805.6600000001,
          650291.2999999998,
          641761.8599999999,
          639565.5700000003,
          619362.6800000002,
          607580.3399999999,
          597158.5300000003,
          595270.79,
          593120.6100000003,
          569635.7800000003,
          559962.8600000001,
          558146.0999999999,
          552207.7399999993,
          531889.9299999997,
          512812.18999999994,
          511474.9299999997,
          504098.8500000001,
          480362.4400000004,
          464940.36999999965,
          460619.64000000013,
          455703.04000000004,
          453757.5099999998,
          436138.78000000026,
          433982.5,
          433922.05000000005,
          433877.8299999996,
          433430.8700000001,
          430910.18000000017,
          425145.35,
          407295.4900000002,
          392137.81000000006,
          387421.6399999999,
          359898.79000000004,
          349109.20999999996,
          340617.3099999996,
          309648.35999999987,
          305569.82999999984,
          284891.9099999999,
          284065.10999999987,
          274314.46999999974,
          263978.9099999999,
          262219.31999999995,
          256248.3999999999,
          249577.49,
          246770.54999999993,
          234434.61000000034,
          229573.83000000007,
          225800.83999999985,
          225042.69999999995,
          224831.07999999984,
          224422.3500000001,
          205484.47999999998,
          190666.3600000001,
          184106.60999999987,
          178847.3600000001,
          163416.02000000002,
          161596.81000000006,
          157430.05000000005,
          154070.06000000006,
          152669.9700000001,
          137640.35999999987,
          137593.02000000002,
          133790.20999999996,
          133049.18000000017,
          124346.02000000002,
          121410.79000000004,
          107898.72999999998,
          102228.73999999999,
          83201.98999999999,
          83012.0299999998,
          81434.56000000006,
          76864.44999999972,
          75146.75,
          63661.869999999995,
          55555.78000000003,
          53190.99000000005,
          49571.8600000001,
          44896.73000000001,
          30964.409999999974,
          29543.03999999998,
          29422.41,
          24172.52999999991,
          23475.200000000186,
          21334.75,
          21256.25,
          19416.630000000005,
          12778.139999999985,
          9482.049999999988,
          7401.470000000001,
          5285.370000000112,
          4867.76,
          2027.8900000000003,
          348.4499999999998,
          -1282.0999999999995,
          -5193.110000000102,
          -10165.48999999999,
          -15736.909999999683,
          -16798.130000000005,
          -53001.62999999999,
          -59502.419999999925,
          -59666.54,
          -113362.12999999989,
          -266766.95999999996,
          -433828.36000000034,
          -944321.3599999999
         ],
         "yaxis": "y"
        }
       ],
       "layout": {
        "legend": {
         "tracegroupgap": 0
        },
        "shapes": [
         {
          "type": "line",
          "x0": 0,
          "x1": 1,
          "xref": "x domain",
          "y0": 0,
          "y1": 0,
          "yref": "y"
         }
        ],
        "template": {
         "data": {
          "bar": [
           {
            "error_x": {
             "color": "#2a3f5f"
            },
            "error_y": {
             "color": "#2a3f5f"
            },
            "marker": {
             "line": {
              "color": "#E5ECF6",
              "width": 0.5
             },
             "pattern": {
              "fillmode": "overlay",
              "size": 10,
              "solidity": 0.2
             }
            },
            "type": "bar"
           }
          ],
          "barpolar": [
           {
            "marker": {
             "line": {
              "color": "#E5ECF6",
              "width": 0.5
             },
             "pattern": {
              "fillmode": "overlay",
              "size": 10,
              "solidity": 0.2
             }
            },
            "type": "barpolar"
           }
          ],
          "carpet": [
           {
            "aaxis": {
             "endlinecolor": "#2a3f5f",
             "gridcolor": "white",
             "linecolor": "white",
             "minorgridcolor": "white",
             "startlinecolor": "#2a3f5f"
            },
            "baxis": {
             "endlinecolor": "#2a3f5f",
             "gridcolor": "white",
             "linecolor": "white",
             "minorgridcolor": "white",
             "startlinecolor": "#2a3f5f"
            },
            "type": "carpet"
           }
          ],
          "choropleth": [
           {
            "colorbar": {
             "outlinewidth": 0,
             "ticks": ""
            },
            "type": "choropleth"
           }
          ],
          "contour": [
           {
            "colorbar": {
             "outlinewidth": 0,
             "ticks": ""
            },
            "colorscale": [
             [
              0,
              "#0d0887"
             ],
             [
              0.1111111111111111,
              "#46039f"
             ],
             [
              0.2222222222222222,
              "#7201a8"
             ],
             [
              0.3333333333333333,
              "#9c179e"
             ],
             [
              0.4444444444444444,
              "#bd3786"
             ],
             [
              0.5555555555555556,
              "#d8576b"
             ],
             [
              0.6666666666666666,
              "#ed7953"
             ],
             [
              0.7777777777777778,
              "#fb9f3a"
             ],
             [
              0.8888888888888888,
              "#fdca26"
             ],
             [
              1,
              "#f0f921"
             ]
            ],
            "type": "contour"
           }
          ],
          "contourcarpet": [
           {
            "colorbar": {
             "outlinewidth": 0,
             "ticks": ""
            },
            "type": "contourcarpet"
           }
          ],
          "heatmap": [
           {
            "colorbar": {
             "outlinewidth": 0,
             "ticks": ""
            },
            "colorscale": [
             [
              0,
              "#0d0887"
             ],
             [
              0.1111111111111111,
              "#46039f"
             ],
             [
              0.2222222222222222,
              "#7201a8"
             ],
             [
              0.3333333333333333,
              "#9c179e"
             ],
             [
              0.4444444444444444,
              "#bd3786"
             ],
             [
              0.5555555555555556,
              "#d8576b"
             ],
             [
              0.6666666666666666,
              "#ed7953"
             ],
             [
              0.7777777777777778,
              "#fb9f3a"
             ],
             [
              0.8888888888888888,
              "#fdca26"
             ],
             [
              1,
              "#f0f921"
             ]
            ],
            "type": "heatmap"
           }
          ],
          "heatmapgl": [
           {
            "colorbar": {
             "outlinewidth": 0,
             "ticks": ""
            },
            "colorscale": [
             [
              0,
              "#0d0887"
             ],
             [
              0.1111111111111111,
              "#46039f"
             ],
             [
              0.2222222222222222,
              "#7201a8"
             ],
             [
              0.3333333333333333,
              "#9c179e"
             ],
             [
              0.4444444444444444,
              "#bd3786"
             ],
             [
              0.5555555555555556,
              "#d8576b"
             ],
             [
              0.6666666666666666,
              "#ed7953"
             ],
             [
              0.7777777777777778,
              "#fb9f3a"
             ],
             [
              0.8888888888888888,
              "#fdca26"
             ],
             [
              1,
              "#f0f921"
             ]
            ],
            "type": "heatmapgl"
           }
          ],
          "histogram": [
           {
            "marker": {
             "pattern": {
              "fillmode": "overlay",
              "size": 10,
              "solidity": 0.2
             }
            },
            "type": "histogram"
           }
          ],
          "histogram2d": [
           {
            "colorbar": {
             "outlinewidth": 0,
             "ticks": ""
            },
            "colorscale": [
             [
              0,
              "#0d0887"
             ],
             [
              0.1111111111111111,
              "#46039f"
             ],
             [
              0.2222222222222222,
              "#7201a8"
             ],
             [
              0.3333333333333333,
              "#9c179e"
             ],
             [
              0.4444444444444444,
              "#bd3786"
             ],
             [
              0.5555555555555556,
              "#d8576b"
             ],
             [
              0.6666666666666666,
              "#ed7953"
             ],
             [
              0.7777777777777778,
              "#fb9f3a"
             ],
             [
              0.8888888888888888,
              "#fdca26"
             ],
             [
              1,
              "#f0f921"
             ]
            ],
            "type": "histogram2d"
           }
          ],
          "histogram2dcontour": [
           {
            "colorbar": {
             "outlinewidth": 0,
             "ticks": ""
            },
            "colorscale": [
             [
              0,
              "#0d0887"
             ],
             [
              0.1111111111111111,
              "#46039f"
             ],
             [
              0.2222222222222222,
              "#7201a8"
             ],
             [
              0.3333333333333333,
              "#9c179e"
             ],
             [
              0.4444444444444444,
              "#bd3786"
             ],
             [
              0.5555555555555556,
              "#d8576b"
             ],
             [
              0.6666666666666666,
              "#ed7953"
             ],
             [
              0.7777777777777778,
              "#fb9f3a"
             ],
             [
              0.8888888888888888,
              "#fdca26"
             ],
             [
              1,
              "#f0f921"
             ]
            ],
            "type": "histogram2dcontour"
           }
          ],
          "mesh3d": [
           {
            "colorbar": {
             "outlinewidth": 0,
             "ticks": ""
            },
            "type": "mesh3d"
           }
          ],
          "parcoords": [
           {
            "line": {
             "colorbar": {
              "outlinewidth": 0,
              "ticks": ""
             }
            },
            "type": "parcoords"
           }
          ],
          "pie": [
           {
            "automargin": true,
            "type": "pie"
           }
          ],
          "scatter": [
           {
            "fillpattern": {
             "fillmode": "overlay",
             "size": 10,
             "solidity": 0.2
            },
            "type": "scatter"
           }
          ],
          "scatter3d": [
           {
            "line": {
             "colorbar": {
              "outlinewidth": 0,
              "ticks": ""
             }
            },
            "marker": {
             "colorbar": {
              "outlinewidth": 0,
              "ticks": ""
             }
            },
            "type": "scatter3d"
           }
          ],
          "scattercarpet": [
           {
            "marker": {
             "colorbar": {
              "outlinewidth": 0,
              "ticks": ""
             }
            },
            "type": "scattercarpet"
           }
          ],
          "scattergeo": [
           {
            "marker": {
             "colorbar": {
              "outlinewidth": 0,
              "ticks": ""
             }
            },
            "type": "scattergeo"
           }
          ],
          "scattergl": [
           {
            "marker": {
             "colorbar": {
              "outlinewidth": 0,
              "ticks": ""
             }
            },
            "type": "scattergl"
           }
          ],
          "scattermapbox": [
           {
            "marker": {
             "colorbar": {
              "outlinewidth": 0,
              "ticks": ""
             }
            },
            "type": "scattermapbox"
           }
          ],
          "scatterpolar": [
           {
            "marker": {
             "colorbar": {
              "outlinewidth": 0,
              "ticks": ""
             }
            },
            "type": "scatterpolar"
           }
          ],
          "scatterpolargl": [
           {
            "marker": {
             "colorbar": {
              "outlinewidth": 0,
              "ticks": ""
             }
            },
            "type": "scatterpolargl"
           }
          ],
          "scatterternary": [
           {
            "marker": {
             "colorbar": {
              "outlinewidth": 0,
              "ticks": ""
             }
            },
            "type": "scatterternary"
           }
          ],
          "surface": [
           {
            "colorbar": {
             "outlinewidth": 0,
             "ticks": ""
            },
            "colorscale": [
             [
              0,
              "#0d0887"
             ],
             [
              0.1111111111111111,
              "#46039f"
             ],
             [
              0.2222222222222222,
              "#7201a8"
             ],
             [
              0.3333333333333333,
              "#9c179e"
             ],
             [
              0.4444444444444444,
              "#bd3786"
             ],
             [
              0.5555555555555556,
              "#d8576b"
             ],
             [
              0.6666666666666666,
              "#ed7953"
             ],
             [
              0.7777777777777778,
              "#fb9f3a"
             ],
             [
              0.8888888888888888,
              "#fdca26"
             ],
             [
              1,
              "#f0f921"
             ]
            ],
            "type": "surface"
           }
          ],
          "table": [
           {
            "cells": {
             "fill": {
              "color": "#EBF0F8"
             },
             "line": {
              "color": "white"
             }
            },
            "header": {
             "fill": {
              "color": "#C8D4E3"
             },
             "line": {
              "color": "white"
             }
            },
            "type": "table"
           }
          ]
         },
         "layout": {
          "annotationdefaults": {
           "arrowcolor": "#2a3f5f",
           "arrowhead": 0,
           "arrowwidth": 1
          },
          "autotypenumbers": "strict",
          "coloraxis": {
           "colorbar": {
            "outlinewidth": 0,
            "ticks": ""
           }
          },
          "colorscale": {
           "diverging": [
            [
             0,
             "#8e0152"
            ],
            [
             0.1,
             "#c51b7d"
            ],
            [
             0.2,
             "#de77ae"
            ],
            [
             0.3,
             "#f1b6da"
            ],
            [
             0.4,
             "#fde0ef"
            ],
            [
             0.5,
             "#f7f7f7"
            ],
            [
             0.6,
             "#e6f5d0"
            ],
            [
             0.7,
             "#b8e186"
            ],
            [
             0.8,
             "#7fbc41"
            ],
            [
             0.9,
             "#4d9221"
            ],
            [
             1,
             "#276419"
            ]
           ],
           "sequential": [
            [
             0,
             "#0d0887"
            ],
            [
             0.1111111111111111,
             "#46039f"
            ],
            [
             0.2222222222222222,
             "#7201a8"
            ],
            [
             0.3333333333333333,
             "#9c179e"
            ],
            [
             0.4444444444444444,
             "#bd3786"
            ],
            [
             0.5555555555555556,
             "#d8576b"
            ],
            [
             0.6666666666666666,
             "#ed7953"
            ],
            [
             0.7777777777777778,
             "#fb9f3a"
            ],
            [
             0.8888888888888888,
             "#fdca26"
            ],
            [
             1,
             "#f0f921"
            ]
           ],
           "sequentialminus": [
            [
             0,
             "#0d0887"
            ],
            [
             0.1111111111111111,
             "#46039f"
            ],
            [
             0.2222222222222222,
             "#7201a8"
            ],
            [
             0.3333333333333333,
             "#9c179e"
            ],
            [
             0.4444444444444444,
             "#bd3786"
            ],
            [
             0.5555555555555556,
             "#d8576b"
            ],
            [
             0.6666666666666666,
             "#ed7953"
            ],
            [
             0.7777777777777778,
             "#fb9f3a"
            ],
            [
             0.8888888888888888,
             "#fdca26"
            ],
            [
             1,
             "#f0f921"
            ]
           ]
          },
          "colorway": [
           "#636efa",
           "#EF553B",
           "#00cc96",
           "#ab63fa",
           "#FFA15A",
           "#19d3f3",
           "#FF6692",
           "#B6E880",
           "#FF97FF",
           "#FECB52"
          ],
          "font": {
           "color": "#2a3f5f"
          },
          "geo": {
           "bgcolor": "white",
           "lakecolor": "white",
           "landcolor": "#E5ECF6",
           "showlakes": true,
           "showland": true,
           "subunitcolor": "white"
          },
          "hoverlabel": {
           "align": "left"
          },
          "hovermode": "closest",
          "mapbox": {
           "style": "light"
          },
          "paper_bgcolor": "white",
          "plot_bgcolor": "#E5ECF6",
          "polar": {
           "angularaxis": {
            "gridcolor": "white",
            "linecolor": "white",
            "ticks": ""
           },
           "bgcolor": "#E5ECF6",
           "radialaxis": {
            "gridcolor": "white",
            "linecolor": "white",
            "ticks": ""
           }
          },
          "scene": {
           "xaxis": {
            "backgroundcolor": "#E5ECF6",
            "gridcolor": "white",
            "gridwidth": 2,
            "linecolor": "white",
            "showbackground": true,
            "ticks": "",
            "zerolinecolor": "white"
           },
           "yaxis": {
            "backgroundcolor": "#E5ECF6",
            "gridcolor": "white",
            "gridwidth": 2,
            "linecolor": "white",
            "showbackground": true,
            "ticks": "",
            "zerolinecolor": "white"
           },
           "zaxis": {
            "backgroundcolor": "#E5ECF6",
            "gridcolor": "white",
            "gridwidth": 2,
            "linecolor": "white",
            "showbackground": true,
            "ticks": "",
            "zerolinecolor": "white"
           }
          },
          "shapedefaults": {
           "line": {
            "color": "#2a3f5f"
           }
          },
          "ternary": {
           "aaxis": {
            "gridcolor": "white",
            "linecolor": "white",
            "ticks": ""
           },
           "baxis": {
            "gridcolor": "white",
            "linecolor": "white",
            "ticks": ""
           },
           "bgcolor": "#E5ECF6",
           "caxis": {
            "gridcolor": "white",
            "linecolor": "white",
            "ticks": ""
           }
          },
          "title": {
           "x": 0.05
          },
          "xaxis": {
           "automargin": true,
           "gridcolor": "white",
           "linecolor": "white",
           "ticks": "",
           "title": {
            "standoff": 15
           },
           "zerolinecolor": "white",
           "zerolinewidth": 2
          },
          "yaxis": {
           "automargin": true,
           "gridcolor": "white",
           "linecolor": "white",
           "ticks": "",
           "title": {
            "standoff": 15
           },
           "zerolinecolor": "white",
           "zerolinewidth": 2
          }
         }
        },
        "title": {
         "text": "Profit and loss of different Stores"
        },
        "xaxis": {
         "anchor": "y",
         "domain": [
          0,
          1
         ],
         "title": {
          "text": "STORE_NUMBER"
         }
        },
        "yaxis": {
         "anchor": "x",
         "domain": [
          0,
          1
         ],
         "title": {
          "text": "Profit/Loss"
         }
        }
       }
      }
     },
     "metadata": {},
     "output_type": "display_data"
    }
   ],
   "source": [
    "fig = px.scatter(data_frame=comp_group,x='STORE_NUMBER',y='Profit/Loss',title='Profit and loss of different Stores',hover_data='CITY_NAME')\n",
    "fig.add_hline(y=0)\n",
    "fig.show()"
   ]
  },
  {
   "cell_type": "code",
   "execution_count": 24,
   "metadata": {},
   "outputs": [
    {
     "data": {
      "application/vnd.plotly.v1+json": {
       "config": {
        "plotlyServerURL": "https://plot.ly"
       },
       "data": [
        {
         "customdata": [
          [
           15746129.910000002
          ],
          [
           14005915.199999997
          ],
          [
           12849340.86
          ],
          [
           14355585.529999997
          ],
          [
           10715335.579999998
          ],
          [
           6674072.419999999
          ],
          [
           6653508.37
          ],
          [
           5912288.07
          ],
          [
           5312511.369999999
          ],
          [
           4286930.82
          ],
          [
           5134610.159999999
          ],
          [
           5894510.699999999
          ],
          [
           4698649.510000002
          ],
          [
           5112253.55
          ],
          [
           4829567.55
          ],
          [
           4886829.720000001
          ],
          [
           5014169.99
          ],
          [
           4301264.139999999
          ],
          [
           4357305.109999999
          ],
          [
           4290890.089999998
          ],
          [
           3979233.960000001
          ],
          [
           3805637.500000001
          ],
          [
           3472584.0299999993
          ],
          [
           3647402.8899999997
          ],
          [
           3710924.04
          ],
          [
           3701820.99
          ],
          [
           3374640.499999999
          ],
          [
           3337649.7500000005
          ],
          [
           3891578.8200000003
          ],
          [
           2218208.8500000015
          ],
          [
           3849326.5299999993
          ],
          [
           3515424.5199999996
          ],
          [
           3285019.4699999997
          ],
          [
           2871999.2300000004
          ],
          [
           3679680.83
          ],
          [
           3216074.2700000014
          ],
          [
           3065095.5
          ],
          [
           3745307.6199999996
          ],
          [
           3129063.210000001
          ],
          [
           2309431.91
          ],
          [
           2849497.4599999995
          ],
          [
           3039418.38
          ],
          [
           2927794.959999999
          ],
          [
           2577450.6400000006
          ],
          [
           2798966.549999999
          ],
          [
           2791399.25
          ],
          [
           3039437.969999999
          ],
          [
           2466743.6899999995
          ],
          [
           2620417.469999999
          ],
          [
           2163637.369999999
          ]
         ],
         "hovertemplate": "CITY_NAME=%{x}<br>NET_SALES_FINAL_USD_AMOUNT=%{marker.size}<br>Profit/Loss=%{customdata[0]}<extra></extra>",
         "legendgroup": "",
         "marker": {
          "color": "#636efa",
          "size": [
           69042149.82000001,
           60959105.089999996,
           56977023.75,
           55200351.81,
           45274994.29,
           30971685.18,
           27271764.2,
           23234317.72,
           22724450.86,
           22040201.53,
           21617186.81,
           21328535.65,
           20738973.51,
           20619047.990000002,
           20291941.54,
           19879961.98,
           18813253.64,
           17923213.06,
           17699545.689999998,
           17013513.15,
           16736420.55,
           16368872.34,
           16102528.05,
           16081286.92,
           15769175.149999999,
           15311705.44,
           14933483.45,
           14925141.100000001,
           14342691.25,
           14198772.71,
           13803446.75,
           13666791.19,
           13544160.25,
           12958809.8,
           12716913.19,
           12551041.81,
           12491051.82,
           12427945.89,
           12137154.13,
           11929524.940000001,
           11887862.01,
           11405828.09,
           11397931.59,
           11356654.84,
           11338448.87,
           11272065.76,
           11223848.12,
           11062817.52,
           11055721.94,
           10767196.83
          ],
          "sizemode": "area",
          "sizeref": 19178.37495,
          "symbol": "circle"
         },
         "mode": "markers",
         "name": "",
         "orientation": "v",
         "showlegend": false,
         "type": "scatter",
         "x": [
          "houston",
          "dallas",
          "los angeles",
          "chicago",
          "san antonio",
          "san jose",
          "riverside",
          "cypress",
          "aurora",
          "el paso",
          "phoenix",
          "columbus",
          "salinas",
          "tucson",
          "frisco",
          "laredo",
          "bakersfield",
          "brownsville",
          "las vegas",
          "north las vegas",
          "mission",
          "santa clarita",
          "sacramento",
          "long beach",
          "jackson",
          "odessa",
          "irving",
          "charlotte",
          "irvine",
          "santa ana",
          "richmond",
          "van nuys",
          "rancho cucamonga",
          "eastvale",
          "garden grove",
          "kyle",
          "humble",
          "brooklyn",
          "weslaco",
          "newark",
          "arlington",
          "lawndale",
          "gardena",
          "albuquerque",
          "rowlett",
          "rialto",
          "orange",
          "colorado springs",
          "desoto",
          "grand prairie"
         ],
         "xaxis": "x",
         "y": [
          69042149.82000001,
          60959105.089999996,
          56977023.75,
          55200351.81,
          45274994.29,
          30971685.18,
          27271764.2,
          23234317.72,
          22724450.86,
          22040201.53,
          21617186.81,
          21328535.65,
          20738973.51,
          20619047.990000002,
          20291941.54,
          19879961.98,
          18813253.64,
          17923213.06,
          17699545.689999998,
          17013513.15,
          16736420.55,
          16368872.34,
          16102528.05,
          16081286.92,
          15769175.149999999,
          15311705.44,
          14933483.45,
          14925141.100000001,
          14342691.25,
          14198772.71,
          13803446.75,
          13666791.19,
          13544160.25,
          12958809.8,
          12716913.19,
          12551041.81,
          12491051.82,
          12427945.89,
          12137154.13,
          11929524.940000001,
          11887862.01,
          11405828.09,
          11397931.59,
          11356654.84,
          11338448.87,
          11272065.76,
          11223848.12,
          11062817.52,
          11055721.94,
          10767196.83
         ],
         "yaxis": "y"
        }
       ],
       "layout": {
        "legend": {
         "itemsizing": "constant",
         "tracegroupgap": 0
        },
        "template": {
         "data": {
          "bar": [
           {
            "error_x": {
             "color": "#2a3f5f"
            },
            "error_y": {
             "color": "#2a3f5f"
            },
            "marker": {
             "line": {
              "color": "#E5ECF6",
              "width": 0.5
             },
             "pattern": {
              "fillmode": "overlay",
              "size": 10,
              "solidity": 0.2
             }
            },
            "type": "bar"
           }
          ],
          "barpolar": [
           {
            "marker": {
             "line": {
              "color": "#E5ECF6",
              "width": 0.5
             },
             "pattern": {
              "fillmode": "overlay",
              "size": 10,
              "solidity": 0.2
             }
            },
            "type": "barpolar"
           }
          ],
          "carpet": [
           {
            "aaxis": {
             "endlinecolor": "#2a3f5f",
             "gridcolor": "white",
             "linecolor": "white",
             "minorgridcolor": "white",
             "startlinecolor": "#2a3f5f"
            },
            "baxis": {
             "endlinecolor": "#2a3f5f",
             "gridcolor": "white",
             "linecolor": "white",
             "minorgridcolor": "white",
             "startlinecolor": "#2a3f5f"
            },
            "type": "carpet"
           }
          ],
          "choropleth": [
           {
            "colorbar": {
             "outlinewidth": 0,
             "ticks": ""
            },
            "type": "choropleth"
           }
          ],
          "contour": [
           {
            "colorbar": {
             "outlinewidth": 0,
             "ticks": ""
            },
            "colorscale": [
             [
              0,
              "#0d0887"
             ],
             [
              0.1111111111111111,
              "#46039f"
             ],
             [
              0.2222222222222222,
              "#7201a8"
             ],
             [
              0.3333333333333333,
              "#9c179e"
             ],
             [
              0.4444444444444444,
              "#bd3786"
             ],
             [
              0.5555555555555556,
              "#d8576b"
             ],
             [
              0.6666666666666666,
              "#ed7953"
             ],
             [
              0.7777777777777778,
              "#fb9f3a"
             ],
             [
              0.8888888888888888,
              "#fdca26"
             ],
             [
              1,
              "#f0f921"
             ]
            ],
            "type": "contour"
           }
          ],
          "contourcarpet": [
           {
            "colorbar": {
             "outlinewidth": 0,
             "ticks": ""
            },
            "type": "contourcarpet"
           }
          ],
          "heatmap": [
           {
            "colorbar": {
             "outlinewidth": 0,
             "ticks": ""
            },
            "colorscale": [
             [
              0,
              "#0d0887"
             ],
             [
              0.1111111111111111,
              "#46039f"
             ],
             [
              0.2222222222222222,
              "#7201a8"
             ],
             [
              0.3333333333333333,
              "#9c179e"
             ],
             [
              0.4444444444444444,
              "#bd3786"
             ],
             [
              0.5555555555555556,
              "#d8576b"
             ],
             [
              0.6666666666666666,
              "#ed7953"
             ],
             [
              0.7777777777777778,
              "#fb9f3a"
             ],
             [
              0.8888888888888888,
              "#fdca26"
             ],
             [
              1,
              "#f0f921"
             ]
            ],
            "type": "heatmap"
           }
          ],
          "heatmapgl": [
           {
            "colorbar": {
             "outlinewidth": 0,
             "ticks": ""
            },
            "colorscale": [
             [
              0,
              "#0d0887"
             ],
             [
              0.1111111111111111,
              "#46039f"
             ],
             [
              0.2222222222222222,
              "#7201a8"
             ],
             [
              0.3333333333333333,
              "#9c179e"
             ],
             [
              0.4444444444444444,
              "#bd3786"
             ],
             [
              0.5555555555555556,
              "#d8576b"
             ],
             [
              0.6666666666666666,
              "#ed7953"
             ],
             [
              0.7777777777777778,
              "#fb9f3a"
             ],
             [
              0.8888888888888888,
              "#fdca26"
             ],
             [
              1,
              "#f0f921"
             ]
            ],
            "type": "heatmapgl"
           }
          ],
          "histogram": [
           {
            "marker": {
             "pattern": {
              "fillmode": "overlay",
              "size": 10,
              "solidity": 0.2
             }
            },
            "type": "histogram"
           }
          ],
          "histogram2d": [
           {
            "colorbar": {
             "outlinewidth": 0,
             "ticks": ""
            },
            "colorscale": [
             [
              0,
              "#0d0887"
             ],
             [
              0.1111111111111111,
              "#46039f"
             ],
             [
              0.2222222222222222,
              "#7201a8"
             ],
             [
              0.3333333333333333,
              "#9c179e"
             ],
             [
              0.4444444444444444,
              "#bd3786"
             ],
             [
              0.5555555555555556,
              "#d8576b"
             ],
             [
              0.6666666666666666,
              "#ed7953"
             ],
             [
              0.7777777777777778,
              "#fb9f3a"
             ],
             [
              0.8888888888888888,
              "#fdca26"
             ],
             [
              1,
              "#f0f921"
             ]
            ],
            "type": "histogram2d"
           }
          ],
          "histogram2dcontour": [
           {
            "colorbar": {
             "outlinewidth": 0,
             "ticks": ""
            },
            "colorscale": [
             [
              0,
              "#0d0887"
             ],
             [
              0.1111111111111111,
              "#46039f"
             ],
             [
              0.2222222222222222,
              "#7201a8"
             ],
             [
              0.3333333333333333,
              "#9c179e"
             ],
             [
              0.4444444444444444,
              "#bd3786"
             ],
             [
              0.5555555555555556,
              "#d8576b"
             ],
             [
              0.6666666666666666,
              "#ed7953"
             ],
             [
              0.7777777777777778,
              "#fb9f3a"
             ],
             [
              0.8888888888888888,
              "#fdca26"
             ],
             [
              1,
              "#f0f921"
             ]
            ],
            "type": "histogram2dcontour"
           }
          ],
          "mesh3d": [
           {
            "colorbar": {
             "outlinewidth": 0,
             "ticks": ""
            },
            "type": "mesh3d"
           }
          ],
          "parcoords": [
           {
            "line": {
             "colorbar": {
              "outlinewidth": 0,
              "ticks": ""
             }
            },
            "type": "parcoords"
           }
          ],
          "pie": [
           {
            "automargin": true,
            "type": "pie"
           }
          ],
          "scatter": [
           {
            "fillpattern": {
             "fillmode": "overlay",
             "size": 10,
             "solidity": 0.2
            },
            "type": "scatter"
           }
          ],
          "scatter3d": [
           {
            "line": {
             "colorbar": {
              "outlinewidth": 0,
              "ticks": ""
             }
            },
            "marker": {
             "colorbar": {
              "outlinewidth": 0,
              "ticks": ""
             }
            },
            "type": "scatter3d"
           }
          ],
          "scattercarpet": [
           {
            "marker": {
             "colorbar": {
              "outlinewidth": 0,
              "ticks": ""
             }
            },
            "type": "scattercarpet"
           }
          ],
          "scattergeo": [
           {
            "marker": {
             "colorbar": {
              "outlinewidth": 0,
              "ticks": ""
             }
            },
            "type": "scattergeo"
           }
          ],
          "scattergl": [
           {
            "marker": {
             "colorbar": {
              "outlinewidth": 0,
              "ticks": ""
             }
            },
            "type": "scattergl"
           }
          ],
          "scattermapbox": [
           {
            "marker": {
             "colorbar": {
              "outlinewidth": 0,
              "ticks": ""
             }
            },
            "type": "scattermapbox"
           }
          ],
          "scatterpolar": [
           {
            "marker": {
             "colorbar": {
              "outlinewidth": 0,
              "ticks": ""
             }
            },
            "type": "scatterpolar"
           }
          ],
          "scatterpolargl": [
           {
            "marker": {
             "colorbar": {
              "outlinewidth": 0,
              "ticks": ""
             }
            },
            "type": "scatterpolargl"
           }
          ],
          "scatterternary": [
           {
            "marker": {
             "colorbar": {
              "outlinewidth": 0,
              "ticks": ""
             }
            },
            "type": "scatterternary"
           }
          ],
          "surface": [
           {
            "colorbar": {
             "outlinewidth": 0,
             "ticks": ""
            },
            "colorscale": [
             [
              0,
              "#0d0887"
             ],
             [
              0.1111111111111111,
              "#46039f"
             ],
             [
              0.2222222222222222,
              "#7201a8"
             ],
             [
              0.3333333333333333,
              "#9c179e"
             ],
             [
              0.4444444444444444,
              "#bd3786"
             ],
             [
              0.5555555555555556,
              "#d8576b"
             ],
             [
              0.6666666666666666,
              "#ed7953"
             ],
             [
              0.7777777777777778,
              "#fb9f3a"
             ],
             [
              0.8888888888888888,
              "#fdca26"
             ],
             [
              1,
              "#f0f921"
             ]
            ],
            "type": "surface"
           }
          ],
          "table": [
           {
            "cells": {
             "fill": {
              "color": "#EBF0F8"
             },
             "line": {
              "color": "white"
             }
            },
            "header": {
             "fill": {
              "color": "#C8D4E3"
             },
             "line": {
              "color": "white"
             }
            },
            "type": "table"
           }
          ]
         },
         "layout": {
          "annotationdefaults": {
           "arrowcolor": "#2a3f5f",
           "arrowhead": 0,
           "arrowwidth": 1
          },
          "autotypenumbers": "strict",
          "coloraxis": {
           "colorbar": {
            "outlinewidth": 0,
            "ticks": ""
           }
          },
          "colorscale": {
           "diverging": [
            [
             0,
             "#8e0152"
            ],
            [
             0.1,
             "#c51b7d"
            ],
            [
             0.2,
             "#de77ae"
            ],
            [
             0.3,
             "#f1b6da"
            ],
            [
             0.4,
             "#fde0ef"
            ],
            [
             0.5,
             "#f7f7f7"
            ],
            [
             0.6,
             "#e6f5d0"
            ],
            [
             0.7,
             "#b8e186"
            ],
            [
             0.8,
             "#7fbc41"
            ],
            [
             0.9,
             "#4d9221"
            ],
            [
             1,
             "#276419"
            ]
           ],
           "sequential": [
            [
             0,
             "#0d0887"
            ],
            [
             0.1111111111111111,
             "#46039f"
            ],
            [
             0.2222222222222222,
             "#7201a8"
            ],
            [
             0.3333333333333333,
             "#9c179e"
            ],
            [
             0.4444444444444444,
             "#bd3786"
            ],
            [
             0.5555555555555556,
             "#d8576b"
            ],
            [
             0.6666666666666666,
             "#ed7953"
            ],
            [
             0.7777777777777778,
             "#fb9f3a"
            ],
            [
             0.8888888888888888,
             "#fdca26"
            ],
            [
             1,
             "#f0f921"
            ]
           ],
           "sequentialminus": [
            [
             0,
             "#0d0887"
            ],
            [
             0.1111111111111111,
             "#46039f"
            ],
            [
             0.2222222222222222,
             "#7201a8"
            ],
            [
             0.3333333333333333,
             "#9c179e"
            ],
            [
             0.4444444444444444,
             "#bd3786"
            ],
            [
             0.5555555555555556,
             "#d8576b"
            ],
            [
             0.6666666666666666,
             "#ed7953"
            ],
            [
             0.7777777777777778,
             "#fb9f3a"
            ],
            [
             0.8888888888888888,
             "#fdca26"
            ],
            [
             1,
             "#f0f921"
            ]
           ]
          },
          "colorway": [
           "#636efa",
           "#EF553B",
           "#00cc96",
           "#ab63fa",
           "#FFA15A",
           "#19d3f3",
           "#FF6692",
           "#B6E880",
           "#FF97FF",
           "#FECB52"
          ],
          "font": {
           "color": "#2a3f5f"
          },
          "geo": {
           "bgcolor": "white",
           "lakecolor": "white",
           "landcolor": "#E5ECF6",
           "showlakes": true,
           "showland": true,
           "subunitcolor": "white"
          },
          "hoverlabel": {
           "align": "left"
          },
          "hovermode": "closest",
          "mapbox": {
           "style": "light"
          },
          "paper_bgcolor": "white",
          "plot_bgcolor": "#E5ECF6",
          "polar": {
           "angularaxis": {
            "gridcolor": "white",
            "linecolor": "white",
            "ticks": ""
           },
           "bgcolor": "#E5ECF6",
           "radialaxis": {
            "gridcolor": "white",
            "linecolor": "white",
            "ticks": ""
           }
          },
          "scene": {
           "xaxis": {
            "backgroundcolor": "#E5ECF6",
            "gridcolor": "white",
            "gridwidth": 2,
            "linecolor": "white",
            "showbackground": true,
            "ticks": "",
            "zerolinecolor": "white"
           },
           "yaxis": {
            "backgroundcolor": "#E5ECF6",
            "gridcolor": "white",
            "gridwidth": 2,
            "linecolor": "white",
            "showbackground": true,
            "ticks": "",
            "zerolinecolor": "white"
           },
           "zaxis": {
            "backgroundcolor": "#E5ECF6",
            "gridcolor": "white",
            "gridwidth": 2,
            "linecolor": "white",
            "showbackground": true,
            "ticks": "",
            "zerolinecolor": "white"
           }
          },
          "shapedefaults": {
           "line": {
            "color": "#2a3f5f"
           }
          },
          "ternary": {
           "aaxis": {
            "gridcolor": "white",
            "linecolor": "white",
            "ticks": ""
           },
           "baxis": {
            "gridcolor": "white",
            "linecolor": "white",
            "ticks": ""
           },
           "bgcolor": "#E5ECF6",
           "caxis": {
            "gridcolor": "white",
            "linecolor": "white",
            "ticks": ""
           }
          },
          "title": {
           "x": 0.05
          },
          "xaxis": {
           "automargin": true,
           "gridcolor": "white",
           "linecolor": "white",
           "ticks": "",
           "title": {
            "standoff": 15
           },
           "zerolinecolor": "white",
           "zerolinewidth": 2
          },
          "yaxis": {
           "automargin": true,
           "gridcolor": "white",
           "linecolor": "white",
           "ticks": "",
           "title": {
            "standoff": 15
           },
           "zerolinecolor": "white",
           "zerolinewidth": 2
          }
         }
        },
        "title": {
         "text": "Top 50 Cities Sales"
        },
        "xaxis": {
         "anchor": "y",
         "domain": [
          0,
          1
         ],
         "title": {
          "text": "CITY_NAME"
         }
        },
        "yaxis": {
         "anchor": "x",
         "domain": [
          0,
          1
         ],
         "title": {
          "text": "NET_SALES_FINAL_USD_AMOUNT"
         }
        }
       }
      }
     },
     "metadata": {},
     "output_type": "display_data"
    }
   ],
   "source": [
    "#which city has the most sales and market\n",
    "city_sales_df = comp_group.groupby(['CITY_NAME'])[['NET_SALES_FINAL_USD_AMOUNT','Profit/Loss']].sum().reset_index().sort_values(by='NET_SALES_FINAL_USD_AMOUNT',ascending=False)\n",
    "fig = px.scatter(city_sales_df[0:50],'CITY_NAME','NET_SALES_FINAL_USD_AMOUNT',size='NET_SALES_FINAL_USD_AMOUNT',size_max=60,title='Top 50 Cities Sales',hover_data='Profit/Loss')\n",
    "fig.show()"
   ]
  },
  {
   "cell_type": "code",
   "execution_count": 25,
   "metadata": {},
   "outputs": [
    {
     "name": "stderr",
     "output_type": "stream",
     "text": [
      "C:\\Users\\Rahul\\AppData\\Local\\Temp\\ipykernel_13960\\3493843584.py:13: SettingWithCopyWarning:\n",
      "\n",
      "\n",
      "A value is trying to be set on a copy of a slice from a DataFrame.\n",
      "Try using .loc[row_indexer,col_indexer] = value instead\n",
      "\n",
      "See the caveats in the documentation: https://pandas.pydata.org/pandas-docs/stable/user_guide/indexing.html#returning-a-view-versus-a-copy\n",
      "\n"
     ]
    },
    {
     "data": {
      "text/html": [
       "<div>\n",
       "<style scoped>\n",
       "    .dataframe tbody tr th:only-of-type {\n",
       "        vertical-align: middle;\n",
       "    }\n",
       "\n",
       "    .dataframe tbody tr th {\n",
       "        vertical-align: top;\n",
       "    }\n",
       "\n",
       "    .dataframe thead th {\n",
       "        text-align: right;\n",
       "    }\n",
       "</style>\n",
       "<table border=\"1\" class=\"dataframe\">\n",
       "  <thead>\n",
       "    <tr style=\"text-align: right;\">\n",
       "      <th></th>\n",
       "      <th>STORE_NUMBER</th>\n",
       "      <th>OPEN_DATE</th>\n",
       "      <th>BUSINESS_DATE_KEY</th>\n",
       "      <th>BUSINESS_DATE</th>\n",
       "      <th>TEMP_CLOSE_INDICATOR</th>\n",
       "      <th>PROJECTION_INCLUDED_INDICATOR</th>\n",
       "      <th>BUSINESS_DATE_FISCAL_DAY_OF_YEAR</th>\n",
       "      <th>BUSINESS_DATE_FISCAL_YEAR</th>\n",
       "      <th>COMP_BUSINESS_DATE_FISCAL_YEAR</th>\n",
       "      <th>COMPARABLE_INDICATOR</th>\n",
       "      <th>...</th>\n",
       "      <th>STORE_FUNCTIONAL_STATUS</th>\n",
       "      <th>GLOBAL_REGION_NAME</th>\n",
       "      <th>GLOBAL_REGION_STORE_TYPE_NAME</th>\n",
       "      <th>AREA_REGION</th>\n",
       "      <th>DISPATCH_GO_LIVE_DATE</th>\n",
       "      <th>DOOR_DASH_GO_LIVE_DATE</th>\n",
       "      <th>DOOR_DASH_MARKUP_GO_LIVE_DATE</th>\n",
       "      <th>STORE_CONCEPT_NAME</th>\n",
       "      <th>UBER_EATS_MARKUP_DATE</th>\n",
       "      <th>Quarter</th>\n",
       "    </tr>\n",
       "  </thead>\n",
       "  <tbody>\n",
       "    <tr>\n",
       "      <th>0</th>\n",
       "      <td>580</td>\n",
       "      <td>10/5/2011</td>\n",
       "      <td>20230203</td>\n",
       "      <td>2/3/2023</td>\n",
       "      <td>0.0</td>\n",
       "      <td>0</td>\n",
       "      <td>34</td>\n",
       "      <td>2023</td>\n",
       "      <td>2022</td>\n",
       "      <td>1</td>\n",
       "      <td>...</td>\n",
       "      <td>operational</td>\n",
       "      <td>domestic</td>\n",
       "      <td>domesticfranchise</td>\n",
       "      <td>memphis</td>\n",
       "      <td>12/11/2019</td>\n",
       "      <td>12/11/2019</td>\n",
       "      <td>9/27/2020</td>\n",
       "      <td>original</td>\n",
       "      <td>7/20/2022</td>\n",
       "      <td>Q1</td>\n",
       "    </tr>\n",
       "    <tr>\n",
       "      <th>1</th>\n",
       "      <td>1323</td>\n",
       "      <td>11/21/2017</td>\n",
       "      <td>20221008</td>\n",
       "      <td>10/8/2022</td>\n",
       "      <td>0.0</td>\n",
       "      <td>0</td>\n",
       "      <td>287</td>\n",
       "      <td>2022</td>\n",
       "      <td>2021</td>\n",
       "      <td>1</td>\n",
       "      <td>...</td>\n",
       "      <td>operational</td>\n",
       "      <td>domestic</td>\n",
       "      <td>domesticfranchise</td>\n",
       "      <td>ft. myers-naples</td>\n",
       "      <td>9/18/2019</td>\n",
       "      <td>9/18/2019</td>\n",
       "      <td>9/27/2020</td>\n",
       "      <td>original</td>\n",
       "      <td>7/20/2022</td>\n",
       "      <td>Q4</td>\n",
       "    </tr>\n",
       "    <tr>\n",
       "      <th>2</th>\n",
       "      <td>969</td>\n",
       "      <td>2/6/2006</td>\n",
       "      <td>20230330</td>\n",
       "      <td>3/30/2023</td>\n",
       "      <td>0.0</td>\n",
       "      <td>0</td>\n",
       "      <td>89</td>\n",
       "      <td>2023</td>\n",
       "      <td>2022</td>\n",
       "      <td>1</td>\n",
       "      <td>...</td>\n",
       "      <td>operational</td>\n",
       "      <td>domestic</td>\n",
       "      <td>domesticcorporate</td>\n",
       "      <td>dallas-ft. worth</td>\n",
       "      <td>4/17/2019</td>\n",
       "      <td>4/17/2019</td>\n",
       "      <td>8/16/2020</td>\n",
       "      <td>original</td>\n",
       "      <td>7/6/2022</td>\n",
       "      <td>Q1</td>\n",
       "    </tr>\n",
       "    <tr>\n",
       "      <th>3</th>\n",
       "      <td>1664</td>\n",
       "      <td>2/3/2020</td>\n",
       "      <td>20230307</td>\n",
       "      <td>3/7/2023</td>\n",
       "      <td>0.0</td>\n",
       "      <td>0</td>\n",
       "      <td>66</td>\n",
       "      <td>2023</td>\n",
       "      <td>2022</td>\n",
       "      <td>1</td>\n",
       "      <td>...</td>\n",
       "      <td>operational</td>\n",
       "      <td>domestic</td>\n",
       "      <td>domesticfranchise</td>\n",
       "      <td>austin</td>\n",
       "      <td>3/11/2020</td>\n",
       "      <td>3/11/2020</td>\n",
       "      <td>9/27/2020</td>\n",
       "      <td>original</td>\n",
       "      <td>7/20/2022</td>\n",
       "      <td>Q1</td>\n",
       "    </tr>\n",
       "    <tr>\n",
       "      <th>4</th>\n",
       "      <td>1078</td>\n",
       "      <td>3/11/2016</td>\n",
       "      <td>20221105</td>\n",
       "      <td>11/5/2022</td>\n",
       "      <td>0.0</td>\n",
       "      <td>0</td>\n",
       "      <td>315</td>\n",
       "      <td>2022</td>\n",
       "      <td>2021</td>\n",
       "      <td>1</td>\n",
       "      <td>...</td>\n",
       "      <td>operational</td>\n",
       "      <td>domestic</td>\n",
       "      <td>domesticfranchise</td>\n",
       "      <td>los angeles</td>\n",
       "      <td>11/14/2018</td>\n",
       "      <td>11/14/2018</td>\n",
       "      <td>9/27/2020</td>\n",
       "      <td>original</td>\n",
       "      <td>7/20/2022</td>\n",
       "      <td>Q4</td>\n",
       "    </tr>\n",
       "  </tbody>\n",
       "</table>\n",
       "<p>5 rows × 38 columns</p>\n",
       "</div>"
      ],
      "text/plain": [
       "   STORE_NUMBER   OPEN_DATE  BUSINESS_DATE_KEY BUSINESS_DATE  \\\n",
       "0           580   10/5/2011           20230203      2/3/2023   \n",
       "1          1323  11/21/2017           20221008     10/8/2022   \n",
       "2           969    2/6/2006           20230330     3/30/2023   \n",
       "3          1664    2/3/2020           20230307      3/7/2023   \n",
       "4          1078   3/11/2016           20221105     11/5/2022   \n",
       "\n",
       "   TEMP_CLOSE_INDICATOR  PROJECTION_INCLUDED_INDICATOR  \\\n",
       "0                   0.0                              0   \n",
       "1                   0.0                              0   \n",
       "2                   0.0                              0   \n",
       "3                   0.0                              0   \n",
       "4                   0.0                              0   \n",
       "\n",
       "   BUSINESS_DATE_FISCAL_DAY_OF_YEAR  BUSINESS_DATE_FISCAL_YEAR  \\\n",
       "0                                34                       2023   \n",
       "1                               287                       2022   \n",
       "2                                89                       2023   \n",
       "3                                66                       2023   \n",
       "4                               315                       2022   \n",
       "\n",
       "   COMP_BUSINESS_DATE_FISCAL_YEAR  COMPARABLE_INDICATOR  ...  \\\n",
       "0                            2022                     1  ...   \n",
       "1                            2021                     1  ...   \n",
       "2                            2022                     1  ...   \n",
       "3                            2022                     1  ...   \n",
       "4                            2021                     1  ...   \n",
       "\n",
       "   STORE_FUNCTIONAL_STATUS  GLOBAL_REGION_NAME  GLOBAL_REGION_STORE_TYPE_NAME  \\\n",
       "0              operational            domestic              domesticfranchise   \n",
       "1              operational            domestic              domesticfranchise   \n",
       "2              operational            domestic              domesticcorporate   \n",
       "3              operational            domestic              domesticfranchise   \n",
       "4              operational            domestic              domesticfranchise   \n",
       "\n",
       "        AREA_REGION DISPATCH_GO_LIVE_DATE DOOR_DASH_GO_LIVE_DATE  \\\n",
       "0           memphis            12/11/2019             12/11/2019   \n",
       "1  ft. myers-naples             9/18/2019              9/18/2019   \n",
       "2  dallas-ft. worth             4/17/2019              4/17/2019   \n",
       "3            austin             3/11/2020              3/11/2020   \n",
       "4       los angeles            11/14/2018             11/14/2018   \n",
       "\n",
       "  DOOR_DASH_MARKUP_GO_LIVE_DATE STORE_CONCEPT_NAME UBER_EATS_MARKUP_DATE  \\\n",
       "0                     9/27/2020           original             7/20/2022   \n",
       "1                     9/27/2020           original             7/20/2022   \n",
       "2                     8/16/2020           original              7/6/2022   \n",
       "3                     9/27/2020           original             7/20/2022   \n",
       "4                     9/27/2020           original             7/20/2022   \n",
       "\n",
       "  Quarter  \n",
       "0      Q1  \n",
       "1      Q4  \n",
       "2      Q1  \n",
       "3      Q1  \n",
       "4      Q4  \n",
       "\n",
       "[5 rows x 38 columns]"
      ]
     },
     "execution_count": 25,
     "metadata": {},
     "output_type": "execute_result"
    }
   ],
   "source": [
    "#Seasonal impact on sales\n",
    "def quartize(day):\n",
    "    if day>=1 and day<=91:\n",
    "        return 'Q1'\n",
    "    elif 92 <= day <= 182:\n",
    "        return 'Q2'\n",
    "    elif 183 <= day <= 274:\n",
    "        return 'Q3'\n",
    "    elif 275 <= day <= 365:\n",
    "        return 'Q4'\n",
    "    \n",
    "\n",
    "comp_df['Quarter'] = comp_df['BUSINESS_DATE_FISCAL_DAY_OF_YEAR'].apply(quartize)\n",
    "comp_df.head()"
   ]
  },
  {
   "cell_type": "code",
   "execution_count": 44,
   "metadata": {},
   "outputs": [
    {
     "data": {
      "application/vnd.plotly.v1+json": {
       "config": {
        "plotlyServerURL": "https://plot.ly"
       },
       "data": [
        {
         "alignmentgroup": "True",
         "hovertemplate": "Quarter=Q2<br>BUSINESS_DATE_FISCAL_YEAR=%{x}<br>value=%{y}<extra></extra>",
         "legendgroup": "Q2",
         "marker": {
          "color": "#636efa",
          "pattern": {
           "shape": ""
          }
         },
         "name": "Q2",
         "offsetgroup": "Q2",
         "orientation": "v",
         "showlegend": true,
         "textposition": "auto",
         "type": "bar",
         "x": [
          2019,
          2020,
          2021,
          2022,
          2023
         ],
         "xaxis": "x",
         "y": [
          57597540.72,
          108729117.11,
          118646238.35,
          122809141.4,
          154913720.94
         ],
         "yaxis": "y"
        },
        {
         "alignmentgroup": "True",
         "hovertemplate": "Quarter=Q3<br>BUSINESS_DATE_FISCAL_YEAR=%{x}<br>value=%{y}<extra></extra>",
         "legendgroup": "Q3",
         "marker": {
          "color": "#EF553B",
          "pattern": {
           "shape": ""
          }
         },
         "name": "Q3",
         "offsetgroup": "Q3",
         "orientation": "v",
         "showlegend": true,
         "textposition": "auto",
         "type": "bar",
         "x": [
          2019,
          2020,
          2021,
          2022,
          2023
         ],
         "xaxis": "x",
         "y": [
          79001635.35,
          109144874.03,
          120414481.93,
          137642671.37,
          171370202.45
         ],
         "yaxis": "y"
        },
        {
         "alignmentgroup": "True",
         "hovertemplate": "Quarter=Q4<br>BUSINESS_DATE_FISCAL_YEAR=%{x}<br>value=%{y}<extra></extra>",
         "legendgroup": "Q4",
         "marker": {
          "color": "#00cc96",
          "pattern": {
           "shape": ""
          }
         },
         "name": "Q4",
         "offsetgroup": "Q4",
         "orientation": "v",
         "showlegend": true,
         "textposition": "auto",
         "type": "bar",
         "x": [
          2019,
          2020,
          2021,
          2022,
          2023
         ],
         "xaxis": "x",
         "y": [
          79197673.62,
          102580939.32,
          116977231.03,
          136986947.5,
          177849171.74
         ],
         "yaxis": "y"
        },
        {
         "alignmentgroup": "True",
         "hovertemplate": "Quarter=Q1<br>BUSINESS_DATE_FISCAL_YEAR=%{x}<br>value=%{y}<extra></extra>",
         "legendgroup": "Q1",
         "marker": {
          "color": "#ab63fa",
          "pattern": {
           "shape": ""
          }
         },
         "name": "Q1",
         "offsetgroup": "Q1",
         "orientation": "v",
         "showlegend": true,
         "textposition": "auto",
         "type": "bar",
         "x": [
          2020,
          2021,
          2022,
          2023,
          2024
         ],
         "xaxis": "x",
         "y": [
          87746732.46,
          113971619.68,
          122590035.49,
          158872530.76,
          2412641.89
         ],
         "yaxis": "y"
        }
       ],
       "layout": {
        "barmode": "group",
        "legend": {
         "title": {
          "text": "Quarter"
         },
         "tracegroupgap": 0
        },
        "template": {
         "data": {
          "bar": [
           {
            "error_x": {
             "color": "#2a3f5f"
            },
            "error_y": {
             "color": "#2a3f5f"
            },
            "marker": {
             "line": {
              "color": "#E5ECF6",
              "width": 0.5
             },
             "pattern": {
              "fillmode": "overlay",
              "size": 10,
              "solidity": 0.2
             }
            },
            "type": "bar"
           }
          ],
          "barpolar": [
           {
            "marker": {
             "line": {
              "color": "#E5ECF6",
              "width": 0.5
             },
             "pattern": {
              "fillmode": "overlay",
              "size": 10,
              "solidity": 0.2
             }
            },
            "type": "barpolar"
           }
          ],
          "carpet": [
           {
            "aaxis": {
             "endlinecolor": "#2a3f5f",
             "gridcolor": "white",
             "linecolor": "white",
             "minorgridcolor": "white",
             "startlinecolor": "#2a3f5f"
            },
            "baxis": {
             "endlinecolor": "#2a3f5f",
             "gridcolor": "white",
             "linecolor": "white",
             "minorgridcolor": "white",
             "startlinecolor": "#2a3f5f"
            },
            "type": "carpet"
           }
          ],
          "choropleth": [
           {
            "colorbar": {
             "outlinewidth": 0,
             "ticks": ""
            },
            "type": "choropleth"
           }
          ],
          "contour": [
           {
            "colorbar": {
             "outlinewidth": 0,
             "ticks": ""
            },
            "colorscale": [
             [
              0,
              "#0d0887"
             ],
             [
              0.1111111111111111,
              "#46039f"
             ],
             [
              0.2222222222222222,
              "#7201a8"
             ],
             [
              0.3333333333333333,
              "#9c179e"
             ],
             [
              0.4444444444444444,
              "#bd3786"
             ],
             [
              0.5555555555555556,
              "#d8576b"
             ],
             [
              0.6666666666666666,
              "#ed7953"
             ],
             [
              0.7777777777777778,
              "#fb9f3a"
             ],
             [
              0.8888888888888888,
              "#fdca26"
             ],
             [
              1,
              "#f0f921"
             ]
            ],
            "type": "contour"
           }
          ],
          "contourcarpet": [
           {
            "colorbar": {
             "outlinewidth": 0,
             "ticks": ""
            },
            "type": "contourcarpet"
           }
          ],
          "heatmap": [
           {
            "colorbar": {
             "outlinewidth": 0,
             "ticks": ""
            },
            "colorscale": [
             [
              0,
              "#0d0887"
             ],
             [
              0.1111111111111111,
              "#46039f"
             ],
             [
              0.2222222222222222,
              "#7201a8"
             ],
             [
              0.3333333333333333,
              "#9c179e"
             ],
             [
              0.4444444444444444,
              "#bd3786"
             ],
             [
              0.5555555555555556,
              "#d8576b"
             ],
             [
              0.6666666666666666,
              "#ed7953"
             ],
             [
              0.7777777777777778,
              "#fb9f3a"
             ],
             [
              0.8888888888888888,
              "#fdca26"
             ],
             [
              1,
              "#f0f921"
             ]
            ],
            "type": "heatmap"
           }
          ],
          "heatmapgl": [
           {
            "colorbar": {
             "outlinewidth": 0,
             "ticks": ""
            },
            "colorscale": [
             [
              0,
              "#0d0887"
             ],
             [
              0.1111111111111111,
              "#46039f"
             ],
             [
              0.2222222222222222,
              "#7201a8"
             ],
             [
              0.3333333333333333,
              "#9c179e"
             ],
             [
              0.4444444444444444,
              "#bd3786"
             ],
             [
              0.5555555555555556,
              "#d8576b"
             ],
             [
              0.6666666666666666,
              "#ed7953"
             ],
             [
              0.7777777777777778,
              "#fb9f3a"
             ],
             [
              0.8888888888888888,
              "#fdca26"
             ],
             [
              1,
              "#f0f921"
             ]
            ],
            "type": "heatmapgl"
           }
          ],
          "histogram": [
           {
            "marker": {
             "pattern": {
              "fillmode": "overlay",
              "size": 10,
              "solidity": 0.2
             }
            },
            "type": "histogram"
           }
          ],
          "histogram2d": [
           {
            "colorbar": {
             "outlinewidth": 0,
             "ticks": ""
            },
            "colorscale": [
             [
              0,
              "#0d0887"
             ],
             [
              0.1111111111111111,
              "#46039f"
             ],
             [
              0.2222222222222222,
              "#7201a8"
             ],
             [
              0.3333333333333333,
              "#9c179e"
             ],
             [
              0.4444444444444444,
              "#bd3786"
             ],
             [
              0.5555555555555556,
              "#d8576b"
             ],
             [
              0.6666666666666666,
              "#ed7953"
             ],
             [
              0.7777777777777778,
              "#fb9f3a"
             ],
             [
              0.8888888888888888,
              "#fdca26"
             ],
             [
              1,
              "#f0f921"
             ]
            ],
            "type": "histogram2d"
           }
          ],
          "histogram2dcontour": [
           {
            "colorbar": {
             "outlinewidth": 0,
             "ticks": ""
            },
            "colorscale": [
             [
              0,
              "#0d0887"
             ],
             [
              0.1111111111111111,
              "#46039f"
             ],
             [
              0.2222222222222222,
              "#7201a8"
             ],
             [
              0.3333333333333333,
              "#9c179e"
             ],
             [
              0.4444444444444444,
              "#bd3786"
             ],
             [
              0.5555555555555556,
              "#d8576b"
             ],
             [
              0.6666666666666666,
              "#ed7953"
             ],
             [
              0.7777777777777778,
              "#fb9f3a"
             ],
             [
              0.8888888888888888,
              "#fdca26"
             ],
             [
              1,
              "#f0f921"
             ]
            ],
            "type": "histogram2dcontour"
           }
          ],
          "mesh3d": [
           {
            "colorbar": {
             "outlinewidth": 0,
             "ticks": ""
            },
            "type": "mesh3d"
           }
          ],
          "parcoords": [
           {
            "line": {
             "colorbar": {
              "outlinewidth": 0,
              "ticks": ""
             }
            },
            "type": "parcoords"
           }
          ],
          "pie": [
           {
            "automargin": true,
            "type": "pie"
           }
          ],
          "scatter": [
           {
            "fillpattern": {
             "fillmode": "overlay",
             "size": 10,
             "solidity": 0.2
            },
            "type": "scatter"
           }
          ],
          "scatter3d": [
           {
            "line": {
             "colorbar": {
              "outlinewidth": 0,
              "ticks": ""
             }
            },
            "marker": {
             "colorbar": {
              "outlinewidth": 0,
              "ticks": ""
             }
            },
            "type": "scatter3d"
           }
          ],
          "scattercarpet": [
           {
            "marker": {
             "colorbar": {
              "outlinewidth": 0,
              "ticks": ""
             }
            },
            "type": "scattercarpet"
           }
          ],
          "scattergeo": [
           {
            "marker": {
             "colorbar": {
              "outlinewidth": 0,
              "ticks": ""
             }
            },
            "type": "scattergeo"
           }
          ],
          "scattergl": [
           {
            "marker": {
             "colorbar": {
              "outlinewidth": 0,
              "ticks": ""
             }
            },
            "type": "scattergl"
           }
          ],
          "scattermapbox": [
           {
            "marker": {
             "colorbar": {
              "outlinewidth": 0,
              "ticks": ""
             }
            },
            "type": "scattermapbox"
           }
          ],
          "scatterpolar": [
           {
            "marker": {
             "colorbar": {
              "outlinewidth": 0,
              "ticks": ""
             }
            },
            "type": "scatterpolar"
           }
          ],
          "scatterpolargl": [
           {
            "marker": {
             "colorbar": {
              "outlinewidth": 0,
              "ticks": ""
             }
            },
            "type": "scatterpolargl"
           }
          ],
          "scatterternary": [
           {
            "marker": {
             "colorbar": {
              "outlinewidth": 0,
              "ticks": ""
             }
            },
            "type": "scatterternary"
           }
          ],
          "surface": [
           {
            "colorbar": {
             "outlinewidth": 0,
             "ticks": ""
            },
            "colorscale": [
             [
              0,
              "#0d0887"
             ],
             [
              0.1111111111111111,
              "#46039f"
             ],
             [
              0.2222222222222222,
              "#7201a8"
             ],
             [
              0.3333333333333333,
              "#9c179e"
             ],
             [
              0.4444444444444444,
              "#bd3786"
             ],
             [
              0.5555555555555556,
              "#d8576b"
             ],
             [
              0.6666666666666666,
              "#ed7953"
             ],
             [
              0.7777777777777778,
              "#fb9f3a"
             ],
             [
              0.8888888888888888,
              "#fdca26"
             ],
             [
              1,
              "#f0f921"
             ]
            ],
            "type": "surface"
           }
          ],
          "table": [
           {
            "cells": {
             "fill": {
              "color": "#EBF0F8"
             },
             "line": {
              "color": "white"
             }
            },
            "header": {
             "fill": {
              "color": "#C8D4E3"
             },
             "line": {
              "color": "white"
             }
            },
            "type": "table"
           }
          ]
         },
         "layout": {
          "annotationdefaults": {
           "arrowcolor": "#2a3f5f",
           "arrowhead": 0,
           "arrowwidth": 1
          },
          "autotypenumbers": "strict",
          "coloraxis": {
           "colorbar": {
            "outlinewidth": 0,
            "ticks": ""
           }
          },
          "colorscale": {
           "diverging": [
            [
             0,
             "#8e0152"
            ],
            [
             0.1,
             "#c51b7d"
            ],
            [
             0.2,
             "#de77ae"
            ],
            [
             0.3,
             "#f1b6da"
            ],
            [
             0.4,
             "#fde0ef"
            ],
            [
             0.5,
             "#f7f7f7"
            ],
            [
             0.6,
             "#e6f5d0"
            ],
            [
             0.7,
             "#b8e186"
            ],
            [
             0.8,
             "#7fbc41"
            ],
            [
             0.9,
             "#4d9221"
            ],
            [
             1,
             "#276419"
            ]
           ],
           "sequential": [
            [
             0,
             "#0d0887"
            ],
            [
             0.1111111111111111,
             "#46039f"
            ],
            [
             0.2222222222222222,
             "#7201a8"
            ],
            [
             0.3333333333333333,
             "#9c179e"
            ],
            [
             0.4444444444444444,
             "#bd3786"
            ],
            [
             0.5555555555555556,
             "#d8576b"
            ],
            [
             0.6666666666666666,
             "#ed7953"
            ],
            [
             0.7777777777777778,
             "#fb9f3a"
            ],
            [
             0.8888888888888888,
             "#fdca26"
            ],
            [
             1,
             "#f0f921"
            ]
           ],
           "sequentialminus": [
            [
             0,
             "#0d0887"
            ],
            [
             0.1111111111111111,
             "#46039f"
            ],
            [
             0.2222222222222222,
             "#7201a8"
            ],
            [
             0.3333333333333333,
             "#9c179e"
            ],
            [
             0.4444444444444444,
             "#bd3786"
            ],
            [
             0.5555555555555556,
             "#d8576b"
            ],
            [
             0.6666666666666666,
             "#ed7953"
            ],
            [
             0.7777777777777778,
             "#fb9f3a"
            ],
            [
             0.8888888888888888,
             "#fdca26"
            ],
            [
             1,
             "#f0f921"
            ]
           ]
          },
          "colorway": [
           "#636efa",
           "#EF553B",
           "#00cc96",
           "#ab63fa",
           "#FFA15A",
           "#19d3f3",
           "#FF6692",
           "#B6E880",
           "#FF97FF",
           "#FECB52"
          ],
          "font": {
           "color": "#2a3f5f"
          },
          "geo": {
           "bgcolor": "white",
           "lakecolor": "white",
           "landcolor": "#E5ECF6",
           "showlakes": true,
           "showland": true,
           "subunitcolor": "white"
          },
          "hoverlabel": {
           "align": "left"
          },
          "hovermode": "closest",
          "mapbox": {
           "style": "light"
          },
          "paper_bgcolor": "white",
          "plot_bgcolor": "#E5ECF6",
          "polar": {
           "angularaxis": {
            "gridcolor": "white",
            "linecolor": "white",
            "ticks": ""
           },
           "bgcolor": "#E5ECF6",
           "radialaxis": {
            "gridcolor": "white",
            "linecolor": "white",
            "ticks": ""
           }
          },
          "scene": {
           "xaxis": {
            "backgroundcolor": "#E5ECF6",
            "gridcolor": "white",
            "gridwidth": 2,
            "linecolor": "white",
            "showbackground": true,
            "ticks": "",
            "zerolinecolor": "white"
           },
           "yaxis": {
            "backgroundcolor": "#E5ECF6",
            "gridcolor": "white",
            "gridwidth": 2,
            "linecolor": "white",
            "showbackground": true,
            "ticks": "",
            "zerolinecolor": "white"
           },
           "zaxis": {
            "backgroundcolor": "#E5ECF6",
            "gridcolor": "white",
            "gridwidth": 2,
            "linecolor": "white",
            "showbackground": true,
            "ticks": "",
            "zerolinecolor": "white"
           }
          },
          "shapedefaults": {
           "line": {
            "color": "#2a3f5f"
           }
          },
          "ternary": {
           "aaxis": {
            "gridcolor": "white",
            "linecolor": "white",
            "ticks": ""
           },
           "baxis": {
            "gridcolor": "white",
            "linecolor": "white",
            "ticks": ""
           },
           "bgcolor": "#E5ECF6",
           "caxis": {
            "gridcolor": "white",
            "linecolor": "white",
            "ticks": ""
           }
          },
          "title": {
           "x": 0.05
          },
          "xaxis": {
           "automargin": true,
           "gridcolor": "white",
           "linecolor": "white",
           "ticks": "",
           "title": {
            "standoff": 15
           },
           "zerolinecolor": "white",
           "zerolinewidth": 2
          },
          "yaxis": {
           "automargin": true,
           "gridcolor": "white",
           "linecolor": "white",
           "ticks": "",
           "title": {
            "standoff": 15
           },
           "zerolinecolor": "white",
           "zerolinewidth": 2
          }
         }
        },
        "title": {
         "text": "Seasonal Sales in various years"
        },
        "xaxis": {
         "anchor": "y",
         "domain": [
          0,
          1
         ],
         "title": {
          "text": "BUSINESS_DATE_FISCAL_YEAR"
         }
        },
        "yaxis": {
         "anchor": "x",
         "domain": [
          0,
          1
         ],
         "title": {
          "text": "value"
         }
        }
       }
      }
     },
     "metadata": {},
     "output_type": "display_data"
    }
   ],
   "source": [
    "#plot the seasonal dependency\n",
    "season_df = comp_df.groupby(['BUSINESS_DATE_FISCAL_YEAR','Quarter'])[['PY_NET_SALES_FINAL_USD_AMOUNT','NET_SALES_FINAL_USD_AMOUNT']].sum().reset_index()\n",
    "fig = px.bar(season_df,'BUSINESS_DATE_FISCAL_YEAR',y=['NET_SALES_FINAL_USD_AMOUNT'],title='Seasonal Sales in various years',color='Quarter',barmode='group')\n",
    "fig.show()\n",
    "\n",
    "\n",
    "#Summer and Fall have the greatest footfall followed by winter and spring"
   ]
  },
  {
   "cell_type": "code",
   "execution_count": 55,
   "metadata": {},
   "outputs": [
    {
     "data": {
      "application/vnd.plotly.v1+json": {
       "config": {
        "plotlyServerURL": "https://plot.ly"
       },
       "data": [
        {
         "customdata": [
          [
           "chicago"
          ],
          [
           "houston"
          ],
          [
           "dallas"
          ],
          [
           "los angeles"
          ],
          [
           "san antonio"
          ],
          [
           "riverside"
          ],
          [
           "columbus"
          ],
          [
           "san jose"
          ],
          [
           "cypress"
          ],
          [
           "phoenix"
          ],
          [
           "bakersfield"
          ],
          [
           "tucson"
          ],
          [
           "frisco"
          ],
          [
           "aurora"
          ],
          [
           "jackson"
          ],
          [
           "las vegas"
          ],
          [
           "laredo"
          ],
          [
           "brownsville"
          ],
          [
           "mission"
          ],
          [
           "salinas"
          ],
          [
           "richmond"
          ],
          [
           "irvine"
          ],
          [
           "north las vegas"
          ],
          [
           "brooklyn"
          ],
          [
           "roseville"
          ],
          [
           "el paso"
          ],
          [
           "garden grove"
          ],
          [
           "santa clarita"
          ],
          [
           "van nuys"
          ],
          [
           "irving"
          ],
          [
           "sacramento"
          ],
          [
           "medford"
          ],
          [
           "charlotte"
          ],
          [
           "lafayette"
          ],
          [
           "decatur"
          ],
          [
           "long beach"
          ],
          [
           "weslaco"
          ],
          [
           "odessa"
          ],
          [
           "rancho cucamonga"
          ],
          [
           "orange"
          ],
          [
           "humble"
          ],
          [
           "little rock"
          ],
          [
           "lawndale"
          ],
          [
           "kyle"
          ],
          [
           "madera"
          ],
          [
           "gardena"
          ],
          [
           "denton"
          ],
          [
           "arlington"
          ],
          [
           "spartanburg"
          ],
          [
           "west milwaukee"
          ],
          [
           "renton"
          ],
          [
           "northridge"
          ],
          [
           "eastvale"
          ],
          [
           "monroe"
          ],
          [
           "cedar hill"
          ],
          [
           "baytown"
          ],
          [
           "desoto"
          ],
          [
           "rowlett"
          ],
          [
           "katy"
          ],
          [
           "mobile"
          ],
          [
           "fullerton"
          ],
          [
           "rialto"
          ],
          [
           "silver spring"
          ],
          [
           "miami"
          ],
          [
           "south euclid"
          ],
          [
           "allen"
          ],
          [
           "paducah"
          ],
          [
           "fresno"
          ],
          [
           "victorville"
          ],
          [
           "anchorage"
          ],
          [
           "monrovia"
          ],
          [
           "newark"
          ],
          [
           "carrollton"
          ],
          [
           "albuquerque"
          ],
          [
           "wilmington"
          ],
          [
           "lauderhill"
          ],
          [
           "watsonville"
          ],
          [
           "harker heights"
          ],
          [
           "san clemente"
          ],
          [
           "waxahachie"
          ],
          [
           "melrose park"
          ],
          [
           "hartford"
          ],
          [
           "raleigh"
          ],
          [
           "tulsa"
          ],
          [
           "east boston"
          ],
          [
           "augusta"
          ],
          [
           "buckeye"
          ],
          [
           "daytona beach"
          ],
          [
           "kansas city"
          ],
          [
           "new braunfels"
          ],
          [
           "alamo"
          ],
          [
           "redwood city"
          ],
          [
           "la puente"
          ],
          [
           "mililani"
          ],
          [
           "naples"
          ],
          [
           "colorado springs"
          ],
          [
           "oklahoma city"
          ],
          [
           "el monte"
          ],
          [
           "broken arrow"
          ],
          [
           "north miami"
          ],
          [
           "hesperia"
          ],
          [
           "pomona"
          ],
          [
           "san angelo"
          ],
          [
           "lancaster"
          ],
          [
           "fort myers"
          ],
          [
           "clinton"
          ],
          [
           "inglewood"
          ],
          [
           "seguin"
          ],
          [
           "pleasanton"
          ],
          [
           "evanston"
          ],
          [
           "rosemead"
          ],
          [
           "kingsville"
          ],
          [
           "mentor on the lake"
          ],
          [
           "cedar park"
          ],
          [
           "fort worth"
          ],
          [
           "south el monte"
          ],
          [
           "hallandale beach"
          ],
          [
           "beaumont"
          ],
          [
           "memphis"
          ],
          [
           "elizabeth"
          ],
          [
           "donna"
          ],
          [
           "wichita falls"
          ],
          [
           "shreveport"
          ],
          [
           "rancho santa margarita"
          ],
          [
           "grand prairie"
          ],
          [
           "league city"
          ],
          [
           "lake worth"
          ],
          [
           "south holland"
          ],
          [
           "abilene"
          ],
          [
           "glendora"
          ],
          [
           "normandy"
          ],
          [
           "utica"
          ],
          [
           "rockville"
          ],
          [
           "louisville"
          ],
          [
           "niles"
          ],
          [
           "worcester"
          ],
          [
           "glendale"
          ],
          [
           "maumee"
          ],
          [
           "glen burnie"
          ],
          [
           "richmond heights"
          ],
          [
           "chesapeake"
          ],
          [
           "apple valley"
          ],
          [
           "west monroe"
          ],
          [
           "mckinney"
          ],
          [
           "huntsville"
          ],
          [
           "chino hills"
          ],
          [
           "jonesboro"
          ],
          [
           "fort pierce"
          ],
          [
           "conway"
          ],
          [
           "sanford"
          ],
          [
           "pasadena"
          ],
          [
           "tampa"
          ],
          [
           "cordova"
          ],
          [
           "north babylon"
          ],
          [
           "north miami beach"
          ],
          [
           "randolph"
          ],
          [
           "wasilla"
          ],
          [
           "macon"
          ],
          [
           "bergenfield"
          ],
          [
           "cross roads"
          ],
          [
           "evansville"
          ],
          [
           "bowie"
          ],
          [
           "cleburne"
          ],
          [
           "hialeah"
          ],
          [
           "pueblo"
          ],
          [
           "brandon"
          ],
          [
           "centerville"
          ],
          [
           "san carlos"
          ],
          [
           "santa ana"
          ],
          [
           "citrus heights"
          ],
          [
           "freeport"
          ],
          [
           "manassas"
          ],
          [
           "san diego"
          ],
          [
           "edwardsville"
          ],
          [
           "independence"
          ],
          [
           "springfield"
          ],
          [
           "gainesville"
          ],
          [
           "clarksville"
          ],
          [
           "layton"
          ],
          [
           "bolingbrook"
          ],
          [
           "hanover"
          ],
          [
           "oceanside"
          ],
          [
           "kingsport"
          ],
          [
           "ukiah"
          ],
          [
           "greenacres"
          ],
          [
           "watauga"
          ],
          [
           "nashville"
          ],
          [
           "smyrna"
          ],
          [
           "austin"
          ],
          [
           "ames"
          ],
          [
           "hobart"
          ],
          [
           "grapevine"
          ],
          [
           "broomfield"
          ],
          [
           "douglasville"
          ],
          [
           "mesa"
          ],
          [
           "denver"
          ],
          [
           "taylors"
          ],
          [
           "sugar land"
          ],
          [
           "manchester"
          ],
          [
           "starkville"
          ],
          [
           "concord"
          ],
          [
           "martinez"
          ],
          [
           "riverdale"
          ],
          [
           "port isabel"
          ],
          [
           "baton rouge"
          ],
          [
           "tucker"
          ],
          [
           "bronx"
          ],
          [
           "winter park"
          ],
          [
           "philadelphia"
          ],
          [
           "baltimore"
          ],
          [
           "college station"
          ],
          [
           "kankakee"
          ],
          [
           "buford"
          ],
          [
           "pearland"
          ],
          [
           "palmdale"
          ],
          [
           "springdale"
          ],
          [
           "salt lake city"
          ],
          [
           "winston-salem"
          ],
          [
           "conroe"
          ],
          [
           "ogden"
          ],
          [
           "linden"
          ],
          [
           "jacksonville"
          ],
          [
           "goleta"
          ],
          [
           "moreno valley"
          ],
          [
           "storrs"
          ],
          [
           "royal oak"
          ],
          [
           "upper darby"
          ],
          [
           "clearwater"
          ],
          [
           "mcdonough"
          ],
          [
           "centereach"
          ],
          [
           "west palm beach"
          ],
          [
           "redlands"
          ],
          [
           "huntington beach"
          ],
          [
           "commerce city"
          ],
          [
           "macomb"
          ],
          [
           "fort lauderdale"
          ],
          [
           "cliffwood"
          ],
          [
           "oak park"
          ],
          [
           "apopka"
          ],
          [
           "montgomery"
          ],
          [
           "mayfield heights"
          ],
          [
           "conshohocken"
          ],
          [
           "burlington"
          ],
          [
           "fountain"
          ],
          [
           "ann arbor"
          ],
          [
           "durham"
          ],
          [
           "st petersburg"
          ],
          [
           "shirley"
          ],
          [
           "scottsdale"
          ],
          [
           "andrews"
          ],
          [
           "mountain view"
          ],
          [
           "warren"
          ],
          [
           "angleton"
          ],
          [
           "midvale"
          ],
          [
           "palm desert"
          ],
          [
           "kissimmee"
          ],
          [
           "atlanta"
          ],
          [
           "sandy"
          ],
          [
           "elyria"
          ],
          [
           "schiller park"
          ],
          [
           "alexandria"
          ],
          [
           "hendersonville"
          ],
          [
           "antioch"
          ],
          [
           "romeoville"
          ],
          [
           "pacifica"
          ],
          [
           "plano"
          ],
          [
           "waukesha"
          ],
          [
           "new york"
          ],
          [
           "indianapolis"
          ],
          [
           "lompoc"
          ],
          [
           "san luis obispo"
          ],
          [
           "chattanooga"
          ],
          [
           "new lenox"
          ],
          [
           "foster city"
          ],
          [
           "plainfield"
          ],
          [
           "grandview"
          ],
          [
           "rochelle park"
          ],
          [
           "raytown"
          ],
          [
           "lindenhurst"
          ],
          [
           "taylor"
          ],
          [
           "clementon"
          ],
          [
           "thousand oaks"
          ],
          [
           "lockport"
          ],
          [
           "jamaica"
          ],
          [
           "conyers"
          ],
          [
           "poulsbo"
          ],
          [
           "birmingham"
          ],
          [
           "logan"
          ],
          [
           "maryville"
          ],
          [
           "ridgecrest"
          ],
          [
           "beaverton"
          ],
          [
           "garner"
          ],
          [
           "hemet"
          ]
         ],
         "hovertemplate": "STORE_NUMBER=%{x}<br>TRANS_DIFF=%{y}<br>CITY_NAME=%{customdata[0]}<extra></extra>",
         "legendgroup": "",
         "marker": {
          "color": "#636efa",
          "symbol": "circle"
         },
         "mode": "markers",
         "name": "",
         "orientation": "v",
         "showlegend": false,
         "type": "scatter",
         "x": [
          16995,
          13681,
          11966,
          9168,
          6856,
          5142,
          6856,
          5340,
          4822,
          4479,
          3428,
          3428,
          3428,
          3428,
          3428,
          3428,
          1714,
          3428,
          3428,
          1714,
          3428,
          1714,
          1714,
          3428,
          1714,
          3835,
          1714,
          3428,
          1714,
          3428,
          3428,
          1714,
          3823,
          1714,
          3428,
          3171,
          1714,
          1714,
          3395,
          1714,
          1714,
          1714,
          1714,
          1714,
          1714,
          1714,
          1714,
          1835,
          1714,
          1714,
          1714,
          1714,
          1714,
          1736,
          1714,
          1714,
          1714,
          1714,
          1714,
          1714,
          1714,
          1714,
          1714,
          1714,
          1714,
          1714,
          1714,
          1714,
          1714,
          1714,
          1714,
          2821,
          1714,
          1714,
          1714,
          1714,
          1714,
          1714,
          1714,
          1714,
          1714,
          1714,
          1714,
          1714,
          1714,
          1714,
          1714,
          1714,
          2444,
          1714,
          1714,
          1714,
          1714,
          1714,
          1714,
          1714,
          1714,
          1714,
          1714,
          1632,
          1714,
          1714,
          1714,
          1714,
          1714,
          1714,
          1714,
          1714,
          1757,
          1714,
          1714,
          1714,
          1714,
          1714,
          1714,
          1714,
          1714,
          1714,
          1714,
          1714,
          1485,
          1714,
          1714,
          1714,
          1555,
          1714,
          1714,
          1714,
          1714,
          1714,
          1714,
          1555,
          1714,
          1714,
          1714,
          1714,
          1714,
          1714,
          1714,
          1714,
          1714,
          1714,
          1714,
          1714,
          1714,
          1714,
          1714,
          1714,
          1714,
          1714,
          1714,
          1714,
          1714,
          1464,
          1714,
          1714,
          1695,
          1714,
          1714,
          1714,
          1714,
          1714,
          1714,
          1714,
          1714,
          1261,
          1714,
          1714,
          1261,
          1714,
          1352,
          1714,
          1714,
          1714,
          1714,
          1714,
          1714,
          1714,
          1714,
          1714,
          1714,
          1646,
          1714,
          1714,
          1499,
          1714,
          1715,
          1714,
          1058,
          1714,
          1590,
          1714,
          1714,
          1702,
          2814,
          1841,
          1714,
          1714,
          1478,
          1714,
          1220,
          986,
          1714,
          1714,
          1714,
          1714,
          1871,
          1394,
          1997,
          1282,
          904,
          505,
          386,
          1030,
          926,
          974,
          428,
          1345,
          911,
          743,
          372,
          2291,
          428,
          617,
          389,
          1422,
          1205,
          1324,
          806,
          1086,
          918,
          1394,
          981,
          351,
          582,
          1443,
          463,
          470,
          442,
          253,
          1289,
          239,
          1254,
          421,
          638,
          309,
          1303,
          848,
          449,
          778,
          568,
          330,
          645,
          687,
          365,
          561,
          288,
          764,
          344,
          491,
          344,
          295,
          498,
          491,
          554,
          57,
          190,
          246,
          27,
          1212,
          1714,
          281,
          176,
          43,
          127,
          1,
          1,
          806,
          148,
          1331,
          43,
          617,
          148,
          1072,
          1191,
          645,
          533,
          22,
          190,
          1191,
          1023,
          918,
          918
         ],
         "xaxis": "x",
         "y": [
          695296,
          676343,
          619140,
          526040,
          411221,
          292539,
          274687,
          266234,
          240166,
          216715,
          212031,
          208350,
          205560,
          195897,
          189389,
          186978,
          185692,
          183705,
          182874,
          179733,
          179589,
          175295,
          172229,
          169540,
          166287,
          162498,
          158348,
          155090,
          149002,
          148543,
          146125,
          142984,
          142836,
          141777,
          140993,
          135710,
          132565,
          131390,
          130751,
          127415,
          127083,
          126690,
          125959,
          124754,
          123016,
          122699,
          122480,
          121736,
          120002,
          119115,
          118867,
          118834,
          116467,
          116074,
          114951,
          113868,
          113275,
          113256,
          112893,
          111896,
          110387,
          109724,
          107862,
          107270,
          107128,
          104207,
          102449,
          102333,
          101825,
          101023,
          101022,
          100724,
          100437,
          99874,
          99716,
          98148,
          97898,
          97880,
          97199,
          95687,
          95671,
          95174,
          94835,
          94763,
          93999,
          92881,
          92818,
          92759,
          92047,
          91271,
          90630,
          90286,
          90024,
          89927,
          89837,
          89742,
          89402,
          87970,
          87145,
          85900,
          85775,
          83965,
          83937,
          83937,
          83860,
          83448,
          82767,
          82702,
          82698,
          82588,
          81545,
          80432,
          79740,
          78807,
          78776,
          78448,
          78210,
          77865,
          77460,
          77155,
          77153,
          77128,
          77124,
          76499,
          76312,
          76034,
          75628,
          75334,
          75105,
          75025,
          74928,
          74484,
          74391,
          72950,
          72927,
          72873,
          72565,
          72558,
          72179,
          71864,
          71533,
          71173,
          70927,
          70609,
          70046,
          68852,
          67884,
          67557,
          67071,
          66967,
          66927,
          66748,
          66221,
          66206,
          65302,
          65203,
          64979,
          64023,
          63923,
          63205,
          63130,
          62955,
          62776,
          62679,
          62245,
          61792,
          61561,
          61107,
          60994,
          60516,
          60384,
          60274,
          58546,
          58473,
          58397,
          58026,
          57595,
          57495,
          56739,
          56658,
          56188,
          54812,
          54383,
          54274,
          53982,
          53970,
          52634,
          52122,
          50702,
          50631,
          50005,
          48219,
          47643,
          47100,
          47042,
          46074,
          45906,
          45241,
          45090,
          44686,
          44358,
          43015,
          42611,
          39774,
          37993,
          36694,
          33810,
          33547,
          30711,
          28829,
          28768,
          26008,
          24768,
          23296,
          20229,
          19369,
          19328,
          18133,
          18099,
          17904,
          17862,
          17692,
          17569,
          16604,
          16494,
          16407,
          16293,
          15994,
          15984,
          15816,
          14847,
          14533,
          14506,
          13778,
          13230,
          12148,
          11869,
          11549,
          11367,
          11198,
          10859,
          10581,
          10524,
          10399,
          10359,
          10034,
          10012,
          9466,
          8208,
          7982,
          7279,
          6898,
          6728,
          6683,
          6554,
          5982,
          5730,
          5386,
          4470,
          3465,
          3430,
          3418,
          3195,
          2883,
          2770,
          2141,
          2112,
          1870,
          1727,
          1159,
          1104,
          413,
          292,
          152,
          55,
          49,
          -17,
          -17,
          -26,
          -203,
          -697,
          -765,
          -1193,
          -1347,
          -1863,
          -2055,
          -2362,
          -2512,
          -5083,
          -10568,
          -22400,
          -24059,
          -46686
         ],
         "yaxis": "y"
        }
       ],
       "layout": {
        "legend": {
         "tracegroupgap": 0
        },
        "margin": {
         "t": 60
        },
        "shapes": [
         {
          "type": "line",
          "x0": 0,
          "x1": 1,
          "xref": "x domain",
          "y0": 0,
          "y1": 0,
          "yref": "y"
         }
        ],
        "template": {
         "data": {
          "bar": [
           {
            "error_x": {
             "color": "#2a3f5f"
            },
            "error_y": {
             "color": "#2a3f5f"
            },
            "marker": {
             "line": {
              "color": "#E5ECF6",
              "width": 0.5
             },
             "pattern": {
              "fillmode": "overlay",
              "size": 10,
              "solidity": 0.2
             }
            },
            "type": "bar"
           }
          ],
          "barpolar": [
           {
            "marker": {
             "line": {
              "color": "#E5ECF6",
              "width": 0.5
             },
             "pattern": {
              "fillmode": "overlay",
              "size": 10,
              "solidity": 0.2
             }
            },
            "type": "barpolar"
           }
          ],
          "carpet": [
           {
            "aaxis": {
             "endlinecolor": "#2a3f5f",
             "gridcolor": "white",
             "linecolor": "white",
             "minorgridcolor": "white",
             "startlinecolor": "#2a3f5f"
            },
            "baxis": {
             "endlinecolor": "#2a3f5f",
             "gridcolor": "white",
             "linecolor": "white",
             "minorgridcolor": "white",
             "startlinecolor": "#2a3f5f"
            },
            "type": "carpet"
           }
          ],
          "choropleth": [
           {
            "colorbar": {
             "outlinewidth": 0,
             "ticks": ""
            },
            "type": "choropleth"
           }
          ],
          "contour": [
           {
            "colorbar": {
             "outlinewidth": 0,
             "ticks": ""
            },
            "colorscale": [
             [
              0,
              "#0d0887"
             ],
             [
              0.1111111111111111,
              "#46039f"
             ],
             [
              0.2222222222222222,
              "#7201a8"
             ],
             [
              0.3333333333333333,
              "#9c179e"
             ],
             [
              0.4444444444444444,
              "#bd3786"
             ],
             [
              0.5555555555555556,
              "#d8576b"
             ],
             [
              0.6666666666666666,
              "#ed7953"
             ],
             [
              0.7777777777777778,
              "#fb9f3a"
             ],
             [
              0.8888888888888888,
              "#fdca26"
             ],
             [
              1,
              "#f0f921"
             ]
            ],
            "type": "contour"
           }
          ],
          "contourcarpet": [
           {
            "colorbar": {
             "outlinewidth": 0,
             "ticks": ""
            },
            "type": "contourcarpet"
           }
          ],
          "heatmap": [
           {
            "colorbar": {
             "outlinewidth": 0,
             "ticks": ""
            },
            "colorscale": [
             [
              0,
              "#0d0887"
             ],
             [
              0.1111111111111111,
              "#46039f"
             ],
             [
              0.2222222222222222,
              "#7201a8"
             ],
             [
              0.3333333333333333,
              "#9c179e"
             ],
             [
              0.4444444444444444,
              "#bd3786"
             ],
             [
              0.5555555555555556,
              "#d8576b"
             ],
             [
              0.6666666666666666,
              "#ed7953"
             ],
             [
              0.7777777777777778,
              "#fb9f3a"
             ],
             [
              0.8888888888888888,
              "#fdca26"
             ],
             [
              1,
              "#f0f921"
             ]
            ],
            "type": "heatmap"
           }
          ],
          "heatmapgl": [
           {
            "colorbar": {
             "outlinewidth": 0,
             "ticks": ""
            },
            "colorscale": [
             [
              0,
              "#0d0887"
             ],
             [
              0.1111111111111111,
              "#46039f"
             ],
             [
              0.2222222222222222,
              "#7201a8"
             ],
             [
              0.3333333333333333,
              "#9c179e"
             ],
             [
              0.4444444444444444,
              "#bd3786"
             ],
             [
              0.5555555555555556,
              "#d8576b"
             ],
             [
              0.6666666666666666,
              "#ed7953"
             ],
             [
              0.7777777777777778,
              "#fb9f3a"
             ],
             [
              0.8888888888888888,
              "#fdca26"
             ],
             [
              1,
              "#f0f921"
             ]
            ],
            "type": "heatmapgl"
           }
          ],
          "histogram": [
           {
            "marker": {
             "pattern": {
              "fillmode": "overlay",
              "size": 10,
              "solidity": 0.2
             }
            },
            "type": "histogram"
           }
          ],
          "histogram2d": [
           {
            "colorbar": {
             "outlinewidth": 0,
             "ticks": ""
            },
            "colorscale": [
             [
              0,
              "#0d0887"
             ],
             [
              0.1111111111111111,
              "#46039f"
             ],
             [
              0.2222222222222222,
              "#7201a8"
             ],
             [
              0.3333333333333333,
              "#9c179e"
             ],
             [
              0.4444444444444444,
              "#bd3786"
             ],
             [
              0.5555555555555556,
              "#d8576b"
             ],
             [
              0.6666666666666666,
              "#ed7953"
             ],
             [
              0.7777777777777778,
              "#fb9f3a"
             ],
             [
              0.8888888888888888,
              "#fdca26"
             ],
             [
              1,
              "#f0f921"
             ]
            ],
            "type": "histogram2d"
           }
          ],
          "histogram2dcontour": [
           {
            "colorbar": {
             "outlinewidth": 0,
             "ticks": ""
            },
            "colorscale": [
             [
              0,
              "#0d0887"
             ],
             [
              0.1111111111111111,
              "#46039f"
             ],
             [
              0.2222222222222222,
              "#7201a8"
             ],
             [
              0.3333333333333333,
              "#9c179e"
             ],
             [
              0.4444444444444444,
              "#bd3786"
             ],
             [
              0.5555555555555556,
              "#d8576b"
             ],
             [
              0.6666666666666666,
              "#ed7953"
             ],
             [
              0.7777777777777778,
              "#fb9f3a"
             ],
             [
              0.8888888888888888,
              "#fdca26"
             ],
             [
              1,
              "#f0f921"
             ]
            ],
            "type": "histogram2dcontour"
           }
          ],
          "mesh3d": [
           {
            "colorbar": {
             "outlinewidth": 0,
             "ticks": ""
            },
            "type": "mesh3d"
           }
          ],
          "parcoords": [
           {
            "line": {
             "colorbar": {
              "outlinewidth": 0,
              "ticks": ""
             }
            },
            "type": "parcoords"
           }
          ],
          "pie": [
           {
            "automargin": true,
            "type": "pie"
           }
          ],
          "scatter": [
           {
            "fillpattern": {
             "fillmode": "overlay",
             "size": 10,
             "solidity": 0.2
            },
            "type": "scatter"
           }
          ],
          "scatter3d": [
           {
            "line": {
             "colorbar": {
              "outlinewidth": 0,
              "ticks": ""
             }
            },
            "marker": {
             "colorbar": {
              "outlinewidth": 0,
              "ticks": ""
             }
            },
            "type": "scatter3d"
           }
          ],
          "scattercarpet": [
           {
            "marker": {
             "colorbar": {
              "outlinewidth": 0,
              "ticks": ""
             }
            },
            "type": "scattercarpet"
           }
          ],
          "scattergeo": [
           {
            "marker": {
             "colorbar": {
              "outlinewidth": 0,
              "ticks": ""
             }
            },
            "type": "scattergeo"
           }
          ],
          "scattergl": [
           {
            "marker": {
             "colorbar": {
              "outlinewidth": 0,
              "ticks": ""
             }
            },
            "type": "scattergl"
           }
          ],
          "scattermapbox": [
           {
            "marker": {
             "colorbar": {
              "outlinewidth": 0,
              "ticks": ""
             }
            },
            "type": "scattermapbox"
           }
          ],
          "scatterpolar": [
           {
            "marker": {
             "colorbar": {
              "outlinewidth": 0,
              "ticks": ""
             }
            },
            "type": "scatterpolar"
           }
          ],
          "scatterpolargl": [
           {
            "marker": {
             "colorbar": {
              "outlinewidth": 0,
              "ticks": ""
             }
            },
            "type": "scatterpolargl"
           }
          ],
          "scatterternary": [
           {
            "marker": {
             "colorbar": {
              "outlinewidth": 0,
              "ticks": ""
             }
            },
            "type": "scatterternary"
           }
          ],
          "surface": [
           {
            "colorbar": {
             "outlinewidth": 0,
             "ticks": ""
            },
            "colorscale": [
             [
              0,
              "#0d0887"
             ],
             [
              0.1111111111111111,
              "#46039f"
             ],
             [
              0.2222222222222222,
              "#7201a8"
             ],
             [
              0.3333333333333333,
              "#9c179e"
             ],
             [
              0.4444444444444444,
              "#bd3786"
             ],
             [
              0.5555555555555556,
              "#d8576b"
             ],
             [
              0.6666666666666666,
              "#ed7953"
             ],
             [
              0.7777777777777778,
              "#fb9f3a"
             ],
             [
              0.8888888888888888,
              "#fdca26"
             ],
             [
              1,
              "#f0f921"
             ]
            ],
            "type": "surface"
           }
          ],
          "table": [
           {
            "cells": {
             "fill": {
              "color": "#EBF0F8"
             },
             "line": {
              "color": "white"
             }
            },
            "header": {
             "fill": {
              "color": "#C8D4E3"
             },
             "line": {
              "color": "white"
             }
            },
            "type": "table"
           }
          ]
         },
         "layout": {
          "annotationdefaults": {
           "arrowcolor": "#2a3f5f",
           "arrowhead": 0,
           "arrowwidth": 1
          },
          "autotypenumbers": "strict",
          "coloraxis": {
           "colorbar": {
            "outlinewidth": 0,
            "ticks": ""
           }
          },
          "colorscale": {
           "diverging": [
            [
             0,
             "#8e0152"
            ],
            [
             0.1,
             "#c51b7d"
            ],
            [
             0.2,
             "#de77ae"
            ],
            [
             0.3,
             "#f1b6da"
            ],
            [
             0.4,
             "#fde0ef"
            ],
            [
             0.5,
             "#f7f7f7"
            ],
            [
             0.6,
             "#e6f5d0"
            ],
            [
             0.7,
             "#b8e186"
            ],
            [
             0.8,
             "#7fbc41"
            ],
            [
             0.9,
             "#4d9221"
            ],
            [
             1,
             "#276419"
            ]
           ],
           "sequential": [
            [
             0,
             "#0d0887"
            ],
            [
             0.1111111111111111,
             "#46039f"
            ],
            [
             0.2222222222222222,
             "#7201a8"
            ],
            [
             0.3333333333333333,
             "#9c179e"
            ],
            [
             0.4444444444444444,
             "#bd3786"
            ],
            [
             0.5555555555555556,
             "#d8576b"
            ],
            [
             0.6666666666666666,
             "#ed7953"
            ],
            [
             0.7777777777777778,
             "#fb9f3a"
            ],
            [
             0.8888888888888888,
             "#fdca26"
            ],
            [
             1,
             "#f0f921"
            ]
           ],
           "sequentialminus": [
            [
             0,
             "#0d0887"
            ],
            [
             0.1111111111111111,
             "#46039f"
            ],
            [
             0.2222222222222222,
             "#7201a8"
            ],
            [
             0.3333333333333333,
             "#9c179e"
            ],
            [
             0.4444444444444444,
             "#bd3786"
            ],
            [
             0.5555555555555556,
             "#d8576b"
            ],
            [
             0.6666666666666666,
             "#ed7953"
            ],
            [
             0.7777777777777778,
             "#fb9f3a"
            ],
            [
             0.8888888888888888,
             "#fdca26"
            ],
            [
             1,
             "#f0f921"
            ]
           ]
          },
          "colorway": [
           "#636efa",
           "#EF553B",
           "#00cc96",
           "#ab63fa",
           "#FFA15A",
           "#19d3f3",
           "#FF6692",
           "#B6E880",
           "#FF97FF",
           "#FECB52"
          ],
          "font": {
           "color": "#2a3f5f"
          },
          "geo": {
           "bgcolor": "white",
           "lakecolor": "white",
           "landcolor": "#E5ECF6",
           "showlakes": true,
           "showland": true,
           "subunitcolor": "white"
          },
          "hoverlabel": {
           "align": "left"
          },
          "hovermode": "closest",
          "mapbox": {
           "style": "light"
          },
          "paper_bgcolor": "white",
          "plot_bgcolor": "#E5ECF6",
          "polar": {
           "angularaxis": {
            "gridcolor": "white",
            "linecolor": "white",
            "ticks": ""
           },
           "bgcolor": "#E5ECF6",
           "radialaxis": {
            "gridcolor": "white",
            "linecolor": "white",
            "ticks": ""
           }
          },
          "scene": {
           "xaxis": {
            "backgroundcolor": "#E5ECF6",
            "gridcolor": "white",
            "gridwidth": 2,
            "linecolor": "white",
            "showbackground": true,
            "ticks": "",
            "zerolinecolor": "white"
           },
           "yaxis": {
            "backgroundcolor": "#E5ECF6",
            "gridcolor": "white",
            "gridwidth": 2,
            "linecolor": "white",
            "showbackground": true,
            "ticks": "",
            "zerolinecolor": "white"
           },
           "zaxis": {
            "backgroundcolor": "#E5ECF6",
            "gridcolor": "white",
            "gridwidth": 2,
            "linecolor": "white",
            "showbackground": true,
            "ticks": "",
            "zerolinecolor": "white"
           }
          },
          "shapedefaults": {
           "line": {
            "color": "#2a3f5f"
           }
          },
          "ternary": {
           "aaxis": {
            "gridcolor": "white",
            "linecolor": "white",
            "ticks": ""
           },
           "baxis": {
            "gridcolor": "white",
            "linecolor": "white",
            "ticks": ""
           },
           "bgcolor": "#E5ECF6",
           "caxis": {
            "gridcolor": "white",
            "linecolor": "white",
            "ticks": ""
           }
          },
          "title": {
           "x": 0.05
          },
          "xaxis": {
           "automargin": true,
           "gridcolor": "white",
           "linecolor": "white",
           "ticks": "",
           "title": {
            "standoff": 15
           },
           "zerolinecolor": "white",
           "zerolinewidth": 2
          },
          "yaxis": {
           "automargin": true,
           "gridcolor": "white",
           "linecolor": "white",
           "ticks": "",
           "title": {
            "standoff": 15
           },
           "zerolinecolor": "white",
           "zerolinewidth": 2
          }
         }
        },
        "xaxis": {
         "anchor": "y",
         "domain": [
          0,
          1
         ],
         "title": {
          "text": "STORE_NUMBER"
         }
        },
        "yaxis": {
         "anchor": "x",
         "domain": [
          0,
          1
         ],
         "title": {
          "text": "TRANS_DIFF"
         }
        }
       }
      }
     },
     "metadata": {},
     "output_type": "display_data"
    }
   ],
   "source": [
    "#To see which city need more shops we need to calculate the difference of transactions in the years\n",
    "\n",
    "trans_df = comp_df.groupby(['CITY_NAME']).agg({'STORE_NUMBER':'count','TRANSACTION_FINAL_COUNT':'sum','PY_TRANSACTION_FINAL_COUNT':'sum'}).reset_index()\n",
    "trans_df['TRANS_DIFF']= trans_df['TRANSACTION_FINAL_COUNT']-trans_df['PY_TRANSACTION_FINAL_COUNT']\n",
    "trans_df = trans_df.sort_values(by='TRANS_DIFF',ascending=False)\n",
    "fig = px.scatter(trans_df,'STORE_NUMBER','TRANS_DIFF',hover_data='CITY_NAME')\n",
    "fig.add_hline(y=0)\n",
    "fig.show()"
   ]
  },
  {
   "cell_type": "code",
   "execution_count": null,
   "metadata": {},
   "outputs": [],
   "source": []
  }
 ],
 "metadata": {
  "kernelspec": {
   "display_name": "Python 3 (ipykernel)",
   "language": "python",
   "name": "python3"
  },
  "language_info": {
   "codemirror_mode": {
    "name": "ipython",
    "version": 3
   },
   "file_extension": ".py",
   "mimetype": "text/x-python",
   "name": "python",
   "nbconvert_exporter": "python",
   "pygments_lexer": "ipython3",
   "version": "3.11.7"
  }
 },
 "nbformat": 4,
 "nbformat_minor": 2
}
